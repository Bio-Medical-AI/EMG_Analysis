{
 "cells": [
  {
   "cell_type": "code",
   "execution_count": 1,
   "metadata": {
    "collapsed": true,
    "pycharm": {
     "name": "#%%\n"
    }
   },
   "outputs": [
    {
     "name": "stderr",
     "output_type": "stream",
     "text": [
      "C:\\Users\\mateu\\anaconda3\\envs\\emg_2\\lib\\site-packages\\xgboost\\compat.py:36: FutureWarning: pandas.Int64Index is deprecated and will be removed from pandas in a future version. Use pandas.Index with the appropriate dtype instead.\n",
      "  from pandas import MultiIndex, Int64Index\n"
     ]
    }
   ],
   "source": [
    "from datasets.stored_dataframe import CapgMyoDataModule, MyoArmbandDataModule, NinaProDataModule\n",
    "from models import Classifier, OriginalModel\n",
    "import pytorch_lightning as pl\n",
    "from pytorch_lightning.loggers import WandbLogger\n",
    "import torch\n",
    "from pytorch_lightning.callbacks.early_stopping import EarlyStopping\n",
    "from torchvision.transforms import Compose, ToTensor, Normalize\n",
    "from models import LightningXGBClassifier\n",
    "import os\n",
    "from definitions import MODELS_FOLDER, ROOT_DIR\n",
    "import warnings\n",
    "from functools import partial\n",
    "from tqdm import tqdm\n",
    "import wandb\n",
    "warnings.simplefilter(action='ignore', category=FutureWarning)"
   ]
  },
  {
   "cell_type": "markdown",
   "source": [
    "## Chinese Experiment"
   ],
   "metadata": {
    "collapsed": false,
    "pycharm": {
     "name": "#%% md\n"
    }
   }
  },
  {
   "cell_type": "code",
   "execution_count": null,
   "outputs": [
    {
     "name": "stderr",
     "output_type": "stream",
     "text": [
      "Global seed set to 42\n",
      "  0%|          | 0/10 [00:00<?, ?it/s]\u001B[34m\u001B[1mwandb\u001B[0m: Currently logged in as: \u001B[33mgrigori200\u001B[0m. Use \u001B[1m`wandb login --relogin`\u001B[0m to force relogin\n"
     ]
    },
    {
     "data": {
      "text/plain": "<IPython.core.display.HTML object>",
      "text/html": "Tracking run with wandb version 0.13.1"
     },
     "metadata": {},
     "output_type": "display_data"
    },
    {
     "data": {
      "text/plain": "<IPython.core.display.HTML object>",
      "text/html": "Run data is saved locally in <code>wandb_logs\\wandb\\run-20221006_182632-3hoziu35</code>"
     },
     "metadata": {},
     "output_type": "display_data"
    },
    {
     "data": {
      "text/plain": "<IPython.core.display.HTML object>",
      "text/html": "Syncing run <strong><a href=\"https://wandb.ai/grigori200/EMG%20Armband/runs/3hoziu35\" target=\"_blank\">Chinese CapgMyo</a></strong> to <a href=\"https://wandb.ai/grigori200/EMG%20Armband\" target=\"_blank\">Weights & Biases</a> (<a href=\"https://wandb.me/run\" target=\"_blank\">docs</a>)<br/>"
     },
     "metadata": {},
     "output_type": "display_data"
    },
    {
     "name": "stderr",
     "output_type": "stream",
     "text": [
      "C:\\Users\\mateu\\anaconda3\\envs\\emg_2\\lib\\site-packages\\pytorch_lightning\\trainer\\connectors\\accelerator_connector.py:446: LightningDeprecationWarning: Setting `Trainer(gpus=-1)` is deprecated in v1.7 and will be removed in v2.0. Please use `Trainer(accelerator='gpu', devices=-1)` instead.\n",
      "  rank_zero_deprecation(\n",
      "GPU available: True (cuda), used: True\n",
      "TPU available: False, using: 0 TPU cores\n",
      "IPU available: False, using: 0 IPUs\n",
      "HPU available: False, using: 0 HPUs\n",
      "LOCAL_RANK: 0 - CUDA_VISIBLE_DEVICES: [0]\n",
      "\n",
      "  | Name      | Type             | Params\n",
      "-----------------------------------------------\n",
      "0 | model     | OriginalModel    | 4.6 M \n",
      "1 | criterion | CrossEntropyLoss | 0     \n",
      "-----------------------------------------------\n",
      "4.6 M     Trainable params\n",
      "0         Non-trainable params\n",
      "4.6 M     Total params\n",
      "18.291    Total estimated model params size (MB)\n"
     ]
    },
    {
     "data": {
      "text/plain": "Sanity Checking: 0it [00:00, ?it/s]",
      "application/vnd.jupyter.widget-view+json": {
       "version_major": 2,
       "version_minor": 0,
       "model_id": "ed5049fc75214a1580f9d1727cda5d30"
      }
     },
     "metadata": {},
     "output_type": "display_data"
    },
    {
     "data": {
      "text/plain": "Training: 0it [00:00, ?it/s]",
      "application/vnd.jupyter.widget-view+json": {
       "version_major": 2,
       "version_minor": 0,
       "model_id": "7c41203f96ba4f3290f7a379b0c53193"
      }
     },
     "metadata": {},
     "output_type": "display_data"
    },
    {
     "data": {
      "text/plain": "Validation: 0it [00:00, ?it/s]",
      "application/vnd.jupyter.widget-view+json": {
       "version_major": 2,
       "version_minor": 0,
       "model_id": "9a28183bb2344cebbf948e9fc1bfe689"
      }
     },
     "metadata": {},
     "output_type": "display_data"
    },
    {
     "data": {
      "text/plain": "Validation: 0it [00:00, ?it/s]",
      "application/vnd.jupyter.widget-view+json": {
       "version_major": 2,
       "version_minor": 0,
       "model_id": "7aaee8403c91467e8da6dc8f5765f2f9"
      }
     },
     "metadata": {},
     "output_type": "display_data"
    },
    {
     "data": {
      "text/plain": "Validation: 0it [00:00, ?it/s]",
      "application/vnd.jupyter.widget-view+json": {
       "version_major": 2,
       "version_minor": 0,
       "model_id": "efb3bc3de0ee4b19bd639422c3141664"
      }
     },
     "metadata": {},
     "output_type": "display_data"
    },
    {
     "name": "stderr",
     "output_type": "stream",
     "text": [
      "C:\\Users\\mateu\\anaconda3\\envs\\emg_2\\lib\\site-packages\\pytorch_lightning\\trainer\\trainer.py:653: UserWarning: Detected KeyboardInterrupt, attempting graceful shutdown...\n",
      "  rank_zero_warn(\"Detected KeyboardInterrupt, attempting graceful shutdown...\")\n",
      "Exception ignored in: <function _MultiProcessingDataLoaderIter.__del__ at 0x000001D7531256C0>\n",
      "Traceback (most recent call last):\n",
      "  File \"C:\\Users\\mateu\\anaconda3\\envs\\emg_2\\lib\\site-packages\\torch\\utils\\data\\dataloader.py\", line 1510, in __del__\n",
      "    self._shutdown_workers()\n",
      "  File \"C:\\Users\\mateu\\anaconda3\\envs\\emg_2\\lib\\site-packages\\torch\\utils\\data\\dataloader.py\", line 1468, in _shutdown_workers\n",
      "    if self._persistent_workers or self._workers_status[worker_id]:\n",
      "AttributeError: '_MultiProcessingDataLoaderIter' object has no attribute '_workers_status'\n",
      "C:\\Users\\mateu\\anaconda3\\envs\\emg_2\\lib\\site-packages\\pytorch_lightning\\trainer\\trainer.py:653: UserWarning: Detected KeyboardInterrupt, attempting graceful shutdown...\n",
      "  rank_zero_warn(\"Detected KeyboardInterrupt, attempting graceful shutdown...\")\n",
      "  0%|          | 0/10 [14:11<?, ?it/s]\n"
     ]
    }
   ],
   "source": [
    "pl.seed_everything(42, workers=True)\n",
    "k_folds = 10\n",
    "lr_lambda=lambda epoch: 1 if epoch<16 else 0.1 if epoch<24 else 0.01\n",
    "data_module_capgmyo = CapgMyoDataModule(\n",
    "    batch_size=1000,\n",
    "    k_folds=10\n",
    ")\n",
    "parameters = data_module_capgmyo.get_data_parameters()\n",
    "lr_scheduler = torch.optim.lr_scheduler.LambdaLR\n",
    "optimizer = torch.optim.RAdam\n",
    "partial_classifier = partial(Classifier, optimizer=optimizer, lr_scheduler=lr_scheduler, optim_kwargs={'lr': 0.001, 'weight_decay': 0.0001}, monitor='val_accuracy', lr_lambda=lr_lambda)\n",
    "for k in tqdm(range(k_folds)):\n",
    "    classifier = partial_classifier(OriginalModel(parameters['num_classes'], parameters['input_width'], parameters['input_height']), fold=k)\n",
    "    logger_capgmyo_chinese = WandbLogger(project=\"EMG Armband\", name=\"Chinese CapgMyo\", save_dir='wandb_logs')\n",
    "    trainer_capgmyo_chinese = pl.Trainer(gpus=-1, max_epochs=28, logger=logger_capgmyo_chinese, accelerator=\"gpu\")\n",
    "    trainer_capgmyo_chinese.fit(model=classifier, datamodule=data_module_capgmyo)\n",
    "    trainer_capgmyo_chinese.test(model=classifier, datamodule=data_module_capgmyo)\n",
    "    wandb.finish()\n",
    "    torch.save(classifier.model.state_dict(), os.path.join(MODELS_FOLDER, f'chinese_capgmyo_{k}_fold.pt'))\n",
    "    data_module_capgmyo.next_fold()"
   ],
   "metadata": {
    "collapsed": false,
    "pycharm": {
     "name": "#%%\n",
     "is_executing": true
    }
   }
  },
  {
   "cell_type": "markdown",
   "source": [
    "## CapgMyo Experiment"
   ],
   "metadata": {
    "collapsed": false,
    "pycharm": {
     "name": "#%% md\n"
    }
   }
  },
  {
   "cell_type": "code",
   "execution_count": null,
   "outputs": [],
   "source": [
    "pl.seed_everything(42, workers=True)\n",
    "k_folds = 10\n",
    "data_module_capgmyo = CapgMyoDataModule(\n",
    "    batch_size=1000,\n",
    "    k_folds=10\n",
    ")\n",
    "parameters = data_module_capgmyo.get_data_parameters()\n",
    "early_stop_callback = EarlyStopping(monitor='val_accuracy', patience=7, mode='max')\n",
    "partial_classifier = partial(Classifier, optim_kwargs={'lr': 0.001, 'weight_decay': 0.0001}, monitor='val_accuracy', sched_kwargs={'patience': 4, 'mode': 'max'})\n",
    "for k in tqdm(range(k_folds)):\n",
    "    classifier = partial_classifier(OriginalModel(parameters['num_classes'], parameters['input_width'], parameters['input_height']), fold=k)\n",
    "    logger_capgmyo = WandbLogger(project=\"EMG Armband\", name=\"CapgMyo\", save_dir='wandb_logs')\n",
    "    trainer_capgmyo = pl.Trainer(gpus=-1, max_epochs=100, logger=logger_capgmyo, accelerator=\"gpu\", callbacks=[early_stop_callback])\n",
    "    trainer_capgmyo.fit(model=classifier, datamodule=data_module_capgmyo)\n",
    "    trainer_capgmyo.test(model=classifier, datamodule=data_module_capgmyo)\n",
    "    wandb.finish()\n",
    "    torch.save(classifier.model.state_dict(), os.path.join(MODELS_FOLDER, f'capgmyo_{k}_fold.pt'))\n",
    "    data_module_capgmyo.next_fold()"
   ],
   "metadata": {
    "collapsed": false,
    "pycharm": {
     "name": "#%%\n"
    }
   }
  },
  {
   "cell_type": "markdown",
   "source": [
    "## Ninapro Experiment"
   ],
   "metadata": {
    "collapsed": false,
    "pycharm": {
     "name": "#%% md\n"
    }
   }
  },
  {
   "cell_type": "code",
   "execution_count": null,
   "outputs": [],
   "source": [
    "pl.seed_everything(42, workers=True)\n",
    "k_folds = 10\n",
    "data_module_ninapro = NinaProDataModule(\n",
    "    batch_size=1000,\n",
    "    k_folds=10\n",
    ")\n",
    "parameters = data_module_ninapro.get_data_parameters()\n",
    "logger_ninapro = WandbLogger(project=\"EMG Armband\", name=\"NinaPro\")\n",
    "early_stop_callback = EarlyStopping(monitor='val_accuracy', patience=7, mode='max')\n",
    "partial_classifier = partial(Classifier, optim_kwargs={'lr': 0.001, 'weight_decay': 0.0001}, monitor='val_accuracy', sched_kwargs={'patience': 4, 'mode': 'max'})\n",
    "for k in tqdm(range(k_folds)):\n",
    "    classifier = partial_classifier(OriginalModel(parameters['num_classes'], parameters['input_width'], parameters['input_height']), fold=k)\n",
    "    logger_ninapro = WandbLogger(project=\"EMG Armband\", name=\"NinaPro\", save_dir='wandb_logs')\n",
    "    trainer_ninapro = pl.Trainer(gpus=-1, max_epochs=100, logger=logger_ninapro, accelerator=\"gpu\", callbacks=[early_stop_callback])\n",
    "    trainer_ninapro.fit(model=classifier, datamodule=data_module_ninapro)\n",
    "    trainer_ninapro.test(model=classifier, datamodule=data_module_ninapro)\n",
    "    wandb.finish()\n",
    "    torch.save(classifier.model.state_dict(), os.path.join(MODELS_FOLDER, f'ninapro_{k}_fold.pt'))\n",
    "    data_module_ninapro.next_fold()"
   ],
   "metadata": {
    "collapsed": false,
    "pycharm": {
     "name": "#%%\n"
    }
   }
  },
  {
   "cell_type": "markdown",
   "source": [
    "## MyoArmband Experiment"
   ],
   "metadata": {
    "collapsed": false,
    "pycharm": {
     "name": "#%% md\n"
    }
   }
  },
  {
   "cell_type": "code",
   "execution_count": null,
   "outputs": [],
   "source": [
    "pl.seed_everything(42, workers=True)\n",
    "transform = Compose([\n",
    "    ToTensor(),\n",
    "    Normalize(0, 1)\n",
    "])\n",
    "data_module_myoarmband = MyoArmbandDataModule(\n",
    "    batch_size=10000,\n",
    "    num_workers=8,\n",
    "    train_transforms=transform,\n",
    "    val_transforms=transform,\n",
    "    test_transforms=transform,\n",
    ")\n",
    "parameters = data_module_myoarmband.get_data_parameters()\n",
    "early_stop_callback = EarlyStopping(monitor='val_accuracy', patience=7, mode='max')\n",
    "partial_classifier = partial(Classifier, optim_kwargs={'lr': 0.001, 'weight_decay': 0.0001}, monitor='val_accuracy', sched_kwargs={'patience': 4, 'mode': 'max'})\n",
    "for k in tqdm(range(k_folds)):\n",
    "    classifier = partial_classifier(OriginalModel(parameters['num_classes'], parameters['input_width'], parameters['input_height']), fold=k)\n",
    "    logger_myoarmband = WandbLogger(project=\"EMG Armband\", name=\"MyoArmband\", save_dir='wandb_logs')\n",
    "    trainer_myoarmband = pl.Trainer(gpus=-1, max_epochs=100, logger=logger_myoarmband, accelerator=\"gpu\", callbacks=[early_stop_callback])\n",
    "    trainer_myoarmband.fit(model=classifier, datamodule=data_module_myoarmband)\n",
    "    trainer_myoarmband.test(model=classifier, datamodule=data_module_myoarmband)\n",
    "    wandb.finish()\n",
    "    torch.save(classifier.model.state_dict(), os.path.join(MODELS_FOLDER, f'myoarmband_{k}_fold.pt'))\n",
    "    data_module_myoarmband.next_fold()"
   ],
   "metadata": {
    "collapsed": false,
    "pycharm": {
     "name": "#%%\n"
    }
   }
  },
  {
   "cell_type": "markdown",
   "source": [
    "## XGB Experiments"
   ],
   "metadata": {
    "collapsed": false,
    "pycharm": {
     "name": "#%% md\n"
    }
   }
  },
  {
   "cell_type": "markdown",
   "source": [
    "#### XGB CapgMyo"
   ],
   "metadata": {
    "collapsed": false,
    "pycharm": {
     "name": "#%% md\n"
    }
   }
  },
  {
   "cell_type": "code",
   "execution_count": null,
   "outputs": [],
   "source": [
    "data_module_xgb = CapgMyoDataModule(\n",
    "    batch_size=1000,\n",
    "    num_workers=3\n",
    ")\n",
    "parameters = data_module_xgb.get_data_parameters()\n",
    "model = OriginalModel(parameters['num_classes'], parameters['input_width'], parameters['input_height'])\n",
    "adjusted_model = model.load_state_dict(torch.load(os.path.join(MODELS_FOLDER, f'capgmyo_0_fold.pt')))\n",
    "adjusted_model.model = adjusted_model.model[0:26]\n",
    "partial_classifier = partial(LightningXGBClassifier, adjusted_model, data_module_xgb.num_classes, monitor='val_accuracy')\n",
    "for k in tqdm(range(k_folds)):\n",
    "    classifier = partial_classifier(OriginalModel(parameters['num_classes'], parameters['input_width'], parameters['input_height']), fold=k)\n",
    "    logger_xgb = WandbLogger(project=\"EMG Armband\", name=\"CapgMyoXGB\", save_dir='wandb_logs')\n",
    "    trainer_xgb = pl.Trainer(max_epochs=2, accelerator=\"cpu\", logger=logger_xgb, num_sanity_val_steps=0)\n",
    "    trainer_xgb.fit(model=classifier, datamodule=data_module_xgb)\n",
    "    trainer_xgb.test(model=classifier, datamodule=data_module_xgb)\n",
    "    wandb.finish()\n",
    "    classifier.xgbmodel.save_model(os.path.join(MODELS_FOLDER, f'xgb_capgmyo_{k}_fold.json'))\n",
    "    data_module_xgb.next_fold()"
   ],
   "metadata": {
    "collapsed": false,
    "pycharm": {
     "name": "#%%\n"
    }
   }
  },
  {
   "cell_type": "markdown",
   "source": [
    "#### XGB Ninapro"
   ],
   "metadata": {
    "collapsed": false,
    "pycharm": {
     "name": "#%% md\n"
    }
   }
  },
  {
   "cell_type": "code",
   "execution_count": null,
   "outputs": [],
   "source": [
    "data_module_xgb = NinaProDataModule(\n",
    "    batch_size=1000,\n",
    "    num_workers=3\n",
    ")\n",
    "parameters = data_module_xgb.get_data_parameters()\n",
    "model = OriginalModel(parameters['num_classes'], parameters['input_width'], parameters['input_height'])\n",
    "adjusted_model = model.load_state_dict(torch.load(os.path.join(MODELS_FOLDER, f'ninapro_0_fold.pt')))\n",
    "adjusted_model.model = adjusted_model.model[0:26]\n",
    "partial_classifier = partial(LightningXGBClassifier, adjusted_model, data_module_xgb.num_classes, monitor='val_accuracy')\n",
    "for k in tqdm(range(k_folds)):\n",
    "    classifier = partial_classifier(OriginalModel(parameters['num_classes'], parameters['input_width'], parameters['input_height']), fold=k)\n",
    "    logger_xgb = WandbLogger(project=\"EMG Armband\", name=\"NinaproXGB\", save_dir='wandb_logs')\n",
    "    trainer_xgb = pl.Trainer(max_epochs=2, accelerator=\"cpu\", logger=logger_xgb, num_sanity_val_steps=0)\n",
    "    trainer_xgb.fit(model=classifier, datamodule=data_module_xgb)\n",
    "    trainer_xgb.test(model=classifier, datamodule=data_module_xgb)\n",
    "    wandb.finish()\n",
    "    classifier.xgbmodel.save_model(os.path.join(MODELS_FOLDER, f'xgb_ninapro_{k}_fold.json'))\n",
    "    data_module_xgb.next_fold()"
   ],
   "metadata": {
    "collapsed": false,
    "pycharm": {
     "name": "#%%\n"
    }
   }
  },
  {
   "cell_type": "markdown",
   "source": [
    "#### XGB MyoArmband"
   ],
   "metadata": {
    "collapsed": false,
    "pycharm": {
     "name": "#%% md\n"
    }
   }
  },
  {
   "cell_type": "code",
   "execution_count": null,
   "outputs": [],
   "source": [
    "data_module_xgb = MyoArmbandDataModule(\n",
    "    batch_size=1000,\n",
    "    num_workers=3\n",
    ")\n",
    "parameters = data_module_xgb.get_data_parameters()\n",
    "model = OriginalModel(parameters['num_classes'], parameters['input_width'], parameters['input_height'])\n",
    "adjusted_model = model.load_state_dict(torch.load(os.path.join(MODELS_FOLDER, f'myoarmband_0_fold.pt')))\n",
    "adjusted_model.model = adjusted_model.model[0:26]\n",
    "partial_classifier = partial(LightningXGBClassifier, adjusted_model, data_module_xgb.num_classes, monitor='val_accuracy')\n",
    "for k in tqdm(range(k_folds)):\n",
    "    classifier = partial_classifier(OriginalModel(parameters['num_classes'], parameters['input_width'], parameters['input_height']), fold=k)\n",
    "    logger_xgb = WandbLogger(project=\"EMG Armband\", name=\"MyoArmbandXGB\", save_dir='wandb_logs')\n",
    "    trainer_xgb = pl.Trainer(max_epochs=2, accelerator=\"cpu\", logger=logger_xgb, num_sanity_val_steps=0)\n",
    "    trainer_xgb.fit(model=classifier, datamodule=data_module_xgb)\n",
    "    trainer_xgb.test(model=classifier, datamodule=data_module_xgb)\n",
    "    wandb.finish()\n",
    "    classifier.xgbmodel.save_model(os.path.join(MODELS_FOLDER, f'xgb_myoarmband_{k}_fold.json'))\n",
    "    data_module_xgb.next_fold()"
   ],
   "metadata": {
    "collapsed": false,
    "pycharm": {
     "name": "#%%\n"
    }
   }
  }
 ],
 "metadata": {
  "kernelspec": {
   "display_name": "Python 3",
   "language": "python",
   "name": "python3"
  },
  "language_info": {
   "codemirror_mode": {
    "name": "ipython",
    "version": 2
   },
   "file_extension": ".py",
   "mimetype": "text/x-python",
   "name": "python",
   "nbconvert_exporter": "python",
   "pygments_lexer": "ipython2",
   "version": "2.7.6"
  }
 },
 "nbformat": 4,
 "nbformat_minor": 0
}