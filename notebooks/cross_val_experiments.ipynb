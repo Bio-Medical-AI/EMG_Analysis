{
 "cells": [
  {
   "cell_type": "code",
   "execution_count": null,
   "outputs": [],
   "source": [
    "from datasets.stored_dataframe import CapgMyoDataModule, MyoArmbandDataModule, NinaProDataModule\n",
    "from models import Classifier, OriginalModel\n",
    "import pytorch_lightning as pl\n",
    "from pytorch_lightning.loggers import WandbLogger\n",
    "import torch\n",
    "from pytorch_lightning.callbacks.early_stopping import EarlyStopping\n",
    "from torchvision.transforms import Compose, ToTensor, Normalize\n",
    "from models import LightningXGBClassifier\n",
    "import os\n",
    "from definitions import MODELS_FOLDER, ROOT_DIR\n",
    "import warnings\n",
    "from functools import partial\n",
    "from tqdm import tqdm\n",
    "import wandb\n",
    "warnings.simplefilter(action='ignore', category=FutureWarning)\n",
    "os.environ[\"CUDA_VISIBLE_DEVICES\"]=\"2\""
   ],
   "metadata": {
    "collapsed": false
   }
  },
  {
   "cell_type": "markdown",
   "source": [
    "## Chinese Experiment"
   ],
   "metadata": {
    "collapsed": false
   }
  },
  {
   "cell_type": "code",
   "execution_count": 2,
   "outputs": [
    {
     "ename": "NameError",
     "evalue": "name 'pl' is not defined",
     "output_type": "error",
     "traceback": [
      "\u001B[0;31m---------------------------------------------------------------------------\u001B[0m",
      "\u001B[0;31mNameError\u001B[0m                                 Traceback (most recent call last)",
      "Cell \u001B[0;32mIn [2], line 1\u001B[0m\n\u001B[0;32m----> 1\u001B[0m pl\u001B[38;5;241m.\u001B[39mseed_everything(\u001B[38;5;241m42\u001B[39m, workers\u001B[38;5;241m=\u001B[39m\u001B[38;5;28;01mTrue\u001B[39;00m)\n\u001B[1;32m      2\u001B[0m k_folds \u001B[38;5;241m=\u001B[39m \u001B[38;5;241m10\u001B[39m\n\u001B[1;32m      3\u001B[0m lr_lambda\u001B[38;5;241m=\u001B[39m\u001B[38;5;28;01mlambda\u001B[39;00m epoch: \u001B[38;5;241m1\u001B[39m \u001B[38;5;28;01mif\u001B[39;00m epoch\u001B[38;5;241m<\u001B[39m\u001B[38;5;241m16\u001B[39m \u001B[38;5;28;01melse\u001B[39;00m \u001B[38;5;241m0.1\u001B[39m \u001B[38;5;28;01mif\u001B[39;00m epoch\u001B[38;5;241m<\u001B[39m\u001B[38;5;241m24\u001B[39m \u001B[38;5;28;01melse\u001B[39;00m \u001B[38;5;241m0.01\u001B[39m\n",
      "\u001B[0;31mNameError\u001B[0m: name 'pl' is not defined"
     ]
    }
   ],
   "source": [
    "pl.seed_everything(42, workers=True)\n",
    "k_folds = 10\n",
    "lr_lambda=lambda epoch: 1 if epoch<16 else 0.1 if epoch<24 else 0.01\n",
    "data_module_capgmyo = CapgMyoDataModule(\n",
    "    batch_size=1000,\n",
    "    k_folds=10\n",
    ")\n",
    "parameters = data_module_capgmyo.get_data_parameters()\n",
    "lr_scheduler = torch.optim.lr_scheduler.LambdaLR\n",
    "optimizer = torch.optim.RAdam\n",
    "partial_classifier = partial(Classifier, optimizer=optimizer, lr_scheduler=lr_scheduler, optim_kwargs={'lr': 0.001, 'weight_decay': 0.0001}, monitor='val_accuracy', lr_lambda=lr_lambda)\n",
    "for k in tqdm(range(k_folds)):\n",
    "    classifier = partial_classifier(OriginalModel(parameters['num_classes'], parameters['input_width'], parameters['input_height']), fold=k)\n",
    "    logger_capgmyo_chinese = WandbLogger(project=\"EMG Armband\", name=\"Chinese CapgMyo\", save_dir='wandb_logs')\n",
    "    trainer_capgmyo_chinese = pl.Trainer(gpus=-1, max_epochs=28, logger=logger_capgmyo_chinese, accelerator=\"gpu\")\n",
    "    trainer_capgmyo_chinese.fit(model=classifier, datamodule=data_module_capgmyo)\n",
    "    trainer_capgmyo_chinese.test(model=classifier, datamodule=data_module_capgmyo)\n",
    "    wandb.finish()\n",
    "    torch.save(classifier.model.state_dict(), os.path.join(MODELS_FOLDER, f'chinese_capgmyo_{k}_fold.pt'))\n",
    "    data_module_capgmyo.next_fold()"
   ],
   "metadata": {
    "collapsed": false
   }
  },
  {
   "cell_type": "markdown",
   "source": [
    "## CapgMyo Experiment"
   ],
   "metadata": {
    "collapsed": false
   }
  },
  {
   "cell_type": "code",
   "execution_count": 3,
   "outputs": [
    {
     "ename": "NameError",
     "evalue": "name 'pl' is not defined",
     "output_type": "error",
     "traceback": [
      "\u001B[0;31m---------------------------------------------------------------------------\u001B[0m",
      "\u001B[0;31mNameError\u001B[0m                                 Traceback (most recent call last)",
      "Cell \u001B[0;32mIn [3], line 1\u001B[0m\n\u001B[0;32m----> 1\u001B[0m pl\u001B[38;5;241m.\u001B[39mseed_everything(\u001B[38;5;241m42\u001B[39m, workers\u001B[38;5;241m=\u001B[39m\u001B[38;5;28;01mTrue\u001B[39;00m)\n\u001B[1;32m      2\u001B[0m k_folds \u001B[38;5;241m=\u001B[39m \u001B[38;5;241m10\u001B[39m\n\u001B[1;32m      3\u001B[0m data_module_capgmyo \u001B[38;5;241m=\u001B[39m CapgMyoDataModule(\n\u001B[1;32m      4\u001B[0m     batch_size\u001B[38;5;241m=\u001B[39m\u001B[38;5;241m1000\u001B[39m,\n\u001B[1;32m      5\u001B[0m     k_folds\u001B[38;5;241m=\u001B[39m\u001B[38;5;241m10\u001B[39m\n\u001B[1;32m      6\u001B[0m )\n",
      "\u001B[0;31mNameError\u001B[0m: name 'pl' is not defined"
     ]
    }
   ],
   "source": [
    "pl.seed_everything(42, workers=True)\n",
    "k_folds = 10\n",
    "data_module_capgmyo = CapgMyoDataModule(\n",
    "    batch_size=1000,\n",
    "    k_folds=10\n",
    ")\n",
    "parameters = data_module_capgmyo.get_data_parameters()\n",
    "early_stop_callback = EarlyStopping(monitor='val_accuracy', patience=7, mode='max')\n",
    "partial_classifier = partial(Classifier, optim_kwargs={'lr': 0.001, 'weight_decay': 0.0001}, monitor='val_accuracy', sched_kwargs={'patience': 4, 'mode': 'max'})\n",
    "for k in tqdm(range(k_folds)):\n",
    "    classifier = partial_classifier(OriginalModel(parameters['num_classes'], parameters['input_width'], parameters['input_height']), fold=k)\n",
    "    logger_capgmyo = WandbLogger(project=\"EMG Armband\", name=\"CapgMyo\", save_dir='wandb_logs')\n",
    "    trainer_capgmyo = pl.Trainer(gpus=-1, max_epochs=100, logger=logger_capgmyo, accelerator=\"gpu\", callbacks=[early_stop_callback])\n",
    "    trainer_capgmyo.fit(model=classifier, datamodule=data_module_capgmyo)\n",
    "    trainer_capgmyo.test(model=classifier, datamodule=data_module_capgmyo)\n",
    "    wandb.finish()\n",
    "    torch.save(classifier.model.state_dict(), os.path.join(MODELS_FOLDER, f'capgmyo_{k}_fold.pt'))\n",
    "    data_module_capgmyo.next_fold()"
   ],
   "metadata": {
    "collapsed": false
   }
  },
  {
   "cell_type": "markdown",
   "source": [
    "## Ninapro Experiment"
   ],
   "metadata": {
    "collapsed": false
   }
  },
  {
   "cell_type": "code",
   "execution_count": 4,
   "outputs": [
    {
     "ename": "NameError",
     "evalue": "name 'pl' is not defined",
     "output_type": "error",
     "traceback": [
      "\u001B[0;31m---------------------------------------------------------------------------\u001B[0m",
      "\u001B[0;31mNameError\u001B[0m                                 Traceback (most recent call last)",
      "Cell \u001B[0;32mIn [4], line 1\u001B[0m\n\u001B[0;32m----> 1\u001B[0m pl\u001B[38;5;241m.\u001B[39mseed_everything(\u001B[38;5;241m42\u001B[39m, workers\u001B[38;5;241m=\u001B[39m\u001B[38;5;28;01mTrue\u001B[39;00m)\n\u001B[1;32m      2\u001B[0m k_folds \u001B[38;5;241m=\u001B[39m \u001B[38;5;241m10\u001B[39m\n\u001B[1;32m      3\u001B[0m data_module_ninapro \u001B[38;5;241m=\u001B[39m NinaProDataModule(\n\u001B[1;32m      4\u001B[0m     batch_size\u001B[38;5;241m=\u001B[39m\u001B[38;5;241m1000\u001B[39m,\n\u001B[1;32m      5\u001B[0m     k_folds\u001B[38;5;241m=\u001B[39m\u001B[38;5;241m10\u001B[39m\n\u001B[1;32m      6\u001B[0m )\n",
      "\u001B[0;31mNameError\u001B[0m: name 'pl' is not defined"
     ]
    }
   ],
   "source": [
    "pl.seed_everything(42, workers=True)\n",
    "k_folds = 10\n",
    "data_module_ninapro = NinaProDataModule(\n",
    "    batch_size=1000,\n",
    "    k_folds=10\n",
    ")\n",
    "parameters = data_module_ninapro.get_data_parameters()\n",
    "logger_ninapro = WandbLogger(project=\"EMG Armband\", name=\"NinaPro\")\n",
    "early_stop_callback = EarlyStopping(monitor='val_accuracy', patience=7, mode='max')\n",
    "partial_classifier = partial(Classifier, optim_kwargs={'lr': 0.001, 'weight_decay': 0.0001}, monitor='val_accuracy', sched_kwargs={'patience': 4, 'mode': 'max'})\n",
    "for k in tqdm(range(k_folds)):\n",
    "    classifier = partial_classifier(OriginalModel(parameters['num_classes'], parameters['input_width'], parameters['input_height']), fold=k)\n",
    "    logger_ninapro = WandbLogger(project=\"EMG Armband\", name=\"NinaPro\", save_dir='wandb_logs')\n",
    "    trainer_ninapro = pl.Trainer(gpus=-1, max_epochs=100, logger=logger_ninapro, accelerator=\"gpu\", callbacks=[early_stop_callback])\n",
    "    trainer_ninapro.fit(model=classifier, datamodule=data_module_ninapro)\n",
    "    trainer_ninapro.test(model=classifier, datamodule=data_module_ninapro)\n",
    "    wandb.finish()\n",
    "    torch.save(classifier.model.state_dict(), os.path.join(MODELS_FOLDER, f'ninapro_{k}_fold.pt'))\n",
    "    data_module_ninapro.next_fold()"
   ],
   "metadata": {
    "collapsed": false
   }
  },
  {
   "cell_type": "markdown",
   "source": [
    "## MyoArmband Experiment"
   ],
   "metadata": {
    "collapsed": false
   }
  },
  {
   "cell_type": "code",
   "execution_count": null,
   "outputs": [],
   "source": [
    "pl.seed_everything(42, workers=True)\n",
    "transform = Compose([\n",
    "    ToTensor(),\n",
    "    Normalize(0, 1)\n",
    "])\n",
    "data_module_myoarmband = MyoArmbandDataModule(\n",
    "    batch_size=10000,\n",
    "    num_workers=8,\n",
    "    train_transforms=transform,\n",
    "    val_transforms=transform,\n",
    "    test_transforms=transform,\n",
    ")\n",
    "parameters = data_module_myoarmband.get_data_parameters()\n",
    "early_stop_callback = EarlyStopping(monitor='val_accuracy', patience=7, mode='max')\n",
    "partial_classifier = partial(Classifier, optim_kwargs={'lr': 0.001, 'weight_decay': 0.0001}, monitor='val_accuracy', sched_kwargs={'patience': 4, 'mode': 'max'})\n",
    "for k in tqdm(range(k_folds)):\n",
    "    classifier = partial_classifier(OriginalModel(parameters['num_classes'], parameters['input_width'], parameters['input_height']), fold=k)\n",
    "    logger_myoarmband = WandbLogger(project=\"EMG Armband\", name=\"MyoArmband\", save_dir='wandb_logs')\n",
    "    trainer_myoarmband = pl.Trainer(gpus=-1, max_epochs=100, logger=logger_myoarmband, accelerator=\"gpu\", callbacks=[early_stop_callback])\n",
    "    trainer_myoarmband.fit(model=classifier, datamodule=data_module_myoarmband)\n",
    "    trainer_myoarmband.test(model=classifier, datamodule=data_module_myoarmband)\n",
    "    wandb.finish()\n",
    "    torch.save(classifier.model.state_dict(), os.path.join(MODELS_FOLDER, f'myoarmband_{k}_fold.pt'))\n",
    "    data_module_myoarmband.next_fold()"
   ],
   "metadata": {
    "collapsed": false
   }
  },
  {
   "cell_type": "markdown",
   "source": [
    "## XGB Experiments"
   ],
   "metadata": {
    "collapsed": false
   }
  },
  {
   "cell_type": "markdown",
   "source": [
    "#### XGB CapgMyo"
   ],
   "metadata": {
    "collapsed": false
   }
  },
  {
   "cell_type": "code",
   "execution_count": null,
   "outputs": [],
   "source": [
    "data_module_xgb = CapgMyoDataModule(\n",
    "    batch_size=1000,\n",
    "    num_workers=3\n",
    ")\n",
    "parameters = data_module_xgb.get_data_parameters()\n",
    "model = OriginalModel(parameters['num_classes'], parameters['input_width'], parameters['input_height'])\n",
    "adjusted_model = model.load_state_dict(torch.load(os.path.join(MODELS_FOLDER, f'capgmyo_0_fold.pt')))\n",
    "adjusted_model.model = adjusted_model.model[0:26]\n",
    "partial_classifier = partial(LightningXGBClassifier, adjusted_model, data_module_xgb.num_classes, monitor='val_accuracy', tree_method='gpu_hist')\n",
    "for k in tqdm(range(k_folds)):\n",
    "    classifier = partial_classifier(OriginalModel(parameters['num_classes'], parameters['input_width'], parameters['input_height']), fold=k)\n",
    "    logger_xgb = WandbLogger(project=\"EMG Armband\", name=\"CapgMyoXGB\", save_dir='wandb_logs')\n",
    "    trainer_xgb = pl.Trainer(max_epochs=2, accelerator=\"cpu\", logger=logger_xgb, num_sanity_val_steps=0)\n",
    "    trainer_xgb.fit(model=classifier, datamodule=data_module_xgb)\n",
    "    trainer_xgb.test(model=classifier, datamodule=data_module_xgb)\n",
    "    wandb.finish()\n",
    "    classifier.xgbmodel.save_model(os.path.join(MODELS_FOLDER, f'xgb_capgmyo_{k}_fold.json'))\n",
    "    data_module_xgb.next_fold()"
   ],
   "metadata": {
    "collapsed": false
   }
  },
  {
   "cell_type": "markdown",
   "source": [
    "#### XGB Ninapro"
   ],
   "metadata": {
    "collapsed": false
   }
  },
  {
   "cell_type": "code",
   "execution_count": null,
   "outputs": [],
   "source": [
    "data_module_xgb = NinaProDataModule(\n",
    "    batch_size=1000,\n",
    "    num_workers=3\n",
    ")\n",
    "parameters = data_module_xgb.get_data_parameters()\n",
    "model = OriginalModel(parameters['num_classes'], parameters['input_width'], parameters['input_height'])\n",
    "adjusted_model = model.load_state_dict(torch.load(os.path.join(MODELS_FOLDER, f'ninapro_0_fold.pt')))\n",
    "adjusted_model.model = adjusted_model.model[0:26]\n",
    "partial_classifier = partial(LightningXGBClassifier, adjusted_model, data_module_xgb.num_classes, monitor='val_accuracy', tree_method='gpu_hist')\n",
    "for k in tqdm(range(k_folds)):\n",
    "    classifier = partial_classifier(OriginalModel(parameters['num_classes'], parameters['input_width'], parameters['input_height']), fold=k)\n",
    "    logger_xgb = WandbLogger(project=\"EMG Armband\", name=\"NinaproXGB\", save_dir='wandb_logs')\n",
    "    trainer_xgb = pl.Trainer(max_epochs=2, accelerator=\"cpu\", logger=logger_xgb, num_sanity_val_steps=0)\n",
    "    trainer_xgb.fit(model=classifier, datamodule=data_module_xgb)\n",
    "    trainer_xgb.test(model=classifier, datamodule=data_module_xgb)\n",
    "    wandb.finish()\n",
    "    classifier.xgbmodel.save_model(os.path.join(MODELS_FOLDER, f'xgb_ninapro_{k}_fold.json'))\n",
    "    data_module_xgb.next_fold()"
   ],
   "metadata": {
    "collapsed": false
   }
  },
  {
   "cell_type": "markdown",
   "source": [
    "#### XGB MyoArmband"
   ],
   "metadata": {
    "collapsed": false
   }
  },
  {
   "cell_type": "code",
   "execution_count": null,
   "outputs": [],
   "source": [
    "data_module_xgb = MyoArmbandDataModule(\n",
    "    batch_size=1000,\n",
    "    num_workers=3\n",
    ")\n",
    "parameters = data_module_xgb.get_data_parameters()\n",
    "model = OriginalModel(parameters['num_classes'], parameters['input_width'], parameters['input_height'])\n",
    "adjusted_model = model.load_state_dict(torch.load(os.path.join(MODELS_FOLDER, f'myoarmband_0_fold.pt')))\n",
    "adjusted_model.model = adjusted_model.model[0:26]\n",
    "partial_classifier = partial(LightningXGBClassifier, adjusted_model, data_module_xgb.num_classes, monitor='val_accuracy', tree_method='gpu_hist')\n",
    "for k in tqdm(range(k_folds)):\n",
    "    classifier = partial_classifier(OriginalModel(parameters['num_classes'], parameters['input_width'], parameters['input_height']), fold=k)\n",
    "    logger_xgb = WandbLogger(project=\"EMG Armband\", name=\"MyoArmbandXGB\", save_dir='wandb_logs')\n",
    "    trainer_xgb = pl.Trainer(max_epochs=2, accelerator=\"cpu\", logger=logger_xgb, num_sanity_val_steps=0)\n",
    "    trainer_xgb.fit(model=classifier, datamodule=data_module_xgb)\n",
    "    trainer_xgb.test(model=classifier, datamodule=data_module_xgb)\n",
    "    wandb.finish()\n",
    "    classifier.xgbmodel.save_model(os.path.join(MODELS_FOLDER, f'xgb_myoarmband_{k}_fold.json'))\n",
    "    data_module_xgb.next_fold()"
   ],
   "metadata": {
    "collapsed": false
   }
  }
 ],
 "metadata": {
  "kernelspec": {
   "display_name": "Python 3",
   "language": "python",
   "name": "python3"
  },
  "language_info": {
   "codemirror_mode": {
    "name": "ipython",
    "version": 2
   },
   "file_extension": ".py",
   "mimetype": "text/x-python",
   "name": "python",
   "nbconvert_exporter": "python",
   "pygments_lexer": "ipython2",
   "version": "2.7.6"
  }
 },
 "nbformat": 4,
 "nbformat_minor": 0
}
