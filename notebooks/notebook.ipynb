{
 "cells": [
  {
   "cell_type": "code",
   "execution_count": 1,
   "metadata": {
    "collapsed": true
   },
   "outputs": [],
   "source": [
    "import pandas as pd\n",
    "from matplotlib import pyplot as plt\n",
    "from datasets.data_import import get_capgmyo_dataset, get_csl_dataset, get_absolute_path, extract_data, get_ninapro_dataset, get_capgmyo_tensor, get_ninapro_tensor, get_csl_tensor, save_arrays\n",
    "import scipy.io\n",
    "import numpy as np\n",
    "import os\n",
    "import torch\n",
    "from torch.utils.data import DataLoader\n",
    "from math import ceil\n",
    "from datasets.data_module import AbstractDataModule\n",
    "from datasets.capg_myo import CapgMyo\n",
    "from train import main"
   ]
  },
  {
   "cell_type": "code",
   "execution_count": 2,
   "outputs": [
    {
     "data": {
      "text/plain": "                                                  path  label\n0              C:\\Science\\Data\\CapgMyo\\0\\CapgMyo_0.npy      0\n1              C:\\Science\\Data\\CapgMyo\\0\\CapgMyo_1.npy      0\n2              C:\\Science\\Data\\CapgMyo\\0\\CapgMyo_2.npy      0\n3              C:\\Science\\Data\\CapgMyo\\0\\CapgMyo_3.npy      0\n4              C:\\Science\\Data\\CapgMyo\\0\\CapgMyo_4.npy      0\n...                                                ...    ...\n1439995  C:\\Science\\Data\\CapgMyo\\7\\CapgMyo_1439995.npy      7\n1439996  C:\\Science\\Data\\CapgMyo\\7\\CapgMyo_1439996.npy      7\n1439997  C:\\Science\\Data\\CapgMyo\\7\\CapgMyo_1439997.npy      7\n1439998  C:\\Science\\Data\\CapgMyo\\7\\CapgMyo_1439998.npy      7\n1439999  C:\\Science\\Data\\CapgMyo\\7\\CapgMyo_1439999.npy      7\n\n[1440000 rows x 2 columns]",
      "text/html": "<div>\n<style scoped>\n    .dataframe tbody tr th:only-of-type {\n        vertical-align: middle;\n    }\n\n    .dataframe tbody tr th {\n        vertical-align: top;\n    }\n\n    .dataframe thead th {\n        text-align: right;\n    }\n</style>\n<table border=\"1\" class=\"dataframe\">\n  <thead>\n    <tr style=\"text-align: right;\">\n      <th></th>\n      <th>path</th>\n      <th>label</th>\n    </tr>\n  </thead>\n  <tbody>\n    <tr>\n      <th>0</th>\n      <td>C:\\Science\\Data\\CapgMyo\\0\\CapgMyo_0.npy</td>\n      <td>0</td>\n    </tr>\n    <tr>\n      <th>1</th>\n      <td>C:\\Science\\Data\\CapgMyo\\0\\CapgMyo_1.npy</td>\n      <td>0</td>\n    </tr>\n    <tr>\n      <th>2</th>\n      <td>C:\\Science\\Data\\CapgMyo\\0\\CapgMyo_2.npy</td>\n      <td>0</td>\n    </tr>\n    <tr>\n      <th>3</th>\n      <td>C:\\Science\\Data\\CapgMyo\\0\\CapgMyo_3.npy</td>\n      <td>0</td>\n    </tr>\n    <tr>\n      <th>4</th>\n      <td>C:\\Science\\Data\\CapgMyo\\0\\CapgMyo_4.npy</td>\n      <td>0</td>\n    </tr>\n    <tr>\n      <th>...</th>\n      <td>...</td>\n      <td>...</td>\n    </tr>\n    <tr>\n      <th>1439995</th>\n      <td>C:\\Science\\Data\\CapgMyo\\7\\CapgMyo_1439995.npy</td>\n      <td>7</td>\n    </tr>\n    <tr>\n      <th>1439996</th>\n      <td>C:\\Science\\Data\\CapgMyo\\7\\CapgMyo_1439996.npy</td>\n      <td>7</td>\n    </tr>\n    <tr>\n      <th>1439997</th>\n      <td>C:\\Science\\Data\\CapgMyo\\7\\CapgMyo_1439997.npy</td>\n      <td>7</td>\n    </tr>\n    <tr>\n      <th>1439998</th>\n      <td>C:\\Science\\Data\\CapgMyo\\7\\CapgMyo_1439998.npy</td>\n      <td>7</td>\n    </tr>\n    <tr>\n      <th>1439999</th>\n      <td>C:\\Science\\Data\\CapgMyo\\7\\CapgMyo_1439999.npy</td>\n      <td>7</td>\n    </tr>\n  </tbody>\n</table>\n<p>1440000 rows × 2 columns</p>\n</div>"
     },
     "execution_count": 2,
     "metadata": {},
     "output_type": "execute_result"
    }
   ],
   "source": [
    "save_arrays(get_capgmyo_dataset(), 'CapgMyo', os.path.join(os.path.dirname(os.path.dirname(os.getcwd())), 'Data'))"
   ],
   "metadata": {
    "collapsed": false,
    "pycharm": {
     "name": "#%%\n"
    }
   }
  },
  {
   "cell_type": "code",
   "execution_count": null,
   "outputs": [],
   "source": [
    "main()"
   ],
   "metadata": {
    "collapsed": false,
    "pycharm": {
     "name": "#%%\n"
    }
   }
  },
  {
   "cell_type": "code",
   "execution_count": 2,
   "outputs": [
    {
     "data": {
      "text/plain": "array([[ 0.00055016,  0.00163747, -0.00142375, -0.0018723 , -0.00200279,\n        -0.00894334, -0.00440508, -0.00512906],\n       [ 0.00657507, -0.00296113, -0.00538958, -0.0029131 ,  0.00248616,\n        -0.00793185, -0.01330316, -0.01743496],\n       [-0.00294024,  0.00711973,  0.00261007,  0.01343934, -0.00275829,\n        -0.0083007 , -0.00239608, -0.00397255],\n       [-0.00115111,  0.00391528,  0.00672013,  0.0127303 , -0.00910143,\n        -0.00168856, -0.00342162, -0.0060252 ],\n       [ 0.02670039,  0.02199539,  0.0137839 ,  0.00534491, -0.01674957,\n        -0.00998401, -0.0065362 , -0.00203766],\n       [ 0.04910227,  0.06146285,  0.0239177 ,  0.0139716 , -0.02066301,\n        -0.01518379, -0.00472535,  0.02654406],\n       [ 0.01826144,  0.00951851, -0.03662763, -0.09614378, -0.03775175,\n         0.0177861 ,  0.00816078,  0.00027725],\n       [ 0.00702682, -0.00171995, -0.02551572, -0.04139399, -0.03912835,\n         0.00105693,  0.00245814,  0.00349203],\n       [-0.0153593 , -0.00658815,  0.00413343,  0.005457  , -0.00084568,\n         0.01413354,  0.01686694,  0.00695536],\n       [-0.00892566, -0.00265102,  0.03871895,  0.04304825,  0.00066813,\n        -0.00583264,  0.00452947,  0.00717617],\n       [ 0.0006743 ,  0.00616811,  0.0006671 ,  0.00836207,  0.01499839,\n        -0.00428189,  0.00452428,  0.00036794],\n       [ 0.00091779,  0.00779996,  0.0131572 , -0.00021351,  0.00521699,\n         0.00326009,  0.01469837, -0.00219149],\n       [-0.00028405,  0.01279719,  0.00685796, -0.00014832, -0.00219375,\n        -0.00628376,  0.0004421 , -0.00499513],\n       [ 0.00418692,  0.00726998,  0.00250871,  0.00977455, -0.00043455,\n         0.00239909, -0.00676581, -0.00055924],\n       [ 0.044354  ,  0.05575782,  0.05244613,  0.02526593, -0.04545267,\n        -0.08704111, -0.10099948, -0.06033078],\n       [ 0.03111907,  0.04192705,  0.0412122 ,  0.01505839, -0.02955457,\n        -0.06715982, -0.06915704, -0.04422229]])"
     },
     "execution_count": 2,
     "metadata": {},
     "output_type": "execute_result"
    }
   ],
   "source": [
    "np.load('C://Science//Data//CapgMyo//3//CapgMyo_607229.npy')"
   ],
   "metadata": {
    "collapsed": false,
    "pycharm": {
     "name": "#%%\n"
    }
   }
  },
  {
   "cell_type": "code",
   "execution_count": 2,
   "outputs": [
    {
     "data": {
      "text/plain": "                                                  path  label\n0              C:\\Science\\Data\\CapgMyo\\0\\CapgMyo_0.npy      1\n1              C:\\Science\\Data\\CapgMyo\\0\\CapgMyo_1.npy      1\n2              C:\\Science\\Data\\CapgMyo\\0\\CapgMyo_2.npy      1\n3              C:\\Science\\Data\\CapgMyo\\0\\CapgMyo_3.npy      1\n4              C:\\Science\\Data\\CapgMyo\\0\\CapgMyo_4.npy      1\n...                                                ...    ...\n1439995  C:\\Science\\Data\\CapgMyo\\7\\CapgMyo_1439995.npy      8\n1439996  C:\\Science\\Data\\CapgMyo\\7\\CapgMyo_1439996.npy      8\n1439997  C:\\Science\\Data\\CapgMyo\\7\\CapgMyo_1439997.npy      8\n1439998  C:\\Science\\Data\\CapgMyo\\7\\CapgMyo_1439998.npy      8\n1439999  C:\\Science\\Data\\CapgMyo\\7\\CapgMyo_1439999.npy      8\n\n[1440000 rows x 2 columns]",
      "text/html": "<div>\n<style scoped>\n    .dataframe tbody tr th:only-of-type {\n        vertical-align: middle;\n    }\n\n    .dataframe tbody tr th {\n        vertical-align: top;\n    }\n\n    .dataframe thead th {\n        text-align: right;\n    }\n</style>\n<table border=\"1\" class=\"dataframe\">\n  <thead>\n    <tr style=\"text-align: right;\">\n      <th></th>\n      <th>path</th>\n      <th>label</th>\n    </tr>\n  </thead>\n  <tbody>\n    <tr>\n      <th>0</th>\n      <td>C:\\Science\\Data\\CapgMyo\\0\\CapgMyo_0.npy</td>\n      <td>1</td>\n    </tr>\n    <tr>\n      <th>1</th>\n      <td>C:\\Science\\Data\\CapgMyo\\0\\CapgMyo_1.npy</td>\n      <td>1</td>\n    </tr>\n    <tr>\n      <th>2</th>\n      <td>C:\\Science\\Data\\CapgMyo\\0\\CapgMyo_2.npy</td>\n      <td>1</td>\n    </tr>\n    <tr>\n      <th>3</th>\n      <td>C:\\Science\\Data\\CapgMyo\\0\\CapgMyo_3.npy</td>\n      <td>1</td>\n    </tr>\n    <tr>\n      <th>4</th>\n      <td>C:\\Science\\Data\\CapgMyo\\0\\CapgMyo_4.npy</td>\n      <td>1</td>\n    </tr>\n    <tr>\n      <th>...</th>\n      <td>...</td>\n      <td>...</td>\n    </tr>\n    <tr>\n      <th>1439995</th>\n      <td>C:\\Science\\Data\\CapgMyo\\7\\CapgMyo_1439995.npy</td>\n      <td>8</td>\n    </tr>\n    <tr>\n      <th>1439996</th>\n      <td>C:\\Science\\Data\\CapgMyo\\7\\CapgMyo_1439996.npy</td>\n      <td>8</td>\n    </tr>\n    <tr>\n      <th>1439997</th>\n      <td>C:\\Science\\Data\\CapgMyo\\7\\CapgMyo_1439997.npy</td>\n      <td>8</td>\n    </tr>\n    <tr>\n      <th>1439998</th>\n      <td>C:\\Science\\Data\\CapgMyo\\7\\CapgMyo_1439998.npy</td>\n      <td>8</td>\n    </tr>\n    <tr>\n      <th>1439999</th>\n      <td>C:\\Science\\Data\\CapgMyo\\7\\CapgMyo_1439999.npy</td>\n      <td>8</td>\n    </tr>\n  </tbody>\n</table>\n<p>1440000 rows × 2 columns</p>\n</div>"
     },
     "execution_count": 2,
     "metadata": {},
     "output_type": "execute_result"
    }
   ],
   "source": [
    "CapgMyoDF = pd.read_csv(os.path.join('..', '..', 'Data', 'CapgMyo', 'CapgMyo.csv'))\n",
    "CapgMyoDF"
   ],
   "metadata": {
    "collapsed": false,
    "pycharm": {
     "name": "#%%\n"
    }
   }
  },
  {
   "cell_type": "code",
   "execution_count": 3,
   "outputs": [
    {
     "data": {
      "text/plain": "array([1, 2, 3, 4, 5, 6, 7, 8], dtype=int64)"
     },
     "execution_count": 3,
     "metadata": {},
     "output_type": "execute_result"
    }
   ],
   "source": [
    "CapgMyoDF['label'].unique()"
   ],
   "metadata": {
    "collapsed": false,
    "pycharm": {
     "name": "#%%\n"
    }
   }
  },
  {
   "cell_type": "code",
   "execution_count": 5,
   "outputs": [
    {
     "data": {
      "text/plain": "                                           path  label\n296859    ..\\..\\Data\\CapgMyo\\CapgMyo_296859.npy      2\n209517    ..\\..\\Data\\CapgMyo\\CapgMyo_209517.npy      7\n1215598  ..\\..\\Data\\CapgMyo\\CapgMyo_1215598.npy      3\n1004415  ..\\..\\Data\\CapgMyo\\CapgMyo_1004415.npy      3\n835953    ..\\..\\Data\\CapgMyo\\CapgMyo_835953.npy      7\n...                                         ...    ...\n142536    ..\\..\\Data\\CapgMyo\\CapgMyo_142536.npy      1\n1080811  ..\\..\\Data\\CapgMyo\\CapgMyo_1080811.npy      4\n305828    ..\\..\\Data\\CapgMyo\\CapgMyo_305828.npy      3\n490690    ..\\..\\Data\\CapgMyo\\CapgMyo_490690.npy      1\n1259769  ..\\..\\Data\\CapgMyo\\CapgMyo_1259769.npy      7\n\n[100 rows x 2 columns]",
      "text/html": "<div>\n<style scoped>\n    .dataframe tbody tr th:only-of-type {\n        vertical-align: middle;\n    }\n\n    .dataframe tbody tr th {\n        vertical-align: top;\n    }\n\n    .dataframe thead th {\n        text-align: right;\n    }\n</style>\n<table border=\"1\" class=\"dataframe\">\n  <thead>\n    <tr style=\"text-align: right;\">\n      <th></th>\n      <th>path</th>\n      <th>label</th>\n    </tr>\n  </thead>\n  <tbody>\n    <tr>\n      <th>296859</th>\n      <td>..\\..\\Data\\CapgMyo\\CapgMyo_296859.npy</td>\n      <td>2</td>\n    </tr>\n    <tr>\n      <th>209517</th>\n      <td>..\\..\\Data\\CapgMyo\\CapgMyo_209517.npy</td>\n      <td>7</td>\n    </tr>\n    <tr>\n      <th>1215598</th>\n      <td>..\\..\\Data\\CapgMyo\\CapgMyo_1215598.npy</td>\n      <td>3</td>\n    </tr>\n    <tr>\n      <th>1004415</th>\n      <td>..\\..\\Data\\CapgMyo\\CapgMyo_1004415.npy</td>\n      <td>3</td>\n    </tr>\n    <tr>\n      <th>835953</th>\n      <td>..\\..\\Data\\CapgMyo\\CapgMyo_835953.npy</td>\n      <td>7</td>\n    </tr>\n    <tr>\n      <th>...</th>\n      <td>...</td>\n      <td>...</td>\n    </tr>\n    <tr>\n      <th>142536</th>\n      <td>..\\..\\Data\\CapgMyo\\CapgMyo_142536.npy</td>\n      <td>1</td>\n    </tr>\n    <tr>\n      <th>1080811</th>\n      <td>..\\..\\Data\\CapgMyo\\CapgMyo_1080811.npy</td>\n      <td>4</td>\n    </tr>\n    <tr>\n      <th>305828</th>\n      <td>..\\..\\Data\\CapgMyo\\CapgMyo_305828.npy</td>\n      <td>3</td>\n    </tr>\n    <tr>\n      <th>490690</th>\n      <td>..\\..\\Data\\CapgMyo\\CapgMyo_490690.npy</td>\n      <td>1</td>\n    </tr>\n    <tr>\n      <th>1259769</th>\n      <td>..\\..\\Data\\CapgMyo\\CapgMyo_1259769.npy</td>\n      <td>7</td>\n    </tr>\n  </tbody>\n</table>\n<p>100 rows × 2 columns</p>\n</div>"
     },
     "execution_count": 5,
     "metadata": {},
     "output_type": "execute_result"
    }
   ],
   "source": [
    "CapgMyoDF.iloc[CapgMyoDF.sample(100).index]"
   ],
   "metadata": {
    "collapsed": false,
    "pycharm": {
     "name": "#%%\n"
    }
   }
  },
  {
   "cell_type": "code",
   "execution_count": 33,
   "outputs": [
    {
     "data": {
      "text/plain": "Int64Index([229519, 788041, 392379, 1231771, 136826, 134387, 351947, 825005,\n            338391, 926705],\n           dtype='int64')"
     },
     "execution_count": 33,
     "metadata": {},
     "output_type": "execute_result"
    }
   ],
   "source": [
    "CapgMyoDF.iloc[~CapgMyoDF.index.isin(CapgMyoDF.sample(1000000).index)].sample(10).index"
   ],
   "metadata": {
    "collapsed": false,
    "pycharm": {
     "name": "#%%\n"
    }
   }
  },
  {
   "cell_type": "code",
   "execution_count": 15,
   "outputs": [
    {
     "data": {
      "text/plain": "1    180000\n2    180000\n3    180000\n4    180000\n5    180000\n6    180000\n7    180000\nName: label, dtype: int64"
     },
     "execution_count": 15,
     "metadata": {},
     "output_type": "execute_result"
    }
   ],
   "source": [
    "CapgMyoDF['label'].value_counts()"
   ],
   "metadata": {
    "collapsed": false,
    "pycharm": {
     "name": "#%%\n"
    }
   }
  },
  {
   "cell_type": "code",
   "execution_count": 7,
   "outputs": [
    {
     "ename": "KeyError",
     "evalue": "\"['Unnamed: 0'] not found in axis\"",
     "output_type": "error",
     "traceback": [
      "\u001B[1;31m---------------------------------------------------------------------------\u001B[0m",
      "\u001B[1;31mKeyError\u001B[0m                                  Traceback (most recent call last)",
      "\u001B[1;32m~\\AppData\\Local\\Temp/ipykernel_6612/3640786499.py\u001B[0m in \u001B[0;36m<module>\u001B[1;34m\u001B[0m\n\u001B[1;32m----> 1\u001B[1;33m \u001B[0mCapgMyoDF\u001B[0m\u001B[1;33m.\u001B[0m\u001B[0mdrop\u001B[0m\u001B[1;33m(\u001B[0m\u001B[1;34m'Unnamed: 0'\u001B[0m\u001B[1;33m,\u001B[0m \u001B[0minplace\u001B[0m\u001B[1;33m=\u001B[0m\u001B[1;32mTrue\u001B[0m\u001B[1;33m,\u001B[0m \u001B[0maxis\u001B[0m\u001B[1;33m=\u001B[0m\u001B[1;36m1\u001B[0m\u001B[1;33m)\u001B[0m\u001B[1;33m\u001B[0m\u001B[1;33m\u001B[0m\u001B[0m\n\u001B[0m",
      "\u001B[1;32mC:\\ProgramData\\Anaconda3\\envs\\chinese_experiment\\lib\\site-packages\\pandas\\util\\_decorators.py\u001B[0m in \u001B[0;36mwrapper\u001B[1;34m(*args, **kwargs)\u001B[0m\n\u001B[0;32m    309\u001B[0m                     \u001B[0mstacklevel\u001B[0m\u001B[1;33m=\u001B[0m\u001B[0mstacklevel\u001B[0m\u001B[1;33m,\u001B[0m\u001B[1;33m\u001B[0m\u001B[1;33m\u001B[0m\u001B[0m\n\u001B[0;32m    310\u001B[0m                 )\n\u001B[1;32m--> 311\u001B[1;33m             \u001B[1;32mreturn\u001B[0m \u001B[0mfunc\u001B[0m\u001B[1;33m(\u001B[0m\u001B[1;33m*\u001B[0m\u001B[0margs\u001B[0m\u001B[1;33m,\u001B[0m \u001B[1;33m**\u001B[0m\u001B[0mkwargs\u001B[0m\u001B[1;33m)\u001B[0m\u001B[1;33m\u001B[0m\u001B[1;33m\u001B[0m\u001B[0m\n\u001B[0m\u001B[0;32m    312\u001B[0m \u001B[1;33m\u001B[0m\u001B[0m\n\u001B[0;32m    313\u001B[0m         \u001B[1;32mreturn\u001B[0m \u001B[0mwrapper\u001B[0m\u001B[1;33m\u001B[0m\u001B[1;33m\u001B[0m\u001B[0m\n",
      "\u001B[1;32mC:\\ProgramData\\Anaconda3\\envs\\chinese_experiment\\lib\\site-packages\\pandas\\core\\frame.py\u001B[0m in \u001B[0;36mdrop\u001B[1;34m(self, labels, axis, index, columns, level, inplace, errors)\u001B[0m\n\u001B[0;32m   4946\u001B[0m                 \u001B[0mweight\u001B[0m  \u001B[1;36m1.0\u001B[0m     \u001B[1;36m0.8\u001B[0m\u001B[1;33m\u001B[0m\u001B[1;33m\u001B[0m\u001B[0m\n\u001B[0;32m   4947\u001B[0m         \"\"\"\n\u001B[1;32m-> 4948\u001B[1;33m         return super().drop(\n\u001B[0m\u001B[0;32m   4949\u001B[0m             \u001B[0mlabels\u001B[0m\u001B[1;33m=\u001B[0m\u001B[0mlabels\u001B[0m\u001B[1;33m,\u001B[0m\u001B[1;33m\u001B[0m\u001B[1;33m\u001B[0m\u001B[0m\n\u001B[0;32m   4950\u001B[0m             \u001B[0maxis\u001B[0m\u001B[1;33m=\u001B[0m\u001B[0maxis\u001B[0m\u001B[1;33m,\u001B[0m\u001B[1;33m\u001B[0m\u001B[1;33m\u001B[0m\u001B[0m\n",
      "\u001B[1;32mC:\\ProgramData\\Anaconda3\\envs\\chinese_experiment\\lib\\site-packages\\pandas\\core\\generic.py\u001B[0m in \u001B[0;36mdrop\u001B[1;34m(self, labels, axis, index, columns, level, inplace, errors)\u001B[0m\n\u001B[0;32m   4277\u001B[0m         \u001B[1;32mfor\u001B[0m \u001B[0maxis\u001B[0m\u001B[1;33m,\u001B[0m \u001B[0mlabels\u001B[0m \u001B[1;32min\u001B[0m \u001B[0maxes\u001B[0m\u001B[1;33m.\u001B[0m\u001B[0mitems\u001B[0m\u001B[1;33m(\u001B[0m\u001B[1;33m)\u001B[0m\u001B[1;33m:\u001B[0m\u001B[1;33m\u001B[0m\u001B[1;33m\u001B[0m\u001B[0m\n\u001B[0;32m   4278\u001B[0m             \u001B[1;32mif\u001B[0m \u001B[0mlabels\u001B[0m \u001B[1;32mis\u001B[0m \u001B[1;32mnot\u001B[0m \u001B[1;32mNone\u001B[0m\u001B[1;33m:\u001B[0m\u001B[1;33m\u001B[0m\u001B[1;33m\u001B[0m\u001B[0m\n\u001B[1;32m-> 4279\u001B[1;33m                 \u001B[0mobj\u001B[0m \u001B[1;33m=\u001B[0m \u001B[0mobj\u001B[0m\u001B[1;33m.\u001B[0m\u001B[0m_drop_axis\u001B[0m\u001B[1;33m(\u001B[0m\u001B[0mlabels\u001B[0m\u001B[1;33m,\u001B[0m \u001B[0maxis\u001B[0m\u001B[1;33m,\u001B[0m \u001B[0mlevel\u001B[0m\u001B[1;33m=\u001B[0m\u001B[0mlevel\u001B[0m\u001B[1;33m,\u001B[0m \u001B[0merrors\u001B[0m\u001B[1;33m=\u001B[0m\u001B[0merrors\u001B[0m\u001B[1;33m)\u001B[0m\u001B[1;33m\u001B[0m\u001B[1;33m\u001B[0m\u001B[0m\n\u001B[0m\u001B[0;32m   4280\u001B[0m \u001B[1;33m\u001B[0m\u001B[0m\n\u001B[0;32m   4281\u001B[0m         \u001B[1;32mif\u001B[0m \u001B[0minplace\u001B[0m\u001B[1;33m:\u001B[0m\u001B[1;33m\u001B[0m\u001B[1;33m\u001B[0m\u001B[0m\n",
      "\u001B[1;32mC:\\ProgramData\\Anaconda3\\envs\\chinese_experiment\\lib\\site-packages\\pandas\\core\\generic.py\u001B[0m in \u001B[0;36m_drop_axis\u001B[1;34m(self, labels, axis, level, errors, consolidate, only_slice)\u001B[0m\n\u001B[0;32m   4321\u001B[0m                 \u001B[0mnew_axis\u001B[0m \u001B[1;33m=\u001B[0m \u001B[0maxis\u001B[0m\u001B[1;33m.\u001B[0m\u001B[0mdrop\u001B[0m\u001B[1;33m(\u001B[0m\u001B[0mlabels\u001B[0m\u001B[1;33m,\u001B[0m \u001B[0mlevel\u001B[0m\u001B[1;33m=\u001B[0m\u001B[0mlevel\u001B[0m\u001B[1;33m,\u001B[0m \u001B[0merrors\u001B[0m\u001B[1;33m=\u001B[0m\u001B[0merrors\u001B[0m\u001B[1;33m)\u001B[0m\u001B[1;33m\u001B[0m\u001B[1;33m\u001B[0m\u001B[0m\n\u001B[0;32m   4322\u001B[0m             \u001B[1;32melse\u001B[0m\u001B[1;33m:\u001B[0m\u001B[1;33m\u001B[0m\u001B[1;33m\u001B[0m\u001B[0m\n\u001B[1;32m-> 4323\u001B[1;33m                 \u001B[0mnew_axis\u001B[0m \u001B[1;33m=\u001B[0m \u001B[0maxis\u001B[0m\u001B[1;33m.\u001B[0m\u001B[0mdrop\u001B[0m\u001B[1;33m(\u001B[0m\u001B[0mlabels\u001B[0m\u001B[1;33m,\u001B[0m \u001B[0merrors\u001B[0m\u001B[1;33m=\u001B[0m\u001B[0merrors\u001B[0m\u001B[1;33m)\u001B[0m\u001B[1;33m\u001B[0m\u001B[1;33m\u001B[0m\u001B[0m\n\u001B[0m\u001B[0;32m   4324\u001B[0m             \u001B[0mindexer\u001B[0m \u001B[1;33m=\u001B[0m \u001B[0maxis\u001B[0m\u001B[1;33m.\u001B[0m\u001B[0mget_indexer\u001B[0m\u001B[1;33m(\u001B[0m\u001B[0mnew_axis\u001B[0m\u001B[1;33m)\u001B[0m\u001B[1;33m\u001B[0m\u001B[1;33m\u001B[0m\u001B[0m\n\u001B[0;32m   4325\u001B[0m \u001B[1;33m\u001B[0m\u001B[0m\n",
      "\u001B[1;32mC:\\ProgramData\\Anaconda3\\envs\\chinese_experiment\\lib\\site-packages\\pandas\\core\\indexes\\base.py\u001B[0m in \u001B[0;36mdrop\u001B[1;34m(self, labels, errors)\u001B[0m\n\u001B[0;32m   6642\u001B[0m         \u001B[1;32mif\u001B[0m \u001B[0mmask\u001B[0m\u001B[1;33m.\u001B[0m\u001B[0many\u001B[0m\u001B[1;33m(\u001B[0m\u001B[1;33m)\u001B[0m\u001B[1;33m:\u001B[0m\u001B[1;33m\u001B[0m\u001B[1;33m\u001B[0m\u001B[0m\n\u001B[0;32m   6643\u001B[0m             \u001B[1;32mif\u001B[0m \u001B[0merrors\u001B[0m \u001B[1;33m!=\u001B[0m \u001B[1;34m\"ignore\"\u001B[0m\u001B[1;33m:\u001B[0m\u001B[1;33m\u001B[0m\u001B[1;33m\u001B[0m\u001B[0m\n\u001B[1;32m-> 6644\u001B[1;33m                 \u001B[1;32mraise\u001B[0m \u001B[0mKeyError\u001B[0m\u001B[1;33m(\u001B[0m\u001B[1;34mf\"{list(labels[mask])} not found in axis\"\u001B[0m\u001B[1;33m)\u001B[0m\u001B[1;33m\u001B[0m\u001B[1;33m\u001B[0m\u001B[0m\n\u001B[0m\u001B[0;32m   6645\u001B[0m             \u001B[0mindexer\u001B[0m \u001B[1;33m=\u001B[0m \u001B[0mindexer\u001B[0m\u001B[1;33m[\u001B[0m\u001B[1;33m~\u001B[0m\u001B[0mmask\u001B[0m\u001B[1;33m]\u001B[0m\u001B[1;33m\u001B[0m\u001B[1;33m\u001B[0m\u001B[0m\n\u001B[0;32m   6646\u001B[0m         \u001B[1;32mreturn\u001B[0m \u001B[0mself\u001B[0m\u001B[1;33m.\u001B[0m\u001B[0mdelete\u001B[0m\u001B[1;33m(\u001B[0m\u001B[0mindexer\u001B[0m\u001B[1;33m)\u001B[0m\u001B[1;33m\u001B[0m\u001B[1;33m\u001B[0m\u001B[0m\n",
      "\u001B[1;31mKeyError\u001B[0m: \"['Unnamed: 0'] not found in axis\""
     ]
    }
   ],
   "source": [
    "CapgMyoDF.drop('Unnamed: 0', inplace=True, axis=1)"
   ],
   "metadata": {
    "collapsed": false,
    "pycharm": {
     "name": "#%%\n"
    }
   }
  },
  {
   "cell_type": "code",
   "execution_count": 8,
   "outputs": [],
   "source": [
    "CapgMyoDF.to_csv(os.path.join('..', '..', 'Data', 'CapgMyo', 'CapgMyo.csv'), index=False)"
   ],
   "metadata": {
    "collapsed": false,
    "pycharm": {
     "name": "#%%\n"
    }
   }
  },
  {
   "cell_type": "code",
   "execution_count": 13,
   "outputs": [
    {
     "data": {
      "text/plain": "tensor([[-8.5561e-03, -5.7104e-03, -6.8789e-03, -3.5183e-03,  2.2726e-03,\n         -1.8738e-03,  4.5355e-03,  5.8379e-03],\n        [-2.0576e-03, -2.6699e-02, -2.7657e-02, -1.0247e-02,  7.7434e-03,\n         -1.9768e-03, -8.4650e-03,  4.3372e-03],\n        [-3.1970e-03,  4.5289e-03,  1.2535e-03,  7.6332e-03, -6.2416e-03,\n         -7.0039e-03, -7.7303e-04, -2.8595e-03],\n        [-2.0505e-03, -1.0907e-03, -1.0163e-03,  8.0581e-03, -6.7409e-03,\n          5.2024e-04, -2.0970e-03, -2.8353e-03],\n        [-6.8206e-03, -1.2987e-02, -7.8522e-03,  2.0743e-03,  6.3714e-03,\n          6.4874e-03,  8.4902e-03, -1.3745e-05],\n        [-9.9149e-03, -6.7347e-03, -1.9878e-02,  5.5136e-03, -2.4017e-03,\n          4.6353e-03,  1.0339e-02,  3.5195e-02],\n        [-4.8477e-03,  3.6322e-03, -1.8751e-03,  8.4397e-03,  1.4810e-02,\n          8.8719e-03,  5.3352e-03, -5.3305e-03],\n        [-7.0676e-03, -6.7991e-03, -1.2337e-03,  3.9026e-03,  5.8881e-03,\n          1.4885e-02,  1.8602e-03,  2.4679e-03],\n        [-1.0264e-02,  4.6372e-03, -1.0565e-02, -1.0270e-02, -2.8952e-03,\n          1.0953e-02, -3.5235e-04, -3.3538e-03],\n        [-1.8221e-02, -5.6790e-03,  9.9716e-04,  2.7342e-03,  2.5804e-03,\n         -4.8175e-04,  1.4784e-02,  2.7965e-05],\n        [-5.5910e-03,  8.1837e-04, -5.3391e-03, -1.3957e-04,  6.5610e-03,\n         -2.3704e-03, -1.9238e-03, -8.5403e-03],\n        [ 3.9632e-03,  1.1989e-02,  1.0346e-02,  1.0404e-04,  1.0630e-02,\n          1.8940e-03,  3.8488e-03, -1.2074e-02],\n        [-1.0499e-02, -6.6164e-03, -8.5763e-03, -4.4895e-03,  4.8108e-03,\n          4.0008e-03,  4.3842e-04,  1.7115e-03],\n        [-7.6585e-03, -6.0988e-03, -6.3588e-03,  1.2278e-05, -3.4714e-03,\n          1.7065e-03, -5.9000e-03,  2.4743e-04],\n        [ 6.4278e-04, -7.8935e-03, -1.0048e-02, -2.8610e-03,  1.9632e-03,\n         -1.2352e-02, -4.6292e-03,  3.0261e-04],\n        [-9.0353e-03, -9.8931e-03, -3.0823e-03, -2.7376e-03, -1.0039e-03,\n          4.2322e-03, -6.3788e-03, -6.6849e-03]], dtype=torch.float64)"
     },
     "execution_count": 13,
     "metadata": {},
     "output_type": "execute_result"
    }
   ],
   "source": [
    "torch.from_numpy(np.load(CapgMyoDF.paths[1000000]))"
   ],
   "metadata": {
    "collapsed": false,
    "pycharm": {
     "name": "#%%\n"
    }
   }
  },
  {
   "cell_type": "code",
   "execution_count": 2,
   "outputs": [],
   "source": [
    "dataset = CapgMyo()"
   ],
   "metadata": {
    "collapsed": false,
    "pycharm": {
     "name": "#%%\n"
    }
   }
  },
  {
   "cell_type": "code",
   "execution_count": 3,
   "outputs": [
    {
     "data": {
      "text/plain": "<torch.utils.data.dataloader.DataLoader at 0x1a8d337d840>"
     },
     "execution_count": 3,
     "metadata": {},
     "output_type": "execute_result"
    }
   ],
   "source": [
    "dataloader = DataLoader(dataset=dataset, batch_size=4, shuffle=True, num_workers=2)\n",
    "dataloader"
   ],
   "metadata": {
    "collapsed": false,
    "pycharm": {
     "name": "#%%\n"
    }
   }
  },
  {
   "cell_type": "code",
   "execution_count": 4,
   "outputs": [
    {
     "data": {
      "text/plain": "1260000"
     },
     "execution_count": 4,
     "metadata": {},
     "output_type": "execute_result"
    }
   ],
   "source": [
    "dataset.__len__()"
   ],
   "metadata": {
    "collapsed": false,
    "pycharm": {
     "name": "#%%\n"
    }
   }
  },
  {
   "cell_type": "code",
   "execution_count": 5,
   "outputs": [
    {
     "name": "stdout",
     "output_type": "stream",
     "text": [
      "tensor([[[ 1.9777e-03, -5.6995e-04,  1.3944e-02,  1.9737e-02,  4.4204e-02,\n",
      "           1.5919e-02, -6.1627e-03, -1.5769e-02],\n",
      "         [ 1.2028e-03,  4.8578e-03,  1.0125e-03,  4.5997e-03,  1.2048e-02,\n",
      "           4.7248e-03, -1.4377e-02, -6.1463e-03],\n",
      "         [-2.6746e-02, -3.2995e-02, -2.0572e-02, -2.8428e-03,  7.1068e-03,\n",
      "           3.9167e-03,  6.9383e-03,  1.6852e-03],\n",
      "         [-5.1041e-02, -8.6579e-02, -3.9627e-02,  3.4812e-03,  1.6935e-02,\n",
      "           2.3156e-02,  1.2301e-02,  3.0250e-02],\n",
      "         [-9.1672e-03,  2.8070e-03, -1.2672e-02, -9.2334e-03,  6.2498e-03,\n",
      "          -4.2990e-04,  3.6616e-04,  1.9626e-02],\n",
      "         [ 2.3780e-02,  2.5439e-03,  4.5372e-03, -2.0059e-02, -1.0506e-02,\n",
      "           2.2689e-03, -1.2070e-02, -6.8988e-03],\n",
      "         [ 1.1769e-02,  1.7242e-02,  1.1135e-02,  1.0306e-02,  3.5419e-03,\n",
      "           2.1285e-03,  2.6197e-03, -5.0089e-04],\n",
      "         [ 7.3170e-03,  1.1158e-02,  1.6333e-02,  1.3168e-02,  8.4582e-03,\n",
      "           3.5078e-03,  3.0725e-03,  1.7908e-03],\n",
      "         [ 1.8328e-02,  7.2806e-03, -5.2948e-03, -3.5380e-03,  2.2848e-02,\n",
      "           3.1994e-02,  4.6557e-02,  1.4244e-02],\n",
      "         [ 6.0198e-02,  4.2219e-02, -2.0230e-02, -2.3435e-02, -2.1101e-02,\n",
      "           2.4461e-02,  3.8375e-02,  1.6326e-02],\n",
      "         [ 1.2259e-01,  9.0690e-02, -1.3926e-02, -5.8827e-02, -2.8610e-02,\n",
      "          -3.2659e-02, -1.0787e-01, -2.3576e-02],\n",
      "         [ 1.4985e-01,  8.4969e-02, -4.6483e-03, -7.8374e-02, -4.1712e-02,\n",
      "          -2.2430e-02, -2.2890e-02, -1.1822e-02],\n",
      "         [ 2.2136e-03,  2.2661e-01,  6.1300e-02,  5.6883e-02,  2.0377e-02,\n",
      "           1.6413e-02,  6.2969e-02,  3.8414e-03],\n",
      "         [ 2.7049e-02,  2.1464e-02,  3.4771e-02,  6.5054e-02,  4.5998e-02,\n",
      "           9.9648e-03,  9.8155e-03,  9.7396e-03],\n",
      "         [ 1.1206e-02,  1.5612e-02,  1.8363e-02,  1.6755e-02,  5.6929e-03,\n",
      "          -1.0044e-03,  4.0744e-03,  2.3820e-02],\n",
      "         [ 1.5149e-02,  1.5227e-02,  1.3371e-02,  3.7240e-02,  1.7040e-02,\n",
      "          -1.8913e-03, -1.2009e-02,  1.8155e-03]],\n",
      "\n",
      "        [[ 7.7119e-03,  1.2841e-02,  2.5854e-02,  4.0374e-03, -9.2032e-03,\n",
      "          -4.1716e-03, -3.0604e-03, -1.0322e-02],\n",
      "         [ 1.1652e-02,  2.1273e-02,  3.0734e-02,  2.3272e-02,  8.3320e-03,\n",
      "          -1.1369e-02, -2.2409e-02, -1.1494e-02],\n",
      "         [ 2.6730e-02,  1.3753e-02,  1.7719e-03,  5.2711e-03, -6.8110e-03,\n",
      "          -7.4500e-03, -5.9329e-03, -3.2722e-02],\n",
      "         [ 2.5066e-02,  1.0333e-03,  2.3757e-04,  1.0333e-02, -1.0109e-02,\n",
      "          -6.9364e-03, -1.0630e-02, -3.8622e-02],\n",
      "         [ 3.6431e-03, -2.2366e-03,  5.9432e-03,  7.7209e-03,  2.3775e-03,\n",
      "          -2.7496e-03, -2.0397e-03, -7.4857e-03],\n",
      "         [ 1.4208e-02,  2.1203e-02,  1.5123e-02,  2.1966e-02, -5.7212e-03,\n",
      "          -2.1856e-02, -8.0239e-03,  1.1739e-02],\n",
      "         [ 2.8977e-03,  1.7936e-02,  1.1047e-03,  4.9669e-03,  1.2554e-02,\n",
      "           8.0853e-03, -1.5065e-03, -1.8043e-02],\n",
      "         [ 1.9980e-02,  9.9134e-03,  2.4228e-03, -6.7643e-04,  2.1365e-03,\n",
      "           4.5396e-03, -7.8562e-03, -1.5101e-02],\n",
      "         [-9.1913e-03,  1.1210e-03, -7.2136e-03, -1.0630e-02,  4.3945e-04,\n",
      "           4.4492e-03, -5.1574e-03, -3.4212e-03],\n",
      "         [-8.8902e-03,  4.7981e-04, -4.5314e-03, -4.4725e-03,  2.5156e-03,\n",
      "          -6.6379e-03, -8.2295e-03, -7.0997e-03],\n",
      "         [-5.5895e-04,  1.6185e-03, -4.3054e-03, -1.3130e-04,  5.3840e-03,\n",
      "          -3.8622e-03,  9.0363e-05, -8.9711e-03],\n",
      "         [-1.1865e-04,  3.0458e-03,  3.0420e-03,  3.0420e-03, -1.4731e-03,\n",
      "           1.8210e-03,  1.0419e-02, -4.0731e-03],\n",
      "         [-5.8875e-03, -1.2447e-03, -1.1811e-03, -5.0575e-03,  4.6430e-04,\n",
      "          -1.7154e-03,  3.7146e-04, -3.1981e-03],\n",
      "         [-3.7731e-03,  1.6328e-03, -3.7590e-03,  2.7392e-04, -5.1796e-03,\n",
      "           1.8104e-03, -6.9370e-03, -4.0199e-03],\n",
      "         [ 1.0104e-02,  4.2879e-03,  5.0411e-03,  8.9196e-04,  8.0450e-04,\n",
      "          -9.7955e-03, -1.1050e-02, -5.1047e-03],\n",
      "         [ 1.3073e-03,  9.6894e-04,  4.0345e-03, -3.2219e-03, -8.9750e-03,\n",
      "          -8.2669e-03, -2.0022e-02, -1.2168e-02]],\n",
      "\n",
      "        [[ 6.5030e-03,  6.7257e-03,  1.3165e-02,  1.1758e-02,  1.2374e-03,\n",
      "          -1.0482e-02, -2.3667e-02, -1.8606e-02],\n",
      "         [ 3.1734e-03,  1.1167e-02,  1.0183e-02,  1.3140e-02,  1.6569e-02,\n",
      "           4.0449e-03, -1.7348e-02, -9.8564e-03],\n",
      "         [-5.4405e-03, -2.2118e-02, -3.4519e-02, -7.0971e-03,  7.9962e-03,\n",
      "          -2.7060e-03, -3.4852e-02, -2.3859e-02],\n",
      "         [-1.2525e-02, -2.0375e-02, -1.0923e-02, -1.1685e-02, -3.8791e-03,\n",
      "          -1.1663e-02, -6.5912e-03, -4.9196e-03],\n",
      "         [-1.6863e-02, -4.6167e-03,  8.5025e-03,  4.3403e-02,  3.8546e-02,\n",
      "          -6.2502e-03,  3.4396e-02, -1.9616e-03],\n",
      "         [ 1.0982e-02,  1.9829e-02,  2.5047e-02,  2.5447e-02,  1.8436e-02,\n",
      "           2.6067e-03, -9.9284e-03,  5.9057e-03],\n",
      "         [-3.9940e-03,  2.6961e-03,  9.4148e-04,  3.4699e-03,  6.1150e-03,\n",
      "           4.3044e-03,  1.6494e-02,  6.2387e-03],\n",
      "         [-3.2259e-03, -1.0296e-02, -3.7269e-03, -1.0327e-02, -1.0234e-03,\n",
      "           7.1479e-03,  7.6646e-03,  6.5001e-04],\n",
      "         [ 5.2297e-04,  1.4373e-02,  1.6233e-02,  1.1859e-02,  1.2458e-03,\n",
      "           2.9104e-03,  3.7509e-03,  2.0690e-04],\n",
      "         [ 1.1845e-02,  1.6558e-02,  1.3159e-02,  8.8195e-03,  2.6908e-03,\n",
      "          -5.4388e-03, -2.1518e-03,  1.6199e-03],\n",
      "         [ 1.1777e-02,  5.4954e-02,  3.3996e-02, -5.4492e-03, -5.7100e-02,\n",
      "          -1.2476e-01, -6.0785e-02, -2.4713e-02],\n",
      "         [ 6.3543e-02,  2.8479e-02,  1.5584e-02, -3.0593e-02, -1.0270e-01,\n",
      "          -1.0106e-01, -1.3131e-01, -2.9603e-02],\n",
      "         [ 2.9717e-03,  7.0076e-03,  6.7064e-03, -3.9887e-03, -4.4472e-02,\n",
      "          -2.3223e-02, -2.5103e-02, -2.0673e-02],\n",
      "         [ 6.1448e-03,  5.3206e-03,  5.0989e-03, -1.3588e-03, -8.2600e-03,\n",
      "          -1.0325e-02, -1.2566e-02, -1.4340e-02],\n",
      "         [ 7.1806e-03,  7.8535e-03,  4.3739e-03,  5.0070e-03, -5.8698e-04,\n",
      "          -5.8485e-03, -6.3263e-03, -2.5394e-03],\n",
      "         [ 5.3720e-04,  4.8014e-03,  4.8571e-03,  2.1693e-03,  6.9075e-03,\n",
      "          -3.7825e-03,  9.1880e-04, -4.8324e-03]],\n",
      "\n",
      "        [[-5.5433e-02, -7.7495e-02, -7.2005e-02, -4.5042e-02, -2.6725e-02,\n",
      "           2.6910e-02,  4.0156e-02,  5.7599e-02],\n",
      "         [-3.7198e-02, -9.5967e-02, -8.9684e-03, -2.4876e-02, -1.3651e-02,\n",
      "           1.0845e-02,  2.0732e-02,  1.9076e-02],\n",
      "         [-1.3998e-02, -7.6429e-02, -5.7592e-02, -3.5052e-02, -1.4405e-02,\n",
      "          -1.0703e-02, -2.2949e-02, -4.7781e-03],\n",
      "         [-1.6850e-02, -5.3926e-02, -2.7602e-02, -2.0931e-02, -7.6385e-03,\n",
      "          -2.0757e-02, -1.4733e-02, -2.4450e-02],\n",
      "         [ 3.5046e-02, -2.5913e-02, -1.3351e-02, -6.6380e-03, -5.3204e-03,\n",
      "          -9.5454e-03, -6.6608e-03, -1.1469e-02],\n",
      "         [-3.0005e-02, -3.5551e-02, -7.4519e-03,  7.1998e-03, -3.2418e-03,\n",
      "          -3.6037e-03, -1.2235e-02, -1.7140e-03],\n",
      "         [-1.4083e-02, -1.0459e-02, -5.2031e-03, -3.7706e-03, -9.5567e-03,\n",
      "          -4.7405e-03, -6.3100e-03, -7.6741e-03],\n",
      "         [-1.0944e-03, -7.6536e-04, -2.4817e-03, -6.2857e-03, -8.5517e-03,\n",
      "          -6.8634e-03, -6.2823e-03,  1.2594e-03],\n",
      "         [ 2.2784e-03, -7.9787e-04,  1.5719e-03,  3.4048e-03,  1.1887e-03,\n",
      "           6.5522e-03,  1.2548e-02,  2.8235e-03],\n",
      "         [-1.4794e-03,  3.3692e-04,  3.0211e-03,  5.1450e-03,  5.2415e-03,\n",
      "           5.6600e-03,  6.1129e-03, -6.8978e-05],\n",
      "         [ 4.2994e-03, -2.0129e-03,  2.8038e-03, -1.7987e-03,  5.5374e-04,\n",
      "           1.3249e-03,  5.3513e-04,  2.4716e-03],\n",
      "         [-3.3462e-03,  2.6753e-04, -4.0435e-03, -1.3346e-03, -1.4538e-03,\n",
      "           2.1868e-03,  2.0310e-03, -6.0253e-03],\n",
      "         [-8.3026e-03, -6.0614e-03,  5.3120e-03,  5.4866e-03,  9.0466e-03,\n",
      "           8.5704e-03,  4.3359e-04, -4.7116e-03],\n",
      "         [-4.0250e-03,  2.7843e-03,  8.1663e-03,  6.9324e-03,  9.8893e-03,\n",
      "           1.8767e-02,  6.8165e-03,  7.3382e-03],\n",
      "         [ 9.6675e-03, -2.9016e-03,  2.1962e-03,  1.1191e-02,  2.8725e-02,\n",
      "           2.7935e-02,  3.3636e-02,  2.6125e-02],\n",
      "         [-7.3603e-03, -6.4842e-03, -2.0758e-03,  1.0117e-02,  2.5027e-02,\n",
      "           3.4083e-02,  3.8929e-02,  4.1108e-02]]], dtype=torch.float64) tensor([3, 3, 3, 4])\n"
     ]
    }
   ],
   "source": [
    "dataiter = iter(dataloader)\n",
    "features, labels = dataiter.next()\n",
    "print(features, labels)"
   ],
   "metadata": {
    "collapsed": false,
    "pycharm": {
     "name": "#%%\n"
    }
   }
  },
  {
   "cell_type": "code",
   "execution_count": 4,
   "outputs": [
    {
     "data": {
      "text/plain": "<datasets.data_module.CapgMyoDataModule at 0x15029b3ad10>"
     },
     "execution_count": 4,
     "metadata": {},
     "output_type": "execute_result"
    }
   ],
   "source": [
    "AbstractDataModule(os.path.join('..', '..', 'Data', 'CapgMyo', 'CapgMyo.csv'))"
   ],
   "metadata": {
    "collapsed": false,
    "pycharm": {
     "name": "#%%\n"
    }
   }
  },
  {
   "cell_type": "code",
   "execution_count": null,
   "outputs": [],
   "source": [],
   "metadata": {
    "collapsed": false,
    "pycharm": {
     "name": "#%%\n"
    }
   }
  },
  {
   "cell_type": "code",
   "execution_count": 2,
   "outputs": [],
   "source": [
    "capten = get_capgmyo_tensor()"
   ],
   "metadata": {
    "collapsed": false,
    "pycharm": {
     "name": "#%%\n"
    }
   }
  },
  {
   "cell_type": "code",
   "execution_count": 3,
   "outputs": [
    {
     "data": {
      "text/plain": "<Figure size 432x288 with 1 Axes>",
      "image/png": "[encoded data removed]"
     },
     "metadata": {
      "needs_background": "light"
     },
     "output_type": "display_data"
    }
   ],
   "source": [
    "plt.imshow(capten[0][400], interpolation='nearest')\n",
    "plt.axis('off')\n",
    "plt.show()"
   ],
   "metadata": {
    "collapsed": false,
    "pycharm": {
     "name": "#%%\n"
    }
   }
  },
  {
   "cell_type": "code",
   "execution_count": 2,
   "outputs": [
    {
     "data": {
      "text/plain": "                                                   records  labels\n0        [[0.05842395008672874, 0.03897882523526789, -0...       1\n1        [[0.05190974706218046, 0.011920948483512285, 0...       1\n2        [[0.013169703212726636, -0.011579979698558026,...       1\n3        [[-0.004400510770832741, 0.0011526380972148001...       1\n4        [[0.04349718753798314, 0.01520018674440372, -0...       1\n...                                                    ...     ...\n1259995  [[-0.006244014407391028, 0.0002240435889810993...       7\n1259996  [[-0.007085937273800194, 0.0001955566788236509...       7\n1259997  [[-0.006644892514181833, 0.0003949620863952353...       7\n1259998  [[-0.007414133930325232, -0.001094886074140485...       7\n1259999  [[-0.008317822145494144, -0.001691408783494379...       7\n\n[1260000 rows x 2 columns]",
      "text/html": "<div>\n<style scoped>\n    .dataframe tbody tr th:only-of-type {\n        vertical-align: middle;\n    }\n\n    .dataframe tbody tr th {\n        vertical-align: top;\n    }\n\n    .dataframe thead th {\n        text-align: right;\n    }\n</style>\n<table border=\"1\" class=\"dataframe\">\n  <thead>\n    <tr style=\"text-align: right;\">\n      <th></th>\n      <th>records</th>\n      <th>labels</th>\n    </tr>\n  </thead>\n  <tbody>\n    <tr>\n      <th>0</th>\n      <td>[[0.05842395008672874, 0.03897882523526789, -0...</td>\n      <td>1</td>\n    </tr>\n    <tr>\n      <th>1</th>\n      <td>[[0.05190974706218046, 0.011920948483512285, 0...</td>\n      <td>1</td>\n    </tr>\n    <tr>\n      <th>2</th>\n      <td>[[0.013169703212726636, -0.011579979698558026,...</td>\n      <td>1</td>\n    </tr>\n    <tr>\n      <th>3</th>\n      <td>[[-0.004400510770832741, 0.0011526380972148001...</td>\n      <td>1</td>\n    </tr>\n    <tr>\n      <th>4</th>\n      <td>[[0.04349718753798314, 0.01520018674440372, -0...</td>\n      <td>1</td>\n    </tr>\n    <tr>\n      <th>...</th>\n      <td>...</td>\n      <td>...</td>\n    </tr>\n    <tr>\n      <th>1259995</th>\n      <td>[[-0.006244014407391028, 0.0002240435889810993...</td>\n      <td>7</td>\n    </tr>\n    <tr>\n      <th>1259996</th>\n      <td>[[-0.007085937273800194, 0.0001955566788236509...</td>\n      <td>7</td>\n    </tr>\n    <tr>\n      <th>1259997</th>\n      <td>[[-0.006644892514181833, 0.0003949620863952353...</td>\n      <td>7</td>\n    </tr>\n    <tr>\n      <th>1259998</th>\n      <td>[[-0.007414133930325232, -0.001094886074140485...</td>\n      <td>7</td>\n    </tr>\n    <tr>\n      <th>1259999</th>\n      <td>[[-0.008317822145494144, -0.001691408783494379...</td>\n      <td>7</td>\n    </tr>\n  </tbody>\n</table>\n<p>1260000 rows × 2 columns</p>\n</div>"
     },
     "execution_count": 2,
     "metadata": {},
     "output_type": "execute_result"
    }
   ],
   "source": [
    "data_frame = get_capgmyo_dataset()\n",
    "data_frame"
   ],
   "metadata": {
    "collapsed": false,
    "pycharm": {
     "name": "#%%\n"
    }
   }
  },
  {
   "cell_type": "code",
   "execution_count": 3,
   "outputs": [
    {
     "data": {
      "text/plain": "<Figure size 432x288 with 1 Axes>",
      "image/png": "[encoded data removed]"
     },
     "metadata": {
      "needs_background": "light"
     },
     "output_type": "display_data"
    }
   ],
   "source": [
    "plt.imshow(data_frame.records[400], interpolation='nearest')\n",
    "plt.axis('off')\n",
    "plt.show()"
   ],
   "metadata": {
    "collapsed": false,
    "pycharm": {
     "name": "#%%\n"
    }
   }
  },
  {
   "cell_type": "code",
   "execution_count": 4,
   "outputs": [],
   "source": [
    "data_frame.to_csv('test.csv', index=False)"
   ],
   "metadata": {
    "collapsed": false,
    "pycharm": {
     "name": "#%%\n"
    }
   }
  },
  {
   "cell_type": "code",
   "execution_count": 12,
   "outputs": [
    {
     "ename": "KeyboardInterrupt",
     "evalue": "",
     "output_type": "error",
     "traceback": [
      "\u001B[1;31m---------------------------------------------------------------------------\u001B[0m",
      "\u001B[1;31mKeyboardInterrupt\u001B[0m                         Traceback (most recent call last)",
      "\u001B[1;32m~\\AppData\\Local\\Temp/ipykernel_11548/1384942807.py\u001B[0m in \u001B[0;36m<module>\u001B[1;34m\u001B[0m\n\u001B[1;32m----> 1\u001B[1;33m \u001B[0mpd\u001B[0m\u001B[1;33m.\u001B[0m\u001B[0mread_csv\u001B[0m\u001B[1;33m(\u001B[0m\u001B[1;34m'test.csv'\u001B[0m\u001B[1;33m,\u001B[0m \u001B[0mskiprows\u001B[0m\u001B[1;33m=\u001B[0m\u001B[1;36m1000\u001B[0m\u001B[1;33m,\u001B[0m \u001B[0mengine\u001B[0m\u001B[1;33m=\u001B[0m\u001B[1;34m'c'\u001B[0m\u001B[1;33m,\u001B[0m \u001B[0mheader\u001B[0m\u001B[1;33m=\u001B[0m\u001B[1;32mNone\u001B[0m\u001B[1;33m)\u001B[0m\u001B[1;33m\u001B[0m\u001B[1;33m\u001B[0m\u001B[0m\n\u001B[0m",
      "\u001B[1;32mC:\\ProgramData\\Anaconda3\\envs\\chinese_experiment\\lib\\site-packages\\pandas\\util\\_decorators.py\u001B[0m in \u001B[0;36mwrapper\u001B[1;34m(*args, **kwargs)\u001B[0m\n\u001B[0;32m    309\u001B[0m                     \u001B[0mstacklevel\u001B[0m\u001B[1;33m=\u001B[0m\u001B[0mstacklevel\u001B[0m\u001B[1;33m,\u001B[0m\u001B[1;33m\u001B[0m\u001B[1;33m\u001B[0m\u001B[0m\n\u001B[0;32m    310\u001B[0m                 )\n\u001B[1;32m--> 311\u001B[1;33m             \u001B[1;32mreturn\u001B[0m \u001B[0mfunc\u001B[0m\u001B[1;33m(\u001B[0m\u001B[1;33m*\u001B[0m\u001B[0margs\u001B[0m\u001B[1;33m,\u001B[0m \u001B[1;33m**\u001B[0m\u001B[0mkwargs\u001B[0m\u001B[1;33m)\u001B[0m\u001B[1;33m\u001B[0m\u001B[1;33m\u001B[0m\u001B[0m\n\u001B[0m\u001B[0;32m    312\u001B[0m \u001B[1;33m\u001B[0m\u001B[0m\n\u001B[0;32m    313\u001B[0m         \u001B[1;32mreturn\u001B[0m \u001B[0mwrapper\u001B[0m\u001B[1;33m\u001B[0m\u001B[1;33m\u001B[0m\u001B[0m\n",
      "\u001B[1;32mC:\\ProgramData\\Anaconda3\\envs\\chinese_experiment\\lib\\site-packages\\pandas\\io\\parsers\\readers.py\u001B[0m in \u001B[0;36mread_csv\u001B[1;34m(filepath_or_buffer, sep, delimiter, header, names, index_col, usecols, squeeze, prefix, mangle_dupe_cols, dtype, engine, converters, true_values, false_values, skipinitialspace, skiprows, skipfooter, nrows, na_values, keep_default_na, na_filter, verbose, skip_blank_lines, parse_dates, infer_datetime_format, keep_date_col, date_parser, dayfirst, cache_dates, iterator, chunksize, compression, thousands, decimal, lineterminator, quotechar, quoting, doublequote, escapechar, comment, encoding, encoding_errors, dialect, error_bad_lines, warn_bad_lines, on_bad_lines, delim_whitespace, low_memory, memory_map, float_precision, storage_options)\u001B[0m\n\u001B[0;32m    678\u001B[0m     \u001B[0mkwds\u001B[0m\u001B[1;33m.\u001B[0m\u001B[0mupdate\u001B[0m\u001B[1;33m(\u001B[0m\u001B[0mkwds_defaults\u001B[0m\u001B[1;33m)\u001B[0m\u001B[1;33m\u001B[0m\u001B[1;33m\u001B[0m\u001B[0m\n\u001B[0;32m    679\u001B[0m \u001B[1;33m\u001B[0m\u001B[0m\n\u001B[1;32m--> 680\u001B[1;33m     \u001B[1;32mreturn\u001B[0m \u001B[0m_read\u001B[0m\u001B[1;33m(\u001B[0m\u001B[0mfilepath_or_buffer\u001B[0m\u001B[1;33m,\u001B[0m \u001B[0mkwds\u001B[0m\u001B[1;33m)\u001B[0m\u001B[1;33m\u001B[0m\u001B[1;33m\u001B[0m\u001B[0m\n\u001B[0m\u001B[0;32m    681\u001B[0m \u001B[1;33m\u001B[0m\u001B[0m\n\u001B[0;32m    682\u001B[0m \u001B[1;33m\u001B[0m\u001B[0m\n",
      "\u001B[1;32mC:\\ProgramData\\Anaconda3\\envs\\chinese_experiment\\lib\\site-packages\\pandas\\io\\parsers\\readers.py\u001B[0m in \u001B[0;36m_read\u001B[1;34m(filepath_or_buffer, kwds)\u001B[0m\n\u001B[0;32m    579\u001B[0m \u001B[1;33m\u001B[0m\u001B[0m\n\u001B[0;32m    580\u001B[0m     \u001B[1;32mwith\u001B[0m \u001B[0mparser\u001B[0m\u001B[1;33m:\u001B[0m\u001B[1;33m\u001B[0m\u001B[1;33m\u001B[0m\u001B[0m\n\u001B[1;32m--> 581\u001B[1;33m         \u001B[1;32mreturn\u001B[0m \u001B[0mparser\u001B[0m\u001B[1;33m.\u001B[0m\u001B[0mread\u001B[0m\u001B[1;33m(\u001B[0m\u001B[0mnrows\u001B[0m\u001B[1;33m)\u001B[0m\u001B[1;33m\u001B[0m\u001B[1;33m\u001B[0m\u001B[0m\n\u001B[0m\u001B[0;32m    582\u001B[0m \u001B[1;33m\u001B[0m\u001B[0m\n\u001B[0;32m    583\u001B[0m \u001B[1;33m\u001B[0m\u001B[0m\n",
      "\u001B[1;32mC:\\ProgramData\\Anaconda3\\envs\\chinese_experiment\\lib\\site-packages\\pandas\\io\\parsers\\readers.py\u001B[0m in \u001B[0;36mread\u001B[1;34m(self, nrows)\u001B[0m\n\u001B[0;32m   1248\u001B[0m             \u001B[0mnrows\u001B[0m \u001B[1;33m=\u001B[0m \u001B[0mvalidate_integer\u001B[0m\u001B[1;33m(\u001B[0m\u001B[1;34m\"nrows\"\u001B[0m\u001B[1;33m,\u001B[0m \u001B[0mnrows\u001B[0m\u001B[1;33m)\u001B[0m\u001B[1;33m\u001B[0m\u001B[1;33m\u001B[0m\u001B[0m\n\u001B[0;32m   1249\u001B[0m             \u001B[1;32mtry\u001B[0m\u001B[1;33m:\u001B[0m\u001B[1;33m\u001B[0m\u001B[1;33m\u001B[0m\u001B[0m\n\u001B[1;32m-> 1250\u001B[1;33m                 \u001B[0mindex\u001B[0m\u001B[1;33m,\u001B[0m \u001B[0mcolumns\u001B[0m\u001B[1;33m,\u001B[0m \u001B[0mcol_dict\u001B[0m \u001B[1;33m=\u001B[0m \u001B[0mself\u001B[0m\u001B[1;33m.\u001B[0m\u001B[0m_engine\u001B[0m\u001B[1;33m.\u001B[0m\u001B[0mread\u001B[0m\u001B[1;33m(\u001B[0m\u001B[0mnrows\u001B[0m\u001B[1;33m)\u001B[0m\u001B[1;33m\u001B[0m\u001B[1;33m\u001B[0m\u001B[0m\n\u001B[0m\u001B[0;32m   1251\u001B[0m             \u001B[1;32mexcept\u001B[0m \u001B[0mException\u001B[0m\u001B[1;33m:\u001B[0m\u001B[1;33m\u001B[0m\u001B[1;33m\u001B[0m\u001B[0m\n\u001B[0;32m   1252\u001B[0m                 \u001B[0mself\u001B[0m\u001B[1;33m.\u001B[0m\u001B[0mclose\u001B[0m\u001B[1;33m(\u001B[0m\u001B[1;33m)\u001B[0m\u001B[1;33m\u001B[0m\u001B[1;33m\u001B[0m\u001B[0m\n",
      "\u001B[1;32mC:\\ProgramData\\Anaconda3\\envs\\chinese_experiment\\lib\\site-packages\\pandas\\io\\parsers\\c_parser_wrapper.py\u001B[0m in \u001B[0;36mread\u001B[1;34m(self, nrows)\u001B[0m\n\u001B[0;32m    223\u001B[0m         \u001B[1;32mtry\u001B[0m\u001B[1;33m:\u001B[0m\u001B[1;33m\u001B[0m\u001B[1;33m\u001B[0m\u001B[0m\n\u001B[0;32m    224\u001B[0m             \u001B[1;32mif\u001B[0m \u001B[0mself\u001B[0m\u001B[1;33m.\u001B[0m\u001B[0mlow_memory\u001B[0m\u001B[1;33m:\u001B[0m\u001B[1;33m\u001B[0m\u001B[1;33m\u001B[0m\u001B[0m\n\u001B[1;32m--> 225\u001B[1;33m                 \u001B[0mchunks\u001B[0m \u001B[1;33m=\u001B[0m \u001B[0mself\u001B[0m\u001B[1;33m.\u001B[0m\u001B[0m_reader\u001B[0m\u001B[1;33m.\u001B[0m\u001B[0mread_low_memory\u001B[0m\u001B[1;33m(\u001B[0m\u001B[0mnrows\u001B[0m\u001B[1;33m)\u001B[0m\u001B[1;33m\u001B[0m\u001B[1;33m\u001B[0m\u001B[0m\n\u001B[0m\u001B[0;32m    226\u001B[0m                 \u001B[1;31m# destructive to chunks\u001B[0m\u001B[1;33m\u001B[0m\u001B[1;33m\u001B[0m\u001B[0m\n\u001B[0;32m    227\u001B[0m                 \u001B[0mdata\u001B[0m \u001B[1;33m=\u001B[0m \u001B[0m_concatenate_chunks\u001B[0m\u001B[1;33m(\u001B[0m\u001B[0mchunks\u001B[0m\u001B[1;33m)\u001B[0m\u001B[1;33m\u001B[0m\u001B[1;33m\u001B[0m\u001B[0m\n",
      "\u001B[1;32mC:\\ProgramData\\Anaconda3\\envs\\chinese_experiment\\lib\\site-packages\\pandas\\_libs\\parsers.pyx\u001B[0m in \u001B[0;36mpandas._libs.parsers.TextReader.read_low_memory\u001B[1;34m()\u001B[0m\n",
      "\u001B[1;32mC:\\ProgramData\\Anaconda3\\envs\\chinese_experiment\\lib\\site-packages\\pandas\\_libs\\parsers.pyx\u001B[0m in \u001B[0;36mpandas._libs.parsers.TextReader._read_rows\u001B[1;34m()\u001B[0m\n",
      "\u001B[1;32mC:\\ProgramData\\Anaconda3\\envs\\chinese_experiment\\lib\\site-packages\\pandas\\_libs\\parsers.pyx\u001B[0m in \u001B[0;36mpandas._libs.parsers.TextReader._convert_column_data\u001B[1;34m()\u001B[0m\n",
      "\u001B[1;32mC:\\ProgramData\\Anaconda3\\envs\\chinese_experiment\\lib\\site-packages\\pandas\\_libs\\parsers.pyx\u001B[0m in \u001B[0;36mpandas._libs.parsers.TextReader._convert_tokens\u001B[1;34m()\u001B[0m\n",
      "\u001B[1;32mC:\\ProgramData\\Anaconda3\\envs\\chinese_experiment\\lib\\site-packages\\pandas\\_libs\\parsers.pyx\u001B[0m in \u001B[0;36mpandas._libs.parsers.TextReader._convert_with_dtype\u001B[1;34m()\u001B[0m\n",
      "\u001B[1;32mC:\\ProgramData\\Anaconda3\\envs\\chinese_experiment\\lib\\site-packages\\pandas\\core\\dtypes\\common.py\u001B[0m in \u001B[0;36mis_extension_array_dtype\u001B[1;34m(arr_or_dtype)\u001B[0m\n\u001B[0;32m   1472\u001B[0m     \u001B[1;32mFalse\u001B[0m\u001B[1;33m\u001B[0m\u001B[1;33m\u001B[0m\u001B[0m\n\u001B[0;32m   1473\u001B[0m     \"\"\"\n\u001B[1;32m-> 1474\u001B[1;33m     \u001B[0mdtype\u001B[0m \u001B[1;33m=\u001B[0m \u001B[0mgetattr\u001B[0m\u001B[1;33m(\u001B[0m\u001B[0marr_or_dtype\u001B[0m\u001B[1;33m,\u001B[0m \u001B[1;34m\"dtype\"\u001B[0m\u001B[1;33m,\u001B[0m \u001B[0marr_or_dtype\u001B[0m\u001B[1;33m)\u001B[0m\u001B[1;33m\u001B[0m\u001B[1;33m\u001B[0m\u001B[0m\n\u001B[0m\u001B[0;32m   1475\u001B[0m     \u001B[1;32mif\u001B[0m \u001B[0misinstance\u001B[0m\u001B[1;33m(\u001B[0m\u001B[0mdtype\u001B[0m\u001B[1;33m,\u001B[0m \u001B[0mExtensionDtype\u001B[0m\u001B[1;33m)\u001B[0m\u001B[1;33m:\u001B[0m\u001B[1;33m\u001B[0m\u001B[1;33m\u001B[0m\u001B[0m\n\u001B[0;32m   1476\u001B[0m         \u001B[1;32mreturn\u001B[0m \u001B[1;32mTrue\u001B[0m\u001B[1;33m\u001B[0m\u001B[1;33m\u001B[0m\u001B[0m\n",
      "\u001B[1;31mKeyboardInterrupt\u001B[0m: "
     ]
    }
   ],
   "source": [
    "pd.read_csv('test.csv', skiprows=1000, engine='c', header=None)"
   ],
   "metadata": {
    "collapsed": false,
    "pycharm": {
     "name": "#%%\n"
    }
   }
  },
  {
   "cell_type": "code",
   "execution_count": 3,
   "outputs": [],
   "source": [
    "cslten = get_csl_tensor()"
   ],
   "metadata": {
    "collapsed": false,
    "pycharm": {
     "name": "#%%\n"
    }
   }
  },
  {
   "cell_type": "code",
   "execution_count": 3,
   "outputs": [
    {
     "data": {
      "text/plain": "(tensor([[[-6.1037e-05,  9.1556e-05, -1.2207e-04,  ...,  1.5259e-04,\n            2.4415e-04, -2.1363e-04],\n          [ 3.0519e-05,  9.1556e-05, -3.0519e-05,  ...,  1.5259e-04,\n            3.0519e-05,  0.0000e+00],\n          [ 1.5259e-04, -2.1363e-04, -6.1037e-05,  ...,  1.5259e-04,\n            1.8311e-04, -2.7467e-04],\n          ...,\n          [ 1.5259e-04,  3.3570e-04, -3.0519e-04,  ...,  6.1037e-05,\n           -1.2207e-04,  6.1037e-04],\n          [ 3.0519e-05, -9.1556e-05,  6.1037e-05,  ...,  9.1556e-05,\n           -9.1556e-05,  2.1363e-04],\n          [ 3.0519e-05, -1.8311e-04,  2.7467e-04,  ..., -6.1037e-05,\n            1.2207e-04,  3.0519e-05]],\n \n         [[-3.0519e-05,  6.1037e-05, -6.1037e-05,  ...,  1.8311e-04,\n            3.0519e-04, -1.2207e-04],\n          [ 9.1556e-05,  3.0519e-05,  1.5259e-04,  ...,  6.1037e-05,\n            6.1037e-05,  0.0000e+00],\n          [-3.0519e-05, -9.1556e-05, -2.4415e-04,  ...,  9.1556e-05,\n            9.1556e-05, -1.5259e-04],\n          ...,\n          [ 1.2207e-04,  3.0519e-04, -2.7467e-04,  ..., -1.2207e-04,\n            0.0000e+00,  6.4089e-04],\n          [ 1.5259e-04, -2.1363e-04,  9.1556e-05,  ..., -9.1556e-05,\n            1.2207e-04,  1.5259e-04],\n          [ 0.0000e+00, -1.2207e-04,  1.8311e-04,  ..., -1.2207e-04,\n            1.5259e-04,  6.1037e-05]],\n \n         [[-1.2207e-04,  1.2207e-04, -1.2207e-04,  ...,  1.5259e-04,\n            2.4415e-04, -1.2207e-04],\n          [ 0.0000e+00,  0.0000e+00,  1.5259e-04,  ...,  1.5259e-04,\n           -6.1037e-05,  0.0000e+00],\n          [-6.1037e-05, -1.5259e-04, -1.8311e-04,  ...,  1.8311e-04,\n            3.0519e-05, -2.7467e-04],\n          ...,\n          [ 1.2207e-04,  1.2207e-04, -2.4415e-04,  ..., -3.0519e-04,\n            9.1556e-05,  3.6622e-04],\n          [ 1.2207e-04, -3.6622e-04,  1.5259e-04,  ..., -1.5259e-04,\n            3.0519e-05,  1.5259e-04],\n          [-3.0519e-05, -1.5259e-04,  3.0519e-05,  ..., -1.2207e-04,\n            1.8311e-04, -3.0519e-05]],\n \n         ...,\n \n         [[ 3.0519e-05,  0.0000e+00,  0.0000e+00,  ...,  0.0000e+00,\n            9.1556e-05,  3.0519e-05],\n          [-6.1037e-05,  3.0519e-05,  3.0519e-05,  ...,  9.1556e-05,\n           -3.0519e-05,  0.0000e+00],\n          [ 3.0519e-05, -1.5259e-04,  1.5259e-04,  ..., -3.0519e-05,\n           -3.0519e-05, -3.0519e-05],\n          ...,\n          [-6.7141e-04,  3.0519e-05,  4.5778e-04,  ..., -1.2207e-04,\n           -3.0519e-05, -3.0519e-05],\n          [ 3.0519e-04,  1.8311e-04, -9.1556e-05,  ...,  3.0519e-05,\n           -1.5259e-04, -3.0519e-05],\n          [-3.0519e-05,  3.0519e-05,  0.0000e+00,  ..., -1.2207e-04,\n            0.0000e+00,  0.0000e+00]],\n \n         [[-6.1037e-05,  6.1037e-05,  3.0519e-05,  ...,  0.0000e+00,\n            1.5259e-04, -3.0519e-05],\n          [-6.1037e-05, -3.0519e-05,  0.0000e+00,  ..., -9.1556e-05,\n            6.1037e-05,  3.0519e-05],\n          [ 9.1556e-05, -3.0519e-05,  1.2207e-04,  ..., -1.2207e-04,\n            0.0000e+00, -3.0519e-05],\n          ...,\n          [-7.6296e-04,  0.0000e+00,  5.7985e-04,  ...,  9.1556e-05,\n           -3.0519e-05, -3.0519e-05],\n          [ 2.4415e-04,  3.0519e-05,  3.0519e-05,  ..., -3.0519e-05,\n           -1.5259e-04,  2.1363e-04],\n          [-6.1037e-05,  6.1037e-05,  0.0000e+00,  ..., -9.1556e-05,\n           -1.2207e-04,  0.0000e+00]],\n \n         [[ 0.0000e+00,  9.1556e-05, -3.0519e-05,  ...,  9.1556e-05,\n            0.0000e+00,  0.0000e+00],\n          [-1.8311e-04,  1.8311e-04, -3.0519e-05,  ..., -6.1037e-05,\n            6.1037e-05,  3.0519e-05],\n          [ 1.8311e-04, -1.2207e-04,  6.1037e-05,  ...,  6.1037e-05,\n           -9.1556e-05,  6.1037e-05],\n          ...,\n          [-6.7141e-04,  1.2207e-04,  3.0519e-04,  ..., -3.0519e-05,\n           -3.0519e-05, -3.0519e-05],\n          [ 1.8311e-04,  0.0000e+00, -3.0519e-05,  ...,  9.1556e-05,\n           -3.0519e-05,  3.0519e-05],\n          [-3.0519e-05,  6.1037e-05, -1.2207e-04,  ...,  1.5259e-04,\n           -6.1037e-05,  3.0519e-05]]]),\n tensor([ 0.,  0.,  0.,  ..., 26., 26., 26.]))"
     },
     "execution_count": 3,
     "metadata": {},
     "output_type": "execute_result"
    }
   ],
   "source": [
    "cslten"
   ],
   "metadata": {
    "collapsed": false,
    "pycharm": {
     "name": "#%%\n"
    }
   }
  },
  {
   "cell_type": "code",
   "execution_count": 4,
   "outputs": [
    {
     "data": {
      "text/plain": "<Figure size 432x288 with 1 Axes>",
      "image/png": "[encoded data removed]"
     },
     "metadata": {
      "needs_background": "light"
     },
     "output_type": "display_data"
    }
   ],
   "source": [
    "plt.imshow(cslten[0][400], interpolation='nearest')\n",
    "plt.axis('off')\n",
    "plt.show()"
   ],
   "metadata": {
    "collapsed": false,
    "pycharm": {
     "name": "#%%\n"
    }
   }
  },
  {
   "cell_type": "code",
   "execution_count": 2,
   "outputs": [
    {
     "data": {
      "text/plain": "                                                    records  labels\n0         [[-6.103701895199438e-05, 9.155552842799158e-0...       0\n1         [[-3.051850947599719e-05, 6.103701895199438e-0...       0\n2         [[-0.00012207403790398877, 0.00012207403790398...       0\n3         [[-9.155552842799158e-05, 6.103701895199438e-0...       0\n4         [[0.0, 9.155552842799158e-05, -0.0002746665852...       0\n...                                                     ...     ...\n44531707  [[6.103701895199438e-05, 6.103701895199438e-05...      26\n44531708  [[0.0, 3.051850947599719e-05, 3.05185094759971...      26\n44531709  [[3.051850947599719e-05, 0.0, 0.0, 6.103701895...      26\n44531710  [[-6.103701895199438e-05, 6.103701895199438e-0...      26\n44531711  [[0.0, 9.155552842799158e-05, -3.0518509475997...      26\n\n[44531712 rows x 2 columns]",
      "text/html": "<div>\n<style scoped>\n    .dataframe tbody tr th:only-of-type {\n        vertical-align: middle;\n    }\n\n    .dataframe tbody tr th {\n        vertical-align: top;\n    }\n\n    .dataframe thead th {\n        text-align: right;\n    }\n</style>\n<table border=\"1\" class=\"dataframe\">\n  <thead>\n    <tr style=\"text-align: right;\">\n      <th></th>\n      <th>records</th>\n      <th>labels</th>\n    </tr>\n  </thead>\n  <tbody>\n    <tr>\n      <th>0</th>\n      <td>[[-6.103701895199438e-05, 9.155552842799158e-0...</td>\n      <td>0</td>\n    </tr>\n    <tr>\n      <th>1</th>\n      <td>[[-3.051850947599719e-05, 6.103701895199438e-0...</td>\n      <td>0</td>\n    </tr>\n    <tr>\n      <th>2</th>\n      <td>[[-0.00012207403790398877, 0.00012207403790398...</td>\n      <td>0</td>\n    </tr>\n    <tr>\n      <th>3</th>\n      <td>[[-9.155552842799158e-05, 6.103701895199438e-0...</td>\n      <td>0</td>\n    </tr>\n    <tr>\n      <th>4</th>\n      <td>[[0.0, 9.155552842799158e-05, -0.0002746665852...</td>\n      <td>0</td>\n    </tr>\n    <tr>\n      <th>...</th>\n      <td>...</td>\n      <td>...</td>\n    </tr>\n    <tr>\n      <th>44531707</th>\n      <td>[[6.103701895199438e-05, 6.103701895199438e-05...</td>\n      <td>26</td>\n    </tr>\n    <tr>\n      <th>44531708</th>\n      <td>[[0.0, 3.051850947599719e-05, 3.05185094759971...</td>\n      <td>26</td>\n    </tr>\n    <tr>\n      <th>44531709</th>\n      <td>[[3.051850947599719e-05, 0.0, 0.0, 6.103701895...</td>\n      <td>26</td>\n    </tr>\n    <tr>\n      <th>44531710</th>\n      <td>[[-6.103701895199438e-05, 6.103701895199438e-0...</td>\n      <td>26</td>\n    </tr>\n    <tr>\n      <th>44531711</th>\n      <td>[[0.0, 9.155552842799158e-05, -3.0518509475997...</td>\n      <td>26</td>\n    </tr>\n  </tbody>\n</table>\n<p>44531712 rows × 2 columns</p>\n</div>"
     },
     "execution_count": 2,
     "metadata": {},
     "output_type": "execute_result"
    }
   ],
   "source": [
    "data_frame_2 = get_csl_dataset()\n",
    "data_frame_2"
   ],
   "metadata": {
    "collapsed": false,
    "pycharm": {
     "name": "#%%\n"
    }
   }
  },
  {
   "cell_type": "code",
   "execution_count": 3,
   "outputs": [
    {
     "data": {
      "text/plain": "<Figure size 432x288 with 1 Axes>",
      "image/png": "[encoded data removed]"
     },
     "metadata": {
      "needs_background": "light"
     },
     "output_type": "display_data"
    }
   ],
   "source": [
    "plt.imshow(data_frame_2.records[400], interpolation='nearest')\n",
    "plt.axis('off')\n",
    "plt.show()"
   ],
   "metadata": {
    "collapsed": false,
    "pycharm": {
     "name": "#%%\n"
    }
   }
  },
  {
   "cell_type": "code",
   "execution_count": 4,
   "outputs": [
    {
     "data": {
      "text/plain": "                                                    records  labels\n0         [0.0684, 0.0024, 0.0024, 0.0024, 0.0024, 0.009...       0\n1         [0.0586, 0.0024, 0.0024, 0.0024, 0.0024, 0.004...       0\n2         [0.0562, 0.0024, 0.0024, 0.0024, 0.0024, 0.004...       0\n3         [0.0562, 0.0024, 0.0024, 0.0024, 0.0024, 0.004...       0\n4         [0.0488, 0.0024, 0.0024, 0.0024, 0.0024, 0.002...       0\n...                                                     ...     ...\n12553606  [0.7007, 0.0049, 0.0049, 0.0049, 0.0049, 0.004...       0\n12553607  [0.6567, 0.0024, 0.0049, 0.0049, 0.0049, 0.002...       0\n12553608  [0.6079, 0.0049, 0.0024, 0.0049, 0.0049, 0.002...       0\n12553609  [0.5908, 0.0049, 0.0024, 0.0049, 0.0024, 0.002...       0\n12553610  [0.5444, 0.0024, 0.0049, 0.0049, 0.0049, 0.002...       0\n\n[12553611 rows x 2 columns]",
      "text/html": "<div>\n<style scoped>\n    .dataframe tbody tr th:only-of-type {\n        vertical-align: middle;\n    }\n\n    .dataframe tbody tr th {\n        vertical-align: top;\n    }\n\n    .dataframe thead th {\n        text-align: right;\n    }\n</style>\n<table border=\"1\" class=\"dataframe\">\n  <thead>\n    <tr style=\"text-align: right;\">\n      <th></th>\n      <th>records</th>\n      <th>labels</th>\n    </tr>\n  </thead>\n  <tbody>\n    <tr>\n      <th>0</th>\n      <td>[0.0684, 0.0024, 0.0024, 0.0024, 0.0024, 0.009...</td>\n      <td>0</td>\n    </tr>\n    <tr>\n      <th>1</th>\n      <td>[0.0586, 0.0024, 0.0024, 0.0024, 0.0024, 0.004...</td>\n      <td>0</td>\n    </tr>\n    <tr>\n      <th>2</th>\n      <td>[0.0562, 0.0024, 0.0024, 0.0024, 0.0024, 0.004...</td>\n      <td>0</td>\n    </tr>\n    <tr>\n      <th>3</th>\n      <td>[0.0562, 0.0024, 0.0024, 0.0024, 0.0024, 0.004...</td>\n      <td>0</td>\n    </tr>\n    <tr>\n      <th>4</th>\n      <td>[0.0488, 0.0024, 0.0024, 0.0024, 0.0024, 0.002...</td>\n      <td>0</td>\n    </tr>\n    <tr>\n      <th>...</th>\n      <td>...</td>\n      <td>...</td>\n    </tr>\n    <tr>\n      <th>12553606</th>\n      <td>[0.7007, 0.0049, 0.0049, 0.0049, 0.0049, 0.004...</td>\n      <td>0</td>\n    </tr>\n    <tr>\n      <th>12553607</th>\n      <td>[0.6567, 0.0024, 0.0049, 0.0049, 0.0049, 0.002...</td>\n      <td>0</td>\n    </tr>\n    <tr>\n      <th>12553608</th>\n      <td>[0.6079, 0.0049, 0.0024, 0.0049, 0.0049, 0.002...</td>\n      <td>0</td>\n    </tr>\n    <tr>\n      <th>12553609</th>\n      <td>[0.5908, 0.0049, 0.0024, 0.0049, 0.0024, 0.002...</td>\n      <td>0</td>\n    </tr>\n    <tr>\n      <th>12553610</th>\n      <td>[0.5444, 0.0024, 0.0049, 0.0049, 0.0049, 0.002...</td>\n      <td>0</td>\n    </tr>\n  </tbody>\n</table>\n<p>12553611 rows × 2 columns</p>\n</div>"
     },
     "execution_count": 4,
     "metadata": {},
     "output_type": "execute_result"
    }
   ],
   "source": [
    "data_frame_3 = get_ninapro_dataset()\n",
    "data_frame_3"
   ],
   "metadata": {
    "collapsed": false,
    "pycharm": {
     "name": "#%%\n"
    }
   }
  },
  {
   "cell_type": "code",
   "execution_count": 7,
   "outputs": [
    {
     "data": {
      "text/plain": "<Figure size 432x288 with 1 Axes>",
      "image/png": "[encoded data removed]"
     },
     "metadata": {
      "needs_background": "light"
     },
     "output_type": "display_data"
    }
   ],
   "source": [
    "plt.imshow(data_frame_3.records[1].reshape(10,-1), interpolation='nearest')\n",
    "plt.axis('off')\n",
    "plt.show()"
   ],
   "metadata": {
    "collapsed": false,
    "pycharm": {
     "name": "#%%\n"
    }
   }
  },
  {
   "cell_type": "code",
   "execution_count": 1,
   "outputs": [],
   "source": [
    "from datasets.capg_myo import CapgMyo\n",
    "from datasets.csl import CSL\n",
    "from datasets.ninapro import NinaPro"
   ],
   "metadata": {
    "collapsed": false,
    "pycharm": {
     "name": "#%%\n"
    }
   }
  },
  {
   "cell_type": "code",
   "execution_count": 3,
   "outputs": [],
   "source": [
    "capg_myo = CapgMyo()"
   ],
   "metadata": {
    "collapsed": false,
    "pycharm": {
     "name": "#%%\n"
    }
   }
  },
  {
   "cell_type": "code",
   "execution_count": 4,
   "outputs": [],
   "source": [
    "csl = CSL()"
   ],
   "metadata": {
    "collapsed": false,
    "pycharm": {
     "name": "#%%\n"
    }
   }
  },
  {
   "cell_type": "code",
   "execution_count": 2,
   "outputs": [],
   "source": [
    "nina_pro = NinaPro()"
   ],
   "metadata": {
    "collapsed": false,
    "pycharm": {
     "name": "#%%\n"
    }
   }
  },
  {
   "cell_type": "code",
   "execution_count": 7,
   "outputs": [],
   "source": [
    "from torch.utils.data import DataLoader"
   ],
   "metadata": {
    "collapsed": false,
    "pycharm": {
     "name": "#%%\n"
    }
   }
  },
  {
   "cell_type": "code",
   "execution_count": 10,
   "outputs": [],
   "source": [
    "dataloader = DataLoader(dataset=capg_myo, batch_size=4, num_workers=2, shuffle=True)"
   ],
   "metadata": {
    "collapsed": false,
    "pycharm": {
     "name": "#%%\n"
    }
   }
  },
  {
   "cell_type": "code",
   "execution_count": 12,
   "outputs": [
    {
     "data": {
      "text/plain": "[tensor([[[-1.6778e-02, -1.3421e-02, -7.2735e-03, -2.4837e-03, -5.5595e-03,\n           -1.1043e-02, -1.2811e-02, -1.9620e-02],\n          [-9.0589e-03, -1.1230e-02,  7.5572e-03, -6.7968e-03, -8.9917e-03,\n           -6.6594e-03, -2.5037e-02, -1.3174e-04],\n          [ 2.4181e-02,  3.4261e-02,  4.6796e-02,  4.8857e-02,  1.4131e-02,\n            1.4798e-02,  1.8717e-02,  3.2254e-02],\n          [ 8.9045e-02,  1.3309e-01,  6.0382e-02,  4.9650e-02, -1.5941e-02,\n            6.9252e-03,  2.6621e-02,  6.7558e-02],\n          [ 3.6789e-02,  5.9140e-02, -2.9778e-03, -3.7615e-02, -1.1691e-02,\n           -1.8030e-02,  2.4848e-03,  3.2292e-03],\n          [ 1.4816e-03, -8.4738e-03,  9.3573e-03, -3.8547e-02, -2.0745e-01,\n           -2.9650e-02, -8.6204e-02, -5.2651e-02],\n          [-8.2531e-03, -2.1172e-02, -1.9526e-02, -2.1705e-02, -2.2077e-02,\n           -1.8896e-02, -1.8983e-02, -1.7818e-02],\n          [-8.2883e-03, -1.8063e-02, -2.3262e-02, -2.6560e-02, -2.5847e-02,\n           -1.7207e-02, -2.0225e-02, -1.1258e-02],\n          [-1.1520e-03, -1.7737e-03, -1.7819e-02, -4.2120e-02, -3.4188e-02,\n           -1.1424e-02, -1.3287e-02, -3.7044e-02],\n          [ 1.0141e-02,  1.8889e-02, -1.2251e-02, -6.7505e-02, -3.0963e-02,\n           -1.8679e-02, -2.8430e-02, -2.5018e-02],\n          [-6.4059e-03, -1.3850e-02, -7.2599e-03,  1.2116e-02,  2.1491e-02,\n            1.1153e-03, -1.0653e-02, -3.4988e-02],\n          [-6.0072e-02, -1.8881e-02, -3.7416e-05,  4.0894e-02,  5.5367e-02,\n            2.5459e-02, -2.7486e-03, -1.1110e-02],\n          [-1.4146e-02,  1.5336e-02,  2.4433e-03,  1.8296e-02,  6.2878e-03,\n           -2.8449e-03, -1.1573e-02, -1.1551e-02],\n          [-1.3949e-03,  2.8647e-03,  8.7683e-03, -9.4856e-03, -8.2604e-03,\n           -4.3453e-03, -6.2809e-03, -4.7129e-03],\n          [ 5.5563e-03,  3.1360e-03, -3.4690e-03, -6.0917e-03, -1.1939e-02,\n           -1.9804e-02, -4.2615e-02, -2.8770e-02],\n          [-1.9250e-02, -1.2609e-02,  5.6404e-05,  2.1569e-02,  7.1181e-03,\n           -5.8065e-02, -4.2732e-02, -4.6562e-02]],\n \n         [[-1.0533e-02, -1.7698e-03, -1.2032e-03,  3.8307e-04, -2.9344e-04,\n           -4.1415e-03,  1.2202e-03,  2.6747e-03],\n          [-3.9949e-03, -4.1029e-03, -7.4603e-03,  2.5416e-03,  3.1059e-03,\n           -1.1767e-03, -1.0249e-02, -4.6706e-03],\n          [-8.2594e-03,  4.3085e-03, -2.3429e-03,  4.4226e-03, -6.8597e-03,\n           -7.7526e-03, -2.0251e-03, -2.3505e-03],\n          [-2.1302e-03, -4.1602e-03, -9.5956e-04,  8.0556e-03, -6.7297e-03,\n           -1.9121e-04, -2.7332e-03,  2.3071e-03],\n          [-7.6484e-03, -6.4193e-03,  1.0550e-03,  8.2087e-03,  8.9818e-03,\n            2.6281e-03,  1.6744e-03, -2.0827e-03],\n          [-5.8001e-03,  4.9678e-03, -1.3143e-03,  1.8686e-02, -6.0475e-04,\n            6.1677e-03,  5.7265e-03,  3.5404e-02],\n          [-6.5802e-03, -1.2545e-02, -2.9576e-02, -1.4881e-02,  1.7827e-02,\n            2.5529e-02,  1.0180e-02,  6.9114e-03],\n          [-4.1199e-03, -1.7910e-02, -1.3981e-02, -1.0279e-02,  6.6100e-03,\n            2.0909e-02,  6.5494e-03,  8.7966e-03],\n          [-2.5485e-02, -9.4024e-03,  1.0767e-02, -2.4350e-03, -1.8027e-02,\n           -8.2321e-03,  9.7743e-03,  1.5802e-02],\n          [-9.4505e-03,  7.6042e-03,  1.1873e-02,  3.6088e-03, -3.5415e-03,\n           -9.0860e-03,  1.2784e-02,  1.4655e-02],\n          [-4.7700e-03,  8.1446e-04, -8.1401e-03, -3.4166e-03,  2.8367e-03,\n           -5.5217e-03,  2.6410e-03, -3.4249e-03],\n          [-4.8326e-03,  5.7025e-03,  1.0274e-02, -5.6835e-03, -8.6745e-04,\n           -2.2912e-03,  1.3389e-02, -3.8653e-05],\n          [-1.3845e-02, -3.2052e-03, -3.7995e-03, -4.8086e-03, -5.6652e-03,\n           -1.2637e-03,  4.4957e-04,  7.9011e-03],\n          [-9.3357e-03, -8.7203e-04, -3.0701e-03, -2.0610e-03, -1.0252e-02,\n           -9.2040e-04, -1.1851e-03,  9.1036e-03],\n          [ 1.6937e-03, -2.8205e-03, -4.4210e-03, -7.2532e-04,  9.2097e-04,\n           -1.1522e-02, -6.8658e-03,  2.7247e-03],\n          [-3.2554e-03, -1.8282e-03,  1.3106e-03, -3.4349e-03, -4.6086e-03,\n           -4.8539e-03, -1.1394e-02,  1.9993e-03]],\n \n         [[ 9.4782e-02,  2.4786e-01,  2.6641e-01,  2.4697e-02, -1.9162e-01,\n           -1.1132e-01, -1.4010e-01, -5.5983e-02],\n          [ 1.2413e-02, -3.1892e-03,  2.5748e-02,  1.0618e-01, -3.0459e-03,\n           -3.2042e-03,  9.8271e-03,  5.0442e-02],\n          [-4.1099e-03, -1.1661e-01,  1.8457e-01,  5.3131e-01, -7.0974e-02,\n           -2.2270e-02,  2.3533e-01, -1.0286e-01],\n          [ 2.8148e-02,  2.2081e-01,  6.2215e-03,  8.0938e-03,  1.7601e-02,\n           -1.3595e-03, -1.9164e-04, -6.6008e-02],\n          [-1.3502e-02, -2.0289e-02,  1.3514e-02,  9.1224e-02,  1.0841e-01,\n            1.1054e-01, -5.1615e-02, -1.2089e-01],\n          [-1.2753e-02,  2.2984e-02,  3.6327e-02,  5.7415e-02,  6.8802e-02,\n            7.9164e-02, -2.0521e-02,  6.0054e-02],\n          [ 3.1771e-02,  1.2327e-01,  1.1175e-01,  5.3984e-02,  7.5861e-02,\n            8.1408e-02,  6.1464e-02,  4.7918e-02],\n          [-1.2778e-02,  1.2004e-01,  1.9332e-01, -5.9815e-02,  8.9492e-04,\n            7.9746e-02,  9.8243e-02,  9.6119e-02],\n          [ 1.2156e-02,  1.3619e-02,  6.4190e-02,  7.7998e-02,  1.4565e-02,\n           -1.0507e-02,  4.6900e-02,  3.9719e-02],\n          [ 1.0246e-02,  3.0599e-02,  3.5604e-02,  2.9859e-02,  2.1945e-02,\n            1.9838e-02,  3.4876e-02,  2.9313e-03],\n          [ 4.4633e-03,  6.6699e-02,  8.1140e-02,  1.0262e-01,  1.3937e-01,\n            4.5942e-02, -7.5834e-02, -1.1723e-01],\n          [ 3.8100e-02,  8.2346e-02,  1.1407e-01,  5.6176e-02,  9.9381e-02,\n            1.0095e-01,  4.7661e-02, -1.2980e-02],\n          [ 4.1364e-02,  3.7269e-02,  2.4786e-02, -1.4304e-02, -9.7675e-03,\n            1.3207e-02,  3.2484e-02, -1.2785e-02],\n          [ 9.5730e-03,  3.8089e-02,  1.1090e-02,  8.2579e-03,  1.0938e-02,\n            7.6159e-03,  2.0944e-02,  1.8668e-02],\n          [ 2.2245e-02,  1.4180e-02, -7.0660e-03,  7.3460e-03,  2.0812e-02,\n            1.1088e-03,  1.2443e-02,  2.1801e-02],\n          [ 1.4585e-02,  5.0414e-02,  2.6024e-03, -9.6280e-04, -2.8616e-02,\n           -1.5883e-02, -2.0821e-03,  6.5529e-03]],\n \n         [[-7.6169e-03,  4.5868e-03, -1.9615e-02, -5.7149e-02, -1.1845e-01,\n           -7.2213e-02, -5.7126e-02, -5.0184e-02],\n          [-4.6743e-04, -2.9503e-03, -1.2029e-02, -4.8962e-02, -8.0620e-02,\n           -4.4092e-02, -9.4717e-02, -3.7739e-02],\n          [ 2.9950e-03, -2.4366e-03, -1.5166e-02, -1.2531e-02, -2.6034e-02,\n           -3.8006e-02, -5.8845e-02, -3.2174e-02],\n          [ 4.1920e-03,  3.3021e-02,  2.0278e-02,  4.1889e-02,  3.0258e-02,\n            1.0341e-02, -9.3723e-03, -2.3452e-03],\n          [-1.5896e-02, -3.6586e-02, -3.4473e-02, -3.0362e-02,  6.3718e-03,\n            2.0467e-02,  2.8049e-03,  4.6737e-03],\n          [-2.6285e-02,  1.8462e-03, -8.6722e-03,  2.9476e-03,  6.3414e-02,\n            6.2777e-03,  3.5644e-02, -3.2662e-03],\n          [-2.5996e-03, -5.5910e-03, -2.8948e-03, -2.9432e-03, -2.6484e-03,\n           -2.5128e-03, -5.1685e-03, -3.2360e-03],\n          [-1.1536e-03, -5.6250e-03, -7.1400e-03, -9.8269e-03, -1.0936e-02,\n           -2.7847e-03, -5.4712e-05,  4.9806e-04],\n          [-6.8473e-02, -7.0043e-02, -2.8795e-02, -1.6369e-02, -3.1079e-02,\n           -2.0843e-02, -2.4152e-02, -1.8645e-02],\n          [-5.8979e-02, -1.6600e-01, -3.2437e-02, -6.2170e-03, -1.2561e-01,\n           -1.8525e-02, -4.5763e-02, -2.3435e-02],\n          [ 2.6143e-02,  6.5889e-02,  2.4729e-02, -1.8726e-02, -5.5490e-02,\n           -5.9256e-02, -1.8504e-01, -8.5133e-02],\n          [ 7.6205e-02,  1.0015e-01, -3.6457e-03, -4.8901e-02,  4.5456e-02,\n            4.1861e-02, -1.7573e-02, -2.4476e-02],\n          [ 1.4865e-02,  5.3191e-03,  2.2141e-02,  4.0027e-02,  3.3363e-02,\n            1.7293e-02, -7.2375e-02, -2.9072e-02],\n          [-6.1395e-03, -1.9459e-03, -3.4948e-03,  1.3413e-03,  1.9281e-03,\n           -2.4018e-03, -1.3178e-02, -1.2284e-02],\n          [-2.1840e-02, -2.1931e-02, -3.3225e-02, -4.2861e-02, -8.9537e-03,\n           -3.8954e-03, -2.6540e-02, -2.7257e-02],\n          [ 4.4765e-03, -1.0740e-02, -1.7084e-02, -5.8684e-02, -3.6857e-02,\n           -1.9677e-03, -2.8050e-02, -4.9237e-02]]]),\n tensor([5., 7., 6., 2.])]"
     },
     "execution_count": 12,
     "metadata": {},
     "output_type": "execute_result"
    }
   ],
   "source": [
    "dataiter = iter(dataloader)\n",
    "data = dataiter.next()\n",
    "data"
   ],
   "metadata": {
    "collapsed": false,
    "pycharm": {
     "name": "#%%\n"
    }
   }
  },
  {
   "cell_type": "code",
   "execution_count": null,
   "outputs": [],
   "source": [],
   "metadata": {
    "collapsed": false,
    "pycharm": {
     "name": "#%%\n"
    }
   }
  }
 ],
 "metadata": {
  "kernelspec": {
   "display_name": "Python 3",
   "language": "python",
   "name": "python3"
  },
  "language_info": {
   "codemirror_mode": {
    "name": "ipython",
    "version": 2
   },
   "file_extension": ".py",
   "mimetype": "text/x-python",
   "name": "python",
   "nbconvert_exporter": "python",
   "pygments_lexer": "ipython2",
   "version": "2.7.6"
  }
 },
 "nbformat": 4,
 "nbformat_minor": 0
}