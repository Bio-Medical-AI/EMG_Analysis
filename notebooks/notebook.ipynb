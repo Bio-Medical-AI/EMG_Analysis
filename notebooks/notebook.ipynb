{
 "cells": [
  {
   "cell_type": "code",
   "execution_count": 7,
   "outputs": [],
   "source": [
    "from models import Classifier, OriginalModel\n",
    "import pytorch_lightning as pl\n",
    "import torch\n",
    "from utils import measure_eval_time\n",
    "from models import LightningXGBClassifier"
   ],
   "metadata": {
    "collapsed": false
   }
  },
  {
   "cell_type": "code",
   "execution_count": 2,
   "outputs": [],
   "source": [
    "model_capgmyo = OriginalModel(8, 16, 8)\n",
    "classifier = Classifier(model_capgmyo, optim_kwargs={'lr': 0.001, 'weight_decay': 0.0001},\n",
    "                        monitor='val_accuracy', sched_kwargs={'patience': 4, 'mode': 'max'})"
   ],
   "metadata": {
    "collapsed": false
   }
  },
  {
   "cell_type": "code",
   "execution_count": 3,
   "outputs": [],
   "source": [
    "dummy_input = torch.randn(1, 1, 8, 16, dtype=torch.float)"
   ],
   "metadata": {
    "collapsed": false
   }
  },
  {
   "cell_type": "code",
   "execution_count": 4,
   "outputs": [
    {
     "data": {
      "text/plain": "(1.264079250494639, 0.08799653820329403)"
     },
     "execution_count": 4,
     "metadata": {},
     "output_type": "execute_result"
    }
   ],
   "source": [
    "mean, std = measure_eval_time(classifier, dummy_input)\n",
    "mean, std"
   ],
   "metadata": {
    "collapsed": false
   }
  },
  {
   "cell_type": "code",
   "execution_count": 1,
   "outputs": [
    {
     "data": {
      "text/plain": "                                                    record label series  \\\n0        [[-1.0], [-1.0], [1.0], [-2.0], [-2.0], [-1.0]...     0    0.0   \n1        [[-3.0], [0.0], [-2.0], [-7.0], [-1.0], [-1.0]...     0    0.0   \n2        [[-1.0], [-3.0], [-2.0], [2.0], [-3.0], [-2.0]...     0    0.0   \n3        [[1.0], [-3.0], [1.0], [5.0], [1.0], [-1.0], [...     0    0.0   \n4        [[-2.0], [0.0], [-1.0], [-4.0], [-1.0], [-1.0]...     0    0.0   \n...                                                    ...   ...    ...   \n2118870  [[-5.0], [9.0], [-9.0], [-6.0], [-13.0], [-2.0...     6   2127   \n2118871  [[7.0], [24.0], [32.0], [-5.0], [14.0], [-4.0]...     6   2127   \n2118872  [[-6.0], [-7.0], [10.0], [1.0], [-4.0], [-3.0]...     6   2127   \n2118873  [[-17.0], [29.0], [-5.0], [-6.0], [2.0], [-3.0...     6   2127   \n2118874  [[10.0], [-30.0], [27.0], [5.0], [-5.0], [-2.0...     6   2127   \n\n        subject  \n0           0.0  \n1           0.0  \n2           0.0  \n3           0.0  \n4           0.0  \n...         ...  \n2118870       0  \n2118871       0  \n2118872       0  \n2118873       0  \n2118874       0  \n\n[2118875 rows x 4 columns]",
      "text/html": "<div>\n<style scoped>\n    .dataframe tbody tr th:only-of-type {\n        vertical-align: middle;\n    }\n\n    .dataframe tbody tr th {\n        vertical-align: top;\n    }\n\n    .dataframe thead th {\n        text-align: right;\n    }\n</style>\n<table border=\"1\" class=\"dataframe\">\n  <thead>\n    <tr style=\"text-align: right;\">\n      <th></th>\n      <th>record</th>\n      <th>label</th>\n      <th>series</th>\n      <th>subject</th>\n    </tr>\n  </thead>\n  <tbody>\n    <tr>\n      <th>0</th>\n      <td>[[-1.0], [-1.0], [1.0], [-2.0], [-2.0], [-1.0]...</td>\n      <td>0</td>\n      <td>0.0</td>\n      <td>0.0</td>\n    </tr>\n    <tr>\n      <th>1</th>\n      <td>[[-3.0], [0.0], [-2.0], [-7.0], [-1.0], [-1.0]...</td>\n      <td>0</td>\n      <td>0.0</td>\n      <td>0.0</td>\n    </tr>\n    <tr>\n      <th>2</th>\n      <td>[[-1.0], [-3.0], [-2.0], [2.0], [-3.0], [-2.0]...</td>\n      <td>0</td>\n      <td>0.0</td>\n      <td>0.0</td>\n    </tr>\n    <tr>\n      <th>3</th>\n      <td>[[1.0], [-3.0], [1.0], [5.0], [1.0], [-1.0], [...</td>\n      <td>0</td>\n      <td>0.0</td>\n      <td>0.0</td>\n    </tr>\n    <tr>\n      <th>4</th>\n      <td>[[-2.0], [0.0], [-1.0], [-4.0], [-1.0], [-1.0]...</td>\n      <td>0</td>\n      <td>0.0</td>\n      <td>0.0</td>\n    </tr>\n    <tr>\n      <th>...</th>\n      <td>...</td>\n      <td>...</td>\n      <td>...</td>\n      <td>...</td>\n    </tr>\n    <tr>\n      <th>2118870</th>\n      <td>[[-5.0], [9.0], [-9.0], [-6.0], [-13.0], [-2.0...</td>\n      <td>6</td>\n      <td>2127</td>\n      <td>0</td>\n    </tr>\n    <tr>\n      <th>2118871</th>\n      <td>[[7.0], [24.0], [32.0], [-5.0], [14.0], [-4.0]...</td>\n      <td>6</td>\n      <td>2127</td>\n      <td>0</td>\n    </tr>\n    <tr>\n      <th>2118872</th>\n      <td>[[-6.0], [-7.0], [10.0], [1.0], [-4.0], [-3.0]...</td>\n      <td>6</td>\n      <td>2127</td>\n      <td>0</td>\n    </tr>\n    <tr>\n      <th>2118873</th>\n      <td>[[-17.0], [29.0], [-5.0], [-6.0], [2.0], [-3.0...</td>\n      <td>6</td>\n      <td>2127</td>\n      <td>0</td>\n    </tr>\n    <tr>\n      <th>2118874</th>\n      <td>[[10.0], [-30.0], [27.0], [5.0], [-5.0], [-2.0...</td>\n      <td>6</td>\n      <td>2127</td>\n      <td>0</td>\n    </tr>\n  </tbody>\n</table>\n<p>2118875 rows × 4 columns</p>\n</div>"
     },
     "execution_count": 1,
     "metadata": {},
     "output_type": "execute_result"
    }
   ],
   "source": [
    "import pandas as pd\n",
    "import os\n",
    "from definitions import PKL_FOLDER\n",
    "\n",
    "df = pd.read_pickle(os.path.join(PKL_FOLDER, \"MyoArmband\", \"MyoArmband.pkl\"))\n",
    "df"
   ],
   "metadata": {
    "collapsed": false
   }
  },
  {
   "cell_type": "code",
   "execution_count": 9,
   "outputs": [
    {
     "data": {
      "text/plain": "1515.0    1038\n2102.0    1034\n331.0     1006\n1843.0    1006\n1467.0    1006\n          ... \n1577.0     788\n1586.0     784\n1571.0     772\n1585.0     770\n1591.0     732\nName: series, Length: 2128, dtype: int64"
     },
     "execution_count": 9,
     "metadata": {},
     "output_type": "execute_result"
    }
   ],
   "source": [
    "df['series'].value_counts()"
   ],
   "metadata": {
    "collapsed": false
   }
  },
  {
   "cell_type": "code",
   "execution_count": 10,
   "outputs": [
    {
     "data": {
      "text/plain": "996     745\n1000    664\n998     613\n999      21\n997      16\n1002     14\n994      13\n1006      3\n992       3\n818       2\n810       2\n816       2\n988       2\n1004      2\n910       2\n790       1\n812       1\n800       1\n1038      1\n788       1\n784       1\n772       1\n770       1\n822       1\n820       1\n882       1\n824       1\n832       1\n834       1\n838       1\n842       1\n854       1\n1034      1\n888       1\n922       1\n938       1\n946       1\n952       1\n732       1\nName: series, dtype: int64"
     },
     "execution_count": 10,
     "metadata": {},
     "output_type": "execute_result"
    }
   ],
   "source": [
    "df['series'].value_counts().value_counts()"
   ],
   "metadata": {
    "collapsed": false
   }
  },
  {
   "cell_type": "code",
   "execution_count": 6,
   "outputs": [
    {
     "data": {
      "text/plain": "array([[[1, 2],\n        [3, 4]],\n\n       [[5, 6],\n        [7, 8]]])"
     },
     "execution_count": 6,
     "metadata": {},
     "output_type": "execute_result"
    }
   ],
   "source": [
    "import numpy as np\n",
    "\n",
    "a = np.array([[1, 2], [3, 4]])\n",
    "b = np.array([[5, 6], [7, 8]])\n",
    "np.stack([a, b])"
   ],
   "metadata": {
    "collapsed": false
   }
  },
  {
   "cell_type": "code",
   "execution_count": null,
   "outputs": [],
   "source": [],
   "metadata": {
    "collapsed": false
   }
  }
 ],
 "metadata": {
  "kernelspec": {
   "display_name": "Python 3",
   "language": "python",
   "name": "python3"
  },
  "language_info": {
   "codemirror_mode": {
    "name": "ipython",
    "version": 2
   },
   "file_extension": ".py",
   "mimetype": "text/x-python",
   "name": "python",
   "nbconvert_exporter": "python",
   "pygments_lexer": "ipython2",
   "version": "2.7.6"
  }
 },
 "nbformat": 4,
 "nbformat_minor": 0
}
