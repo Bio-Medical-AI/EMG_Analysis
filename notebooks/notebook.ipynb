{
 "cells": [
  {
   "cell_type": "code",
   "execution_count": 1,
   "metadata": {
    "collapsed": true,
    "pycharm": {
     "name": "#%%\n"
    }
   },
   "outputs": [],
   "source": [
    "import pandas as pd\n",
    "from matplotlib import pyplot as plt\n",
    "from datasets.data_import import get_capgmyo_dataset, get_csl_dataset, get_absolute_path, extract_data, get_ninapro_dataset, get_capgmyo_tensor, get_ninapro_tensor, get_csl_tensor, save_arrays\n",
    "import scipy.io\n",
    "import numpy as np\n",
    "import os\n",
    "import torch\n",
    "from torch.utils.data import DataLoader\n",
    "from math import ceil\n",
    "from datasets.abstract_data_module import AbstractDataModule\n",
    "from train import main"
   ]
  },
  {
   "cell_type": "code",
   "execution_count": 2,
   "outputs": [
    {
     "data": {
      "text/plain": "                                                  path  label\n0              C:\\Science\\Data\\CapgMyo\\0\\CapgMyo_0.npy      0\n1              C:\\Science\\Data\\CapgMyo\\0\\CapgMyo_1.npy      0\n2              C:\\Science\\Data\\CapgMyo\\0\\CapgMyo_2.npy      0\n3              C:\\Science\\Data\\CapgMyo\\0\\CapgMyo_3.npy      0\n4              C:\\Science\\Data\\CapgMyo\\0\\CapgMyo_4.npy      0\n...                                                ...    ...\n1439995  C:\\Science\\Data\\CapgMyo\\7\\CapgMyo_1439995.npy      7\n1439996  C:\\Science\\Data\\CapgMyo\\7\\CapgMyo_1439996.npy      7\n1439997  C:\\Science\\Data\\CapgMyo\\7\\CapgMyo_1439997.npy      7\n1439998  C:\\Science\\Data\\CapgMyo\\7\\CapgMyo_1439998.npy      7\n1439999  C:\\Science\\Data\\CapgMyo\\7\\CapgMyo_1439999.npy      7\n\n[1440000 rows x 2 columns]",
      "text/html": "<div>\n<style scoped>\n    .dataframe tbody tr th:only-of-type {\n        vertical-align: middle;\n    }\n\n    .dataframe tbody tr th {\n        vertical-align: top;\n    }\n\n    .dataframe thead th {\n        text-align: right;\n    }\n</style>\n<table border=\"1\" class=\"dataframe\">\n  <thead>\n    <tr style=\"text-align: right;\">\n      <th></th>\n      <th>path</th>\n      <th>label</th>\n    </tr>\n  </thead>\n  <tbody>\n    <tr>\n      <th>0</th>\n      <td>C:\\Science\\Data\\CapgMyo\\0\\CapgMyo_0.npy</td>\n      <td>0</td>\n    </tr>\n    <tr>\n      <th>1</th>\n      <td>C:\\Science\\Data\\CapgMyo\\0\\CapgMyo_1.npy</td>\n      <td>0</td>\n    </tr>\n    <tr>\n      <th>2</th>\n      <td>C:\\Science\\Data\\CapgMyo\\0\\CapgMyo_2.npy</td>\n      <td>0</td>\n    </tr>\n    <tr>\n      <th>3</th>\n      <td>C:\\Science\\Data\\CapgMyo\\0\\CapgMyo_3.npy</td>\n      <td>0</td>\n    </tr>\n    <tr>\n      <th>4</th>\n      <td>C:\\Science\\Data\\CapgMyo\\0\\CapgMyo_4.npy</td>\n      <td>0</td>\n    </tr>\n    <tr>\n      <th>...</th>\n      <td>...</td>\n      <td>...</td>\n    </tr>\n    <tr>\n      <th>1439995</th>\n      <td>C:\\Science\\Data\\CapgMyo\\7\\CapgMyo_1439995.npy</td>\n      <td>7</td>\n    </tr>\n    <tr>\n      <th>1439996</th>\n      <td>C:\\Science\\Data\\CapgMyo\\7\\CapgMyo_1439996.npy</td>\n      <td>7</td>\n    </tr>\n    <tr>\n      <th>1439997</th>\n      <td>C:\\Science\\Data\\CapgMyo\\7\\CapgMyo_1439997.npy</td>\n      <td>7</td>\n    </tr>\n    <tr>\n      <th>1439998</th>\n      <td>C:\\Science\\Data\\CapgMyo\\7\\CapgMyo_1439998.npy</td>\n      <td>7</td>\n    </tr>\n    <tr>\n      <th>1439999</th>\n      <td>C:\\Science\\Data\\CapgMyo\\7\\CapgMyo_1439999.npy</td>\n      <td>7</td>\n    </tr>\n  </tbody>\n</table>\n<p>1440000 rows × 2 columns</p>\n</div>"
     },
     "execution_count": 2,
     "metadata": {},
     "output_type": "execute_result"
    }
   ],
   "source": [
    "save_arrays(get_capgmyo_dataset(), 'CapgMyo', os.path.join(os.path.dirname(os.path.dirname(os.getcwd())), 'Data'))"
   ],
   "metadata": {
    "collapsed": false,
    "pycharm": {
     "name": "#%%\n"
    }
   }
  },
  {
   "cell_type": "code",
   "execution_count": 17,
   "outputs": [
    {
     "data": {
      "text/plain": "<Figure size 432x288 with 1 Axes>",
      "image/png": "[encoded data removed]"
     },
     "metadata": {
      "needs_background": "light"
     },
     "output_type": "display_data"
    }
   ],
   "source": [
    "from scipy.signal import butter, lfilter\n",
    "nyq = 0.5 * 2048\n",
    "low = 45 / nyq\n",
    "high = 55 / nyq\n",
    "b, a = butter(2, [low, high], btype='bandstop')\n",
    "y = lfilter(b, a, np.load('C://Science//Data//CapgMyo//3//CapgMyo_607229.npy'))\n",
    "plt.imshow((y+2.5)/5, interpolation='nearest')\n",
    "plt.axis('off')\n",
    "plt.show()"
   ],
   "metadata": {
    "collapsed": false,
    "pycharm": {
     "name": "#%%\n"
    }
   }
  },
  {
   "cell_type": "code",
   "execution_count": 4,
   "outputs": [
    {
     "data": {
      "text/plain": "tensor([[[0.5001, 0.5001, 0.5001],\n         [0.5003, 0.5003, 0.5003],\n         [0.4997, 0.4997, 0.4997],\n         [0.4996, 0.4996, 0.4996],\n         [0.4996, 0.4996, 0.4996],\n         [0.4982, 0.4982, 0.4982],\n         [0.4991, 0.4991, 0.4991],\n         [0.4990, 0.4990, 0.4990]],\n\n        [[0.5013, 0.5013, 0.5013],\n         [0.4994, 0.4994, 0.4994],\n         [0.4989, 0.4989, 0.4989],\n         [0.4994, 0.4994, 0.4994],\n         [0.5005, 0.5005, 0.5005],\n         [0.4984, 0.4984, 0.4984],\n         [0.4973, 0.4973, 0.4973],\n         [0.4965, 0.4965, 0.4965]],\n\n        [[0.4994, 0.4994, 0.4994],\n         [0.5014, 0.5014, 0.5014],\n         [0.5005, 0.5005, 0.5005],\n         [0.5027, 0.5027, 0.5027],\n         [0.4994, 0.4994, 0.4994],\n         [0.4983, 0.4983, 0.4983],\n         [0.4995, 0.4995, 0.4995],\n         [0.4992, 0.4992, 0.4992]],\n\n        [[0.4998, 0.4998, 0.4998],\n         [0.5008, 0.5008, 0.5008],\n         [0.5013, 0.5013, 0.5013],\n         [0.5025, 0.5025, 0.5025],\n         [0.4982, 0.4982, 0.4982],\n         [0.4997, 0.4997, 0.4997],\n         [0.4993, 0.4993, 0.4993],\n         [0.4988, 0.4988, 0.4988]],\n\n        [[0.5053, 0.5053, 0.5053],\n         [0.5044, 0.5044, 0.5044],\n         [0.5028, 0.5028, 0.5028],\n         [0.5011, 0.5011, 0.5011],\n         [0.4967, 0.4967, 0.4967],\n         [0.4980, 0.4980, 0.4980],\n         [0.4987, 0.4987, 0.4987],\n         [0.4996, 0.4996, 0.4996]],\n\n        [[0.5098, 0.5098, 0.5098],\n         [0.5123, 0.5123, 0.5123],\n         [0.5048, 0.5048, 0.5048],\n         [0.5028, 0.5028, 0.5028],\n         [0.4959, 0.4959, 0.4959],\n         [0.4970, 0.4970, 0.4970],\n         [0.4991, 0.4991, 0.4991],\n         [0.5053, 0.5053, 0.5053]],\n\n        [[0.5037, 0.5037, 0.5037],\n         [0.5019, 0.5019, 0.5019],\n         [0.4927, 0.4927, 0.4927],\n         [0.4808, 0.4808, 0.4808],\n         [0.4924, 0.4924, 0.4924],\n         [0.5036, 0.5036, 0.5036],\n         [0.5016, 0.5016, 0.5016],\n         [0.5001, 0.5001, 0.5001]],\n\n        [[0.5014, 0.5014, 0.5014],\n         [0.4997, 0.4997, 0.4997],\n         [0.4949, 0.4949, 0.4949],\n         [0.4917, 0.4917, 0.4917],\n         [0.4922, 0.4922, 0.4922],\n         [0.5002, 0.5002, 0.5002],\n         [0.5005, 0.5005, 0.5005],\n         [0.5007, 0.5007, 0.5007]],\n\n        [[0.4969, 0.4969, 0.4969],\n         [0.4987, 0.4987, 0.4987],\n         [0.5008, 0.5008, 0.5008],\n         [0.5011, 0.5011, 0.5011],\n         [0.4998, 0.4998, 0.4998],\n         [0.5028, 0.5028, 0.5028],\n         [0.5034, 0.5034, 0.5034],\n         [0.5014, 0.5014, 0.5014]],\n\n        [[0.4982, 0.4982, 0.4982],\n         [0.4995, 0.4995, 0.4995],\n         [0.5077, 0.5077, 0.5077],\n         [0.5086, 0.5086, 0.5086],\n         [0.5001, 0.5001, 0.5001],\n         [0.4988, 0.4988, 0.4988],\n         [0.5009, 0.5009, 0.5009],\n         [0.5014, 0.5014, 0.5014]],\n\n        [[0.5001, 0.5001, 0.5001],\n         [0.5012, 0.5012, 0.5012],\n         [0.5001, 0.5001, 0.5001],\n         [0.5017, 0.5017, 0.5017],\n         [0.5030, 0.5030, 0.5030],\n         [0.4991, 0.4991, 0.4991],\n         [0.5009, 0.5009, 0.5009],\n         [0.5001, 0.5001, 0.5001]],\n\n        [[0.5002, 0.5002, 0.5002],\n         [0.5016, 0.5016, 0.5016],\n         [0.5026, 0.5026, 0.5026],\n         [0.5000, 0.5000, 0.5000],\n         [0.5010, 0.5010, 0.5010],\n         [0.5007, 0.5007, 0.5007],\n         [0.5029, 0.5029, 0.5029],\n         [0.4996, 0.4996, 0.4996]],\n\n        [[0.4999, 0.4999, 0.4999],\n         [0.5026, 0.5026, 0.5026],\n         [0.5014, 0.5014, 0.5014],\n         [0.5000, 0.5000, 0.5000],\n         [0.4996, 0.4996, 0.4996],\n         [0.4987, 0.4987, 0.4987],\n         [0.5001, 0.5001, 0.5001],\n         [0.4990, 0.4990, 0.4990]],\n\n        [[0.5008, 0.5008, 0.5008],\n         [0.5015, 0.5015, 0.5015],\n         [0.5005, 0.5005, 0.5005],\n         [0.5020, 0.5020, 0.5020],\n         [0.4999, 0.4999, 0.4999],\n         [0.5005, 0.5005, 0.5005],\n         [0.4986, 0.4986, 0.4986],\n         [0.4999, 0.4999, 0.4999]],\n\n        [[0.5089, 0.5089, 0.5089],\n         [0.5112, 0.5112, 0.5112],\n         [0.5105, 0.5105, 0.5105],\n         [0.5051, 0.5051, 0.5051],\n         [0.4909, 0.4909, 0.4909],\n         [0.4826, 0.4826, 0.4826],\n         [0.4798, 0.4798, 0.4798],\n         [0.4879, 0.4879, 0.4879]],\n\n        [[0.5062, 0.5062, 0.5062],\n         [0.5084, 0.5084, 0.5084],\n         [0.5082, 0.5082, 0.5082],\n         [0.5030, 0.5030, 0.5030],\n         [0.4941, 0.4941, 0.4941],\n         [0.4866, 0.4866, 0.4866],\n         [0.4862, 0.4862, 0.4862],\n         [0.4912, 0.4912, 0.4912]]])"
     },
     "execution_count": 4,
     "metadata": {},
     "output_type": "execute_result"
    }
   ],
   "source": [
    "frame = (np.load('C://Science//Data//CapgMyo//3//CapgMyo_607229.npy')+2.5)/5\n",
    "torch.Tensor(np.dstack((frame, frame, frame)))"
   ],
   "metadata": {
    "collapsed": false,
    "pycharm": {
     "name": "#%%\n"
    }
   }
  },
  {
   "cell_type": "code",
   "execution_count": 5,
   "outputs": [
    {
     "data": {
      "text/plain": "<Figure size 432x288 with 1 Axes>",
      "image/png": "[encoded data removed]"
     },
     "metadata": {
      "needs_background": "light"
     },
     "output_type": "display_data"
    }
   ],
   "source": [
    "plt.imshow((np.load('C://Science//Data//CapgMyo//3//CapgMyo_607229.npy')+2.5)/5, interpolation='nearest')\n",
    "plt.axis('off')\n",
    "plt.show()"
   ],
   "metadata": {
    "collapsed": false,
    "pycharm": {
     "name": "#%%\n"
    }
   }
  },
  {
   "cell_type": "code",
   "execution_count": 6,
   "outputs": [
    {
     "data": {
      "text/plain": "<Figure size 432x288 with 1 Axes>",
      "image/png": "[encoded data removed]"
     },
     "metadata": {
      "needs_background": "light"
     },
     "output_type": "display_data"
    }
   ],
   "source": [
    "plt.imshow(np.load('C://Science//Data//CapgMyo//3//CapgMyo_607229.npy'), interpolation='nearest')\n",
    "plt.axis('off')\n",
    "plt.show()"
   ],
   "metadata": {
    "collapsed": false,
    "pycharm": {
     "name": "#%%\n"
    }
   }
  },
  {
   "cell_type": "code",
   "execution_count": 2,
   "outputs": [
    {
     "data": {
      "text/plain": "                                                  path  label\n0              C:\\Science\\Data\\CapgMyo\\0\\CapgMyo_0.npy      1\n1              C:\\Science\\Data\\CapgMyo\\0\\CapgMyo_1.npy      1\n2              C:\\Science\\Data\\CapgMyo\\0\\CapgMyo_2.npy      1\n3              C:\\Science\\Data\\CapgMyo\\0\\CapgMyo_3.npy      1\n4              C:\\Science\\Data\\CapgMyo\\0\\CapgMyo_4.npy      1\n...                                                ...    ...\n1439995  C:\\Science\\Data\\CapgMyo\\7\\CapgMyo_1439995.npy      8\n1439996  C:\\Science\\Data\\CapgMyo\\7\\CapgMyo_1439996.npy      8\n1439997  C:\\Science\\Data\\CapgMyo\\7\\CapgMyo_1439997.npy      8\n1439998  C:\\Science\\Data\\CapgMyo\\7\\CapgMyo_1439998.npy      8\n1439999  C:\\Science\\Data\\CapgMyo\\7\\CapgMyo_1439999.npy      8\n\n[1440000 rows x 2 columns]",
      "text/html": "<div>\n<style scoped>\n    .dataframe tbody tr th:only-of-type {\n        vertical-align: middle;\n    }\n\n    .dataframe tbody tr th {\n        vertical-align: top;\n    }\n\n    .dataframe thead th {\n        text-align: right;\n    }\n</style>\n<table border=\"1\" class=\"dataframe\">\n  <thead>\n    <tr style=\"text-align: right;\">\n      <th></th>\n      <th>path</th>\n      <th>label</th>\n    </tr>\n  </thead>\n  <tbody>\n    <tr>\n      <th>0</th>\n      <td>C:\\Science\\Data\\CapgMyo\\0\\CapgMyo_0.npy</td>\n      <td>1</td>\n    </tr>\n    <tr>\n      <th>1</th>\n      <td>C:\\Science\\Data\\CapgMyo\\0\\CapgMyo_1.npy</td>\n      <td>1</td>\n    </tr>\n    <tr>\n      <th>2</th>\n      <td>C:\\Science\\Data\\CapgMyo\\0\\CapgMyo_2.npy</td>\n      <td>1</td>\n    </tr>\n    <tr>\n      <th>3</th>\n      <td>C:\\Science\\Data\\CapgMyo\\0\\CapgMyo_3.npy</td>\n      <td>1</td>\n    </tr>\n    <tr>\n      <th>4</th>\n      <td>C:\\Science\\Data\\CapgMyo\\0\\CapgMyo_4.npy</td>\n      <td>1</td>\n    </tr>\n    <tr>\n      <th>...</th>\n      <td>...</td>\n      <td>...</td>\n    </tr>\n    <tr>\n      <th>1439995</th>\n      <td>C:\\Science\\Data\\CapgMyo\\7\\CapgMyo_1439995.npy</td>\n      <td>8</td>\n    </tr>\n    <tr>\n      <th>1439996</th>\n      <td>C:\\Science\\Data\\CapgMyo\\7\\CapgMyo_1439996.npy</td>\n      <td>8</td>\n    </tr>\n    <tr>\n      <th>1439997</th>\n      <td>C:\\Science\\Data\\CapgMyo\\7\\CapgMyo_1439997.npy</td>\n      <td>8</td>\n    </tr>\n    <tr>\n      <th>1439998</th>\n      <td>C:\\Science\\Data\\CapgMyo\\7\\CapgMyo_1439998.npy</td>\n      <td>8</td>\n    </tr>\n    <tr>\n      <th>1439999</th>\n      <td>C:\\Science\\Data\\CapgMyo\\7\\CapgMyo_1439999.npy</td>\n      <td>8</td>\n    </tr>\n  </tbody>\n</table>\n<p>1440000 rows × 2 columns</p>\n</div>"
     },
     "execution_count": 2,
     "metadata": {},
     "output_type": "execute_result"
    }
   ],
   "source": [
    "CapgMyoDF = pd.read_csv(os.path.join('..', '..', 'Data', 'CapgMyo', 'CapgMyo.csv'))\n",
    "CapgMyoDF"
   ],
   "metadata": {
    "collapsed": false,
    "pycharm": {
     "name": "#%%\n"
    }
   }
  },
  {
   "cell_type": "code",
   "execution_count": 3,
   "outputs": [
    {
     "data": {
      "text/plain": "array([1, 2, 3, 4, 5, 6, 7, 8], dtype=int64)"
     },
     "execution_count": 3,
     "metadata": {},
     "output_type": "execute_result"
    }
   ],
   "source": [
    "CapgMyoDF['label'].unique()"
   ],
   "metadata": {
    "collapsed": false,
    "pycharm": {
     "name": "#%%\n"
    }
   }
  },
  {
   "cell_type": "code",
   "execution_count": 5,
   "outputs": [
    {
     "data": {
      "text/plain": "                                           path  label\n296859    ..\\..\\Data\\CapgMyo\\CapgMyo_296859.npy      2\n209517    ..\\..\\Data\\CapgMyo\\CapgMyo_209517.npy      7\n1215598  ..\\..\\Data\\CapgMyo\\CapgMyo_1215598.npy      3\n1004415  ..\\..\\Data\\CapgMyo\\CapgMyo_1004415.npy      3\n835953    ..\\..\\Data\\CapgMyo\\CapgMyo_835953.npy      7\n...                                         ...    ...\n142536    ..\\..\\Data\\CapgMyo\\CapgMyo_142536.npy      1\n1080811  ..\\..\\Data\\CapgMyo\\CapgMyo_1080811.npy      4\n305828    ..\\..\\Data\\CapgMyo\\CapgMyo_305828.npy      3\n490690    ..\\..\\Data\\CapgMyo\\CapgMyo_490690.npy      1\n1259769  ..\\..\\Data\\CapgMyo\\CapgMyo_1259769.npy      7\n\n[100 rows x 2 columns]",
      "text/html": "<div>\n<style scoped>\n    .dataframe tbody tr th:only-of-type {\n        vertical-align: middle;\n    }\n\n    .dataframe tbody tr th {\n        vertical-align: top;\n    }\n\n    .dataframe thead th {\n        text-align: right;\n    }\n</style>\n<table border=\"1\" class=\"dataframe\">\n  <thead>\n    <tr style=\"text-align: right;\">\n      <th></th>\n      <th>path</th>\n      <th>label</th>\n    </tr>\n  </thead>\n  <tbody>\n    <tr>\n      <th>296859</th>\n      <td>..\\..\\Data\\CapgMyo\\CapgMyo_296859.npy</td>\n      <td>2</td>\n    </tr>\n    <tr>\n      <th>209517</th>\n      <td>..\\..\\Data\\CapgMyo\\CapgMyo_209517.npy</td>\n      <td>7</td>\n    </tr>\n    <tr>\n      <th>1215598</th>\n      <td>..\\..\\Data\\CapgMyo\\CapgMyo_1215598.npy</td>\n      <td>3</td>\n    </tr>\n    <tr>\n      <th>1004415</th>\n      <td>..\\..\\Data\\CapgMyo\\CapgMyo_1004415.npy</td>\n      <td>3</td>\n    </tr>\n    <tr>\n      <th>835953</th>\n      <td>..\\..\\Data\\CapgMyo\\CapgMyo_835953.npy</td>\n      <td>7</td>\n    </tr>\n    <tr>\n      <th>...</th>\n      <td>...</td>\n      <td>...</td>\n    </tr>\n    <tr>\n      <th>142536</th>\n      <td>..\\..\\Data\\CapgMyo\\CapgMyo_142536.npy</td>\n      <td>1</td>\n    </tr>\n    <tr>\n      <th>1080811</th>\n      <td>..\\..\\Data\\CapgMyo\\CapgMyo_1080811.npy</td>\n      <td>4</td>\n    </tr>\n    <tr>\n      <th>305828</th>\n      <td>..\\..\\Data\\CapgMyo\\CapgMyo_305828.npy</td>\n      <td>3</td>\n    </tr>\n    <tr>\n      <th>490690</th>\n      <td>..\\..\\Data\\CapgMyo\\CapgMyo_490690.npy</td>\n      <td>1</td>\n    </tr>\n    <tr>\n      <th>1259769</th>\n      <td>..\\..\\Data\\CapgMyo\\CapgMyo_1259769.npy</td>\n      <td>7</td>\n    </tr>\n  </tbody>\n</table>\n<p>100 rows × 2 columns</p>\n</div>"
     },
     "execution_count": 5,
     "metadata": {},
     "output_type": "execute_result"
    }
   ],
   "source": [
    "CapgMyoDF.iloc[CapgMyoDF.sample(100).index]"
   ],
   "metadata": {
    "collapsed": false,
    "pycharm": {
     "name": "#%%\n"
    }
   }
  },
  {
   "cell_type": "code",
   "execution_count": 33,
   "outputs": [
    {
     "data": {
      "text/plain": "Int64Index([229519, 788041, 392379, 1231771, 136826, 134387, 351947, 825005,\n            338391, 926705],\n           dtype='int64')"
     },
     "execution_count": 33,
     "metadata": {},
     "output_type": "execute_result"
    }
   ],
   "source": [
    "CapgMyoDF.iloc[~CapgMyoDF.index.isin(CapgMyoDF.sample(1000000).index)].sample(10).index"
   ],
   "metadata": {
    "collapsed": false,
    "pycharm": {
     "name": "#%%\n"
    }
   }
  },
  {
   "cell_type": "code",
   "execution_count": 15,
   "outputs": [
    {
     "data": {
      "text/plain": "1    180000\n2    180000\n3    180000\n4    180000\n5    180000\n6    180000\n7    180000\nName: label, dtype: int64"
     },
     "execution_count": 15,
     "metadata": {},
     "output_type": "execute_result"
    }
   ],
   "source": [
    "CapgMyoDF['label'].value_counts()"
   ],
   "metadata": {
    "collapsed": false,
    "pycharm": {
     "name": "#%%\n"
    }
   }
  },
  {
   "cell_type": "code",
   "execution_count": 7,
   "outputs": [
    {
     "ename": "KeyError",
     "evalue": "\"['Unnamed: 0'] not found in axis\"",
     "output_type": "error",
     "traceback": [
      "\u001B[1;31m---------------------------------------------------------------------------\u001B[0m",
      "\u001B[1;31mKeyError\u001B[0m                                  Traceback (most recent call last)",
      "\u001B[1;32m~\\AppData\\Local\\Temp/ipykernel_6612/3640786499.py\u001B[0m in \u001B[0;36m<module>\u001B[1;34m\u001B[0m\n\u001B[1;32m----> 1\u001B[1;33m \u001B[0mCapgMyoDF\u001B[0m\u001B[1;33m.\u001B[0m\u001B[0mdrop\u001B[0m\u001B[1;33m(\u001B[0m\u001B[1;34m'Unnamed: 0'\u001B[0m\u001B[1;33m,\u001B[0m \u001B[0minplace\u001B[0m\u001B[1;33m=\u001B[0m\u001B[1;32mTrue\u001B[0m\u001B[1;33m,\u001B[0m \u001B[0maxis\u001B[0m\u001B[1;33m=\u001B[0m\u001B[1;36m1\u001B[0m\u001B[1;33m)\u001B[0m\u001B[1;33m\u001B[0m\u001B[1;33m\u001B[0m\u001B[0m\n\u001B[0m",
      "\u001B[1;32mC:\\ProgramData\\Anaconda3\\envs\\chinese_experiment\\lib\\site-packages\\pandas\\util\\_decorators.py\u001B[0m in \u001B[0;36mwrapper\u001B[1;34m(*args, **kwargs)\u001B[0m\n\u001B[0;32m    309\u001B[0m                     \u001B[0mstacklevel\u001B[0m\u001B[1;33m=\u001B[0m\u001B[0mstacklevel\u001B[0m\u001B[1;33m,\u001B[0m\u001B[1;33m\u001B[0m\u001B[1;33m\u001B[0m\u001B[0m\n\u001B[0;32m    310\u001B[0m                 )\n\u001B[1;32m--> 311\u001B[1;33m             \u001B[1;32mreturn\u001B[0m \u001B[0mfunc\u001B[0m\u001B[1;33m(\u001B[0m\u001B[1;33m*\u001B[0m\u001B[0margs\u001B[0m\u001B[1;33m,\u001B[0m \u001B[1;33m**\u001B[0m\u001B[0mkwargs\u001B[0m\u001B[1;33m)\u001B[0m\u001B[1;33m\u001B[0m\u001B[1;33m\u001B[0m\u001B[0m\n\u001B[0m\u001B[0;32m    312\u001B[0m \u001B[1;33m\u001B[0m\u001B[0m\n\u001B[0;32m    313\u001B[0m         \u001B[1;32mreturn\u001B[0m \u001B[0mwrapper\u001B[0m\u001B[1;33m\u001B[0m\u001B[1;33m\u001B[0m\u001B[0m\n",
      "\u001B[1;32mC:\\ProgramData\\Anaconda3\\envs\\chinese_experiment\\lib\\site-packages\\pandas\\core\\frame.py\u001B[0m in \u001B[0;36mdrop\u001B[1;34m(self, labels, axis, index, columns, level, inplace, errors)\u001B[0m\n\u001B[0;32m   4946\u001B[0m                 \u001B[0mweight\u001B[0m  \u001B[1;36m1.0\u001B[0m     \u001B[1;36m0.8\u001B[0m\u001B[1;33m\u001B[0m\u001B[1;33m\u001B[0m\u001B[0m\n\u001B[0;32m   4947\u001B[0m         \"\"\"\n\u001B[1;32m-> 4948\u001B[1;33m         return super().drop(\n\u001B[0m\u001B[0;32m   4949\u001B[0m             \u001B[0mlabels\u001B[0m\u001B[1;33m=\u001B[0m\u001B[0mlabels\u001B[0m\u001B[1;33m,\u001B[0m\u001B[1;33m\u001B[0m\u001B[1;33m\u001B[0m\u001B[0m\n\u001B[0;32m   4950\u001B[0m             \u001B[0maxis\u001B[0m\u001B[1;33m=\u001B[0m\u001B[0maxis\u001B[0m\u001B[1;33m,\u001B[0m\u001B[1;33m\u001B[0m\u001B[1;33m\u001B[0m\u001B[0m\n",
      "\u001B[1;32mC:\\ProgramData\\Anaconda3\\envs\\chinese_experiment\\lib\\site-packages\\pandas\\core\\generic.py\u001B[0m in \u001B[0;36mdrop\u001B[1;34m(self, labels, axis, index, columns, level, inplace, errors)\u001B[0m\n\u001B[0;32m   4277\u001B[0m         \u001B[1;32mfor\u001B[0m \u001B[0maxis\u001B[0m\u001B[1;33m,\u001B[0m \u001B[0mlabels\u001B[0m \u001B[1;32min\u001B[0m \u001B[0maxes\u001B[0m\u001B[1;33m.\u001B[0m\u001B[0mitems\u001B[0m\u001B[1;33m(\u001B[0m\u001B[1;33m)\u001B[0m\u001B[1;33m:\u001B[0m\u001B[1;33m\u001B[0m\u001B[1;33m\u001B[0m\u001B[0m\n\u001B[0;32m   4278\u001B[0m             \u001B[1;32mif\u001B[0m \u001B[0mlabels\u001B[0m \u001B[1;32mis\u001B[0m \u001B[1;32mnot\u001B[0m \u001B[1;32mNone\u001B[0m\u001B[1;33m:\u001B[0m\u001B[1;33m\u001B[0m\u001B[1;33m\u001B[0m\u001B[0m\n\u001B[1;32m-> 4279\u001B[1;33m                 \u001B[0mobj\u001B[0m \u001B[1;33m=\u001B[0m \u001B[0mobj\u001B[0m\u001B[1;33m.\u001B[0m\u001B[0m_drop_axis\u001B[0m\u001B[1;33m(\u001B[0m\u001B[0mlabels\u001B[0m\u001B[1;33m,\u001B[0m \u001B[0maxis\u001B[0m\u001B[1;33m,\u001B[0m \u001B[0mlevel\u001B[0m\u001B[1;33m=\u001B[0m\u001B[0mlevel\u001B[0m\u001B[1;33m,\u001B[0m \u001B[0merrors\u001B[0m\u001B[1;33m=\u001B[0m\u001B[0merrors\u001B[0m\u001B[1;33m)\u001B[0m\u001B[1;33m\u001B[0m\u001B[1;33m\u001B[0m\u001B[0m\n\u001B[0m\u001B[0;32m   4280\u001B[0m \u001B[1;33m\u001B[0m\u001B[0m\n\u001B[0;32m   4281\u001B[0m         \u001B[1;32mif\u001B[0m \u001B[0minplace\u001B[0m\u001B[1;33m:\u001B[0m\u001B[1;33m\u001B[0m\u001B[1;33m\u001B[0m\u001B[0m\n",
      "\u001B[1;32mC:\\ProgramData\\Anaconda3\\envs\\chinese_experiment\\lib\\site-packages\\pandas\\core\\generic.py\u001B[0m in \u001B[0;36m_drop_axis\u001B[1;34m(self, labels, axis, level, errors, consolidate, only_slice)\u001B[0m\n\u001B[0;32m   4321\u001B[0m                 \u001B[0mnew_axis\u001B[0m \u001B[1;33m=\u001B[0m \u001B[0maxis\u001B[0m\u001B[1;33m.\u001B[0m\u001B[0mdrop\u001B[0m\u001B[1;33m(\u001B[0m\u001B[0mlabels\u001B[0m\u001B[1;33m,\u001B[0m \u001B[0mlevel\u001B[0m\u001B[1;33m=\u001B[0m\u001B[0mlevel\u001B[0m\u001B[1;33m,\u001B[0m \u001B[0merrors\u001B[0m\u001B[1;33m=\u001B[0m\u001B[0merrors\u001B[0m\u001B[1;33m)\u001B[0m\u001B[1;33m\u001B[0m\u001B[1;33m\u001B[0m\u001B[0m\n\u001B[0;32m   4322\u001B[0m             \u001B[1;32melse\u001B[0m\u001B[1;33m:\u001B[0m\u001B[1;33m\u001B[0m\u001B[1;33m\u001B[0m\u001B[0m\n\u001B[1;32m-> 4323\u001B[1;33m                 \u001B[0mnew_axis\u001B[0m \u001B[1;33m=\u001B[0m \u001B[0maxis\u001B[0m\u001B[1;33m.\u001B[0m\u001B[0mdrop\u001B[0m\u001B[1;33m(\u001B[0m\u001B[0mlabels\u001B[0m\u001B[1;33m,\u001B[0m \u001B[0merrors\u001B[0m\u001B[1;33m=\u001B[0m\u001B[0merrors\u001B[0m\u001B[1;33m)\u001B[0m\u001B[1;33m\u001B[0m\u001B[1;33m\u001B[0m\u001B[0m\n\u001B[0m\u001B[0;32m   4324\u001B[0m             \u001B[0mindexer\u001B[0m \u001B[1;33m=\u001B[0m \u001B[0maxis\u001B[0m\u001B[1;33m.\u001B[0m\u001B[0mget_indexer\u001B[0m\u001B[1;33m(\u001B[0m\u001B[0mnew_axis\u001B[0m\u001B[1;33m)\u001B[0m\u001B[1;33m\u001B[0m\u001B[1;33m\u001B[0m\u001B[0m\n\u001B[0;32m   4325\u001B[0m \u001B[1;33m\u001B[0m\u001B[0m\n",
      "\u001B[1;32mC:\\ProgramData\\Anaconda3\\envs\\chinese_experiment\\lib\\site-packages\\pandas\\core\\indexes\\base.py\u001B[0m in \u001B[0;36mdrop\u001B[1;34m(self, labels, errors)\u001B[0m\n\u001B[0;32m   6642\u001B[0m         \u001B[1;32mif\u001B[0m \u001B[0mmask\u001B[0m\u001B[1;33m.\u001B[0m\u001B[0many\u001B[0m\u001B[1;33m(\u001B[0m\u001B[1;33m)\u001B[0m\u001B[1;33m:\u001B[0m\u001B[1;33m\u001B[0m\u001B[1;33m\u001B[0m\u001B[0m\n\u001B[0;32m   6643\u001B[0m             \u001B[1;32mif\u001B[0m \u001B[0merrors\u001B[0m \u001B[1;33m!=\u001B[0m \u001B[1;34m\"ignore\"\u001B[0m\u001B[1;33m:\u001B[0m\u001B[1;33m\u001B[0m\u001B[1;33m\u001B[0m\u001B[0m\n\u001B[1;32m-> 6644\u001B[1;33m                 \u001B[1;32mraise\u001B[0m \u001B[0mKeyError\u001B[0m\u001B[1;33m(\u001B[0m\u001B[1;34mf\"{list(labels[mask])} not found in axis\"\u001B[0m\u001B[1;33m)\u001B[0m\u001B[1;33m\u001B[0m\u001B[1;33m\u001B[0m\u001B[0m\n\u001B[0m\u001B[0;32m   6645\u001B[0m             \u001B[0mindexer\u001B[0m \u001B[1;33m=\u001B[0m \u001B[0mindexer\u001B[0m\u001B[1;33m[\u001B[0m\u001B[1;33m~\u001B[0m\u001B[0mmask\u001B[0m\u001B[1;33m]\u001B[0m\u001B[1;33m\u001B[0m\u001B[1;33m\u001B[0m\u001B[0m\n\u001B[0;32m   6646\u001B[0m         \u001B[1;32mreturn\u001B[0m \u001B[0mself\u001B[0m\u001B[1;33m.\u001B[0m\u001B[0mdelete\u001B[0m\u001B[1;33m(\u001B[0m\u001B[0mindexer\u001B[0m\u001B[1;33m)\u001B[0m\u001B[1;33m\u001B[0m\u001B[1;33m\u001B[0m\u001B[0m\n",
      "\u001B[1;31mKeyError\u001B[0m: \"['Unnamed: 0'] not found in axis\""
     ]
    }
   ],
   "source": [
    "CapgMyoDF.drop('Unnamed: 0', inplace=True, axis=1)"
   ],
   "metadata": {
    "collapsed": false,
    "pycharm": {
     "name": "#%%\n"
    }
   }
  },
  {
   "cell_type": "code",
   "execution_count": 8,
   "outputs": [],
   "source": [
    "CapgMyoDF.to_csv(os.path.join('..', '..', 'Data', 'CapgMyo', 'CapgMyo.csv'), index=False)"
   ],
   "metadata": {
    "collapsed": false,
    "pycharm": {
     "name": "#%%\n"
    }
   }
  },
  {
   "cell_type": "code",
   "execution_count": 13,
   "outputs": [
    {
     "data": {
      "text/plain": "tensor([[-8.5561e-03, -5.7104e-03, -6.8789e-03, -3.5183e-03,  2.2726e-03,\n         -1.8738e-03,  4.5355e-03,  5.8379e-03],\n        [-2.0576e-03, -2.6699e-02, -2.7657e-02, -1.0247e-02,  7.7434e-03,\n         -1.9768e-03, -8.4650e-03,  4.3372e-03],\n        [-3.1970e-03,  4.5289e-03,  1.2535e-03,  7.6332e-03, -6.2416e-03,\n         -7.0039e-03, -7.7303e-04, -2.8595e-03],\n        [-2.0505e-03, -1.0907e-03, -1.0163e-03,  8.0581e-03, -6.7409e-03,\n          5.2024e-04, -2.0970e-03, -2.8353e-03],\n        [-6.8206e-03, -1.2987e-02, -7.8522e-03,  2.0743e-03,  6.3714e-03,\n          6.4874e-03,  8.4902e-03, -1.3745e-05],\n        [-9.9149e-03, -6.7347e-03, -1.9878e-02,  5.5136e-03, -2.4017e-03,\n          4.6353e-03,  1.0339e-02,  3.5195e-02],\n        [-4.8477e-03,  3.6322e-03, -1.8751e-03,  8.4397e-03,  1.4810e-02,\n          8.8719e-03,  5.3352e-03, -5.3305e-03],\n        [-7.0676e-03, -6.7991e-03, -1.2337e-03,  3.9026e-03,  5.8881e-03,\n          1.4885e-02,  1.8602e-03,  2.4679e-03],\n        [-1.0264e-02,  4.6372e-03, -1.0565e-02, -1.0270e-02, -2.8952e-03,\n          1.0953e-02, -3.5235e-04, -3.3538e-03],\n        [-1.8221e-02, -5.6790e-03,  9.9716e-04,  2.7342e-03,  2.5804e-03,\n         -4.8175e-04,  1.4784e-02,  2.7965e-05],\n        [-5.5910e-03,  8.1837e-04, -5.3391e-03, -1.3957e-04,  6.5610e-03,\n         -2.3704e-03, -1.9238e-03, -8.5403e-03],\n        [ 3.9632e-03,  1.1989e-02,  1.0346e-02,  1.0404e-04,  1.0630e-02,\n          1.8940e-03,  3.8488e-03, -1.2074e-02],\n        [-1.0499e-02, -6.6164e-03, -8.5763e-03, -4.4895e-03,  4.8108e-03,\n          4.0008e-03,  4.3842e-04,  1.7115e-03],\n        [-7.6585e-03, -6.0988e-03, -6.3588e-03,  1.2278e-05, -3.4714e-03,\n          1.7065e-03, -5.9000e-03,  2.4743e-04],\n        [ 6.4278e-04, -7.8935e-03, -1.0048e-02, -2.8610e-03,  1.9632e-03,\n         -1.2352e-02, -4.6292e-03,  3.0261e-04],\n        [-9.0353e-03, -9.8931e-03, -3.0823e-03, -2.7376e-03, -1.0039e-03,\n          4.2322e-03, -6.3788e-03, -6.6849e-03]], dtype=torch.float64)"
     },
     "execution_count": 13,
     "metadata": {},
     "output_type": "execute_result"
    }
   ],
   "source": [
    "torch.from_numpy(np.load(CapgMyoDF.paths[1000000]))"
   ],
   "metadata": {
    "collapsed": false,
    "pycharm": {
     "name": "#%%\n"
    }
   }
  },
  {
   "cell_type": "code",
   "execution_count": 2,
   "outputs": [],
   "source": [
    "dataset = None"
   ],
   "metadata": {
    "collapsed": false,
    "pycharm": {
     "name": "#%%\n"
    }
   }
  },
  {
   "cell_type": "code",
   "execution_count": 3,
   "outputs": [
    {
     "data": {
      "text/plain": "<torch.utils.data.dataloader.DataLoader at 0x1a8d337d840>"
     },
     "execution_count": 3,
     "metadata": {},
     "output_type": "execute_result"
    }
   ],
   "source": [
    "dataloader = DataLoader(dataset=dataset, batch_size=4, shuffle=True, num_workers=2)\n",
    "dataloader"
   ],
   "metadata": {
    "collapsed": false,
    "pycharm": {
     "name": "#%%\n"
    }
   }
  },
  {
   "cell_type": "code",
   "execution_count": 4,
   "outputs": [
    {
     "data": {
      "text/plain": "1260000"
     },
     "execution_count": 4,
     "metadata": {},
     "output_type": "execute_result"
    }
   ],
   "source": [
    "dataset.__len__()"
   ],
   "metadata": {
    "collapsed": false,
    "pycharm": {
     "name": "#%%\n"
    }
   }
  },
  {
   "cell_type": "code",
   "execution_count": 5,
   "outputs": [
    {
     "name": "stdout",
     "output_type": "stream",
     "text": [
      "tensor([[[ 1.9777e-03, -5.6995e-04,  1.3944e-02,  1.9737e-02,  4.4204e-02,\n",
      "           1.5919e-02, -6.1627e-03, -1.5769e-02],\n",
      "         [ 1.2028e-03,  4.8578e-03,  1.0125e-03,  4.5997e-03,  1.2048e-02,\n",
      "           4.7248e-03, -1.4377e-02, -6.1463e-03],\n",
      "         [-2.6746e-02, -3.2995e-02, -2.0572e-02, -2.8428e-03,  7.1068e-03,\n",
      "           3.9167e-03,  6.9383e-03,  1.6852e-03],\n",
      "         [-5.1041e-02, -8.6579e-02, -3.9627e-02,  3.4812e-03,  1.6935e-02,\n",
      "           2.3156e-02,  1.2301e-02,  3.0250e-02],\n",
      "         [-9.1672e-03,  2.8070e-03, -1.2672e-02, -9.2334e-03,  6.2498e-03,\n",
      "          -4.2990e-04,  3.6616e-04,  1.9626e-02],\n",
      "         [ 2.3780e-02,  2.5439e-03,  4.5372e-03, -2.0059e-02, -1.0506e-02,\n",
      "           2.2689e-03, -1.2070e-02, -6.8988e-03],\n",
      "         [ 1.1769e-02,  1.7242e-02,  1.1135e-02,  1.0306e-02,  3.5419e-03,\n",
      "           2.1285e-03,  2.6197e-03, -5.0089e-04],\n",
      "         [ 7.3170e-03,  1.1158e-02,  1.6333e-02,  1.3168e-02,  8.4582e-03,\n",
      "           3.5078e-03,  3.0725e-03,  1.7908e-03],\n",
      "         [ 1.8328e-02,  7.2806e-03, -5.2948e-03, -3.5380e-03,  2.2848e-02,\n",
      "           3.1994e-02,  4.6557e-02,  1.4244e-02],\n",
      "         [ 6.0198e-02,  4.2219e-02, -2.0230e-02, -2.3435e-02, -2.1101e-02,\n",
      "           2.4461e-02,  3.8375e-02,  1.6326e-02],\n",
      "         [ 1.2259e-01,  9.0690e-02, -1.3926e-02, -5.8827e-02, -2.8610e-02,\n",
      "          -3.2659e-02, -1.0787e-01, -2.3576e-02],\n",
      "         [ 1.4985e-01,  8.4969e-02, -4.6483e-03, -7.8374e-02, -4.1712e-02,\n",
      "          -2.2430e-02, -2.2890e-02, -1.1822e-02],\n",
      "         [ 2.2136e-03,  2.2661e-01,  6.1300e-02,  5.6883e-02,  2.0377e-02,\n",
      "           1.6413e-02,  6.2969e-02,  3.8414e-03],\n",
      "         [ 2.7049e-02,  2.1464e-02,  3.4771e-02,  6.5054e-02,  4.5998e-02,\n",
      "           9.9648e-03,  9.8155e-03,  9.7396e-03],\n",
      "         [ 1.1206e-02,  1.5612e-02,  1.8363e-02,  1.6755e-02,  5.6929e-03,\n",
      "          -1.0044e-03,  4.0744e-03,  2.3820e-02],\n",
      "         [ 1.5149e-02,  1.5227e-02,  1.3371e-02,  3.7240e-02,  1.7040e-02,\n",
      "          -1.8913e-03, -1.2009e-02,  1.8155e-03]],\n",
      "\n",
      "        [[ 7.7119e-03,  1.2841e-02,  2.5854e-02,  4.0374e-03, -9.2032e-03,\n",
      "          -4.1716e-03, -3.0604e-03, -1.0322e-02],\n",
      "         [ 1.1652e-02,  2.1273e-02,  3.0734e-02,  2.3272e-02,  8.3320e-03,\n",
      "          -1.1369e-02, -2.2409e-02, -1.1494e-02],\n",
      "         [ 2.6730e-02,  1.3753e-02,  1.7719e-03,  5.2711e-03, -6.8110e-03,\n",
      "          -7.4500e-03, -5.9329e-03, -3.2722e-02],\n",
      "         [ 2.5066e-02,  1.0333e-03,  2.3757e-04,  1.0333e-02, -1.0109e-02,\n",
      "          -6.9364e-03, -1.0630e-02, -3.8622e-02],\n",
      "         [ 3.6431e-03, -2.2366e-03,  5.9432e-03,  7.7209e-03,  2.3775e-03,\n",
      "          -2.7496e-03, -2.0397e-03, -7.4857e-03],\n",
      "         [ 1.4208e-02,  2.1203e-02,  1.5123e-02,  2.1966e-02, -5.7212e-03,\n",
      "          -2.1856e-02, -8.0239e-03,  1.1739e-02],\n",
      "         [ 2.8977e-03,  1.7936e-02,  1.1047e-03,  4.9669e-03,  1.2554e-02,\n",
      "           8.0853e-03, -1.5065e-03, -1.8043e-02],\n",
      "         [ 1.9980e-02,  9.9134e-03,  2.4228e-03, -6.7643e-04,  2.1365e-03,\n",
      "           4.5396e-03, -7.8562e-03, -1.5101e-02],\n",
      "         [-9.1913e-03,  1.1210e-03, -7.2136e-03, -1.0630e-02,  4.3945e-04,\n",
      "           4.4492e-03, -5.1574e-03, -3.4212e-03],\n",
      "         [-8.8902e-03,  4.7981e-04, -4.5314e-03, -4.4725e-03,  2.5156e-03,\n",
      "          -6.6379e-03, -8.2295e-03, -7.0997e-03],\n",
      "         [-5.5895e-04,  1.6185e-03, -4.3054e-03, -1.3130e-04,  5.3840e-03,\n",
      "          -3.8622e-03,  9.0363e-05, -8.9711e-03],\n",
      "         [-1.1865e-04,  3.0458e-03,  3.0420e-03,  3.0420e-03, -1.4731e-03,\n",
      "           1.8210e-03,  1.0419e-02, -4.0731e-03],\n",
      "         [-5.8875e-03, -1.2447e-03, -1.1811e-03, -5.0575e-03,  4.6430e-04,\n",
      "          -1.7154e-03,  3.7146e-04, -3.1981e-03],\n",
      "         [-3.7731e-03,  1.6328e-03, -3.7590e-03,  2.7392e-04, -5.1796e-03,\n",
      "           1.8104e-03, -6.9370e-03, -4.0199e-03],\n",
      "         [ 1.0104e-02,  4.2879e-03,  5.0411e-03,  8.9196e-04,  8.0450e-04,\n",
      "          -9.7955e-03, -1.1050e-02, -5.1047e-03],\n",
      "         [ 1.3073e-03,  9.6894e-04,  4.0345e-03, -3.2219e-03, -8.9750e-03,\n",
      "          -8.2669e-03, -2.0022e-02, -1.2168e-02]],\n",
      "\n",
      "        [[ 6.5030e-03,  6.7257e-03,  1.3165e-02,  1.1758e-02,  1.2374e-03,\n",
      "          -1.0482e-02, -2.3667e-02, -1.8606e-02],\n",
      "         [ 3.1734e-03,  1.1167e-02,  1.0183e-02,  1.3140e-02,  1.6569e-02,\n",
      "           4.0449e-03, -1.7348e-02, -9.8564e-03],\n",
      "         [-5.4405e-03, -2.2118e-02, -3.4519e-02, -7.0971e-03,  7.9962e-03,\n",
      "          -2.7060e-03, -3.4852e-02, -2.3859e-02],\n",
      "         [-1.2525e-02, -2.0375e-02, -1.0923e-02, -1.1685e-02, -3.8791e-03,\n",
      "          -1.1663e-02, -6.5912e-03, -4.9196e-03],\n",
      "         [-1.6863e-02, -4.6167e-03,  8.5025e-03,  4.3403e-02,  3.8546e-02,\n",
      "          -6.2502e-03,  3.4396e-02, -1.9616e-03],\n",
      "         [ 1.0982e-02,  1.9829e-02,  2.5047e-02,  2.5447e-02,  1.8436e-02,\n",
      "           2.6067e-03, -9.9284e-03,  5.9057e-03],\n",
      "         [-3.9940e-03,  2.6961e-03,  9.4148e-04,  3.4699e-03,  6.1150e-03,\n",
      "           4.3044e-03,  1.6494e-02,  6.2387e-03],\n",
      "         [-3.2259e-03, -1.0296e-02, -3.7269e-03, -1.0327e-02, -1.0234e-03,\n",
      "           7.1479e-03,  7.6646e-03,  6.5001e-04],\n",
      "         [ 5.2297e-04,  1.4373e-02,  1.6233e-02,  1.1859e-02,  1.2458e-03,\n",
      "           2.9104e-03,  3.7509e-03,  2.0690e-04],\n",
      "         [ 1.1845e-02,  1.6558e-02,  1.3159e-02,  8.8195e-03,  2.6908e-03,\n",
      "          -5.4388e-03, -2.1518e-03,  1.6199e-03],\n",
      "         [ 1.1777e-02,  5.4954e-02,  3.3996e-02, -5.4492e-03, -5.7100e-02,\n",
      "          -1.2476e-01, -6.0785e-02, -2.4713e-02],\n",
      "         [ 6.3543e-02,  2.8479e-02,  1.5584e-02, -3.0593e-02, -1.0270e-01,\n",
      "          -1.0106e-01, -1.3131e-01, -2.9603e-02],\n",
      "         [ 2.9717e-03,  7.0076e-03,  6.7064e-03, -3.9887e-03, -4.4472e-02,\n",
      "          -2.3223e-02, -2.5103e-02, -2.0673e-02],\n",
      "         [ 6.1448e-03,  5.3206e-03,  5.0989e-03, -1.3588e-03, -8.2600e-03,\n",
      "          -1.0325e-02, -1.2566e-02, -1.4340e-02],\n",
      "         [ 7.1806e-03,  7.8535e-03,  4.3739e-03,  5.0070e-03, -5.8698e-04,\n",
      "          -5.8485e-03, -6.3263e-03, -2.5394e-03],\n",
      "         [ 5.3720e-04,  4.8014e-03,  4.8571e-03,  2.1693e-03,  6.9075e-03,\n",
      "          -3.7825e-03,  9.1880e-04, -4.8324e-03]],\n",
      "\n",
      "        [[-5.5433e-02, -7.7495e-02, -7.2005e-02, -4.5042e-02, -2.6725e-02,\n",
      "           2.6910e-02,  4.0156e-02,  5.7599e-02],\n",
      "         [-3.7198e-02, -9.5967e-02, -8.9684e-03, -2.4876e-02, -1.3651e-02,\n",
      "           1.0845e-02,  2.0732e-02,  1.9076e-02],\n",
      "         [-1.3998e-02, -7.6429e-02, -5.7592e-02, -3.5052e-02, -1.4405e-02,\n",
      "          -1.0703e-02, -2.2949e-02, -4.7781e-03],\n",
      "         [-1.6850e-02, -5.3926e-02, -2.7602e-02, -2.0931e-02, -7.6385e-03,\n",
      "          -2.0757e-02, -1.4733e-02, -2.4450e-02],\n",
      "         [ 3.5046e-02, -2.5913e-02, -1.3351e-02, -6.6380e-03, -5.3204e-03,\n",
      "          -9.5454e-03, -6.6608e-03, -1.1469e-02],\n",
      "         [-3.0005e-02, -3.5551e-02, -7.4519e-03,  7.1998e-03, -3.2418e-03,\n",
      "          -3.6037e-03, -1.2235e-02, -1.7140e-03],\n",
      "         [-1.4083e-02, -1.0459e-02, -5.2031e-03, -3.7706e-03, -9.5567e-03,\n",
      "          -4.7405e-03, -6.3100e-03, -7.6741e-03],\n",
      "         [-1.0944e-03, -7.6536e-04, -2.4817e-03, -6.2857e-03, -8.5517e-03,\n",
      "          -6.8634e-03, -6.2823e-03,  1.2594e-03],\n",
      "         [ 2.2784e-03, -7.9787e-04,  1.5719e-03,  3.4048e-03,  1.1887e-03,\n",
      "           6.5522e-03,  1.2548e-02,  2.8235e-03],\n",
      "         [-1.4794e-03,  3.3692e-04,  3.0211e-03,  5.1450e-03,  5.2415e-03,\n",
      "           5.6600e-03,  6.1129e-03, -6.8978e-05],\n",
      "         [ 4.2994e-03, -2.0129e-03,  2.8038e-03, -1.7987e-03,  5.5374e-04,\n",
      "           1.3249e-03,  5.3513e-04,  2.4716e-03],\n",
      "         [-3.3462e-03,  2.6753e-04, -4.0435e-03, -1.3346e-03, -1.4538e-03,\n",
      "           2.1868e-03,  2.0310e-03, -6.0253e-03],\n",
      "         [-8.3026e-03, -6.0614e-03,  5.3120e-03,  5.4866e-03,  9.0466e-03,\n",
      "           8.5704e-03,  4.3359e-04, -4.7116e-03],\n",
      "         [-4.0250e-03,  2.7843e-03,  8.1663e-03,  6.9324e-03,  9.8893e-03,\n",
      "           1.8767e-02,  6.8165e-03,  7.3382e-03],\n",
      "         [ 9.6675e-03, -2.9016e-03,  2.1962e-03,  1.1191e-02,  2.8725e-02,\n",
      "           2.7935e-02,  3.3636e-02,  2.6125e-02],\n",
      "         [-7.3603e-03, -6.4842e-03, -2.0758e-03,  1.0117e-02,  2.5027e-02,\n",
      "           3.4083e-02,  3.8929e-02,  4.1108e-02]]], dtype=torch.float64) tensor([3, 3, 3, 4])\n"
     ]
    }
   ],
   "source": [
    "dataiter = iter(dataloader)\n",
    "features, labels = dataiter.next()\n",
    "print(features, labels)"
   ],
   "metadata": {
    "collapsed": false,
    "pycharm": {
     "name": "#%%\n"
    }
   }
  },
  {
   "cell_type": "code",
   "execution_count": 4,
   "outputs": [
    {
     "data": {
      "text/plain": "<datasets.data_module.CapgMyoDataModule at 0x15029b3ad10>"
     },
     "execution_count": 4,
     "metadata": {},
     "output_type": "execute_result"
    }
   ],
   "source": [
    "AbstractDataModule(os.path.join('..', '..', 'Data', 'CapgMyo', 'CapgMyo.csv'))"
   ],
   "metadata": {
    "collapsed": false,
    "pycharm": {
     "name": "#%%\n"
    }
   }
  },
  {
   "cell_type": "code",
   "execution_count": 2,
   "outputs": [
    {
     "ename": "RuntimeError",
     "evalue": "The expanded size of the tensor (0) must match the existing size (1000) at non-singleton dimension 0.  Target sizes: [0, 16, 8].  Tensor sizes: [1000, 16, 8]",
     "output_type": "error",
     "traceback": [
      "\u001B[1;31m---------------------------------------------------------------------------\u001B[0m",
      "\u001B[1;31mRuntimeError\u001B[0m                              Traceback (most recent call last)",
      "\u001B[1;32m~\\AppData\\Local\\Temp/ipykernel_9892/1870402093.py\u001B[0m in \u001B[0;36m<module>\u001B[1;34m\u001B[0m\n\u001B[1;32m----> 1\u001B[1;33m \u001B[0mcapten\u001B[0m \u001B[1;33m=\u001B[0m \u001B[0mget_capgmyo_tensor\u001B[0m\u001B[1;33m(\u001B[0m\u001B[1;33m)\u001B[0m\u001B[1;33m\u001B[0m\u001B[1;33m\u001B[0m\u001B[0m\n\u001B[0m",
      "\u001B[1;32mC:\\Science\\chinese_experiment\\datasets\\data_import.py\u001B[0m in \u001B[0;36mget_capgmyo_tensor\u001B[1;34m()\u001B[0m\n\u001B[0;32m    135\u001B[0m                 \u001B[0mfuture\u001B[0m \u001B[1;33m=\u001B[0m \u001B[0mprevious\u001B[0m \u001B[1;33m+\u001B[0m \u001B[0mdata\u001B[0m\u001B[1;33m.\u001B[0m\u001B[0mshape\u001B[0m\u001B[1;33m[\u001B[0m\u001B[1;36m0\u001B[0m\u001B[1;33m]\u001B[0m\u001B[1;33m\u001B[0m\u001B[1;33m\u001B[0m\u001B[0m\n\u001B[0;32m    136\u001B[0m                 \u001B[0mlabels\u001B[0m\u001B[1;33m[\u001B[0m\u001B[0mprevious\u001B[0m\u001B[1;33m:\u001B[0m\u001B[0mfuture\u001B[0m\u001B[1;33m]\u001B[0m \u001B[1;33m=\u001B[0m \u001B[0mgesture\u001B[0m\u001B[1;33m\u001B[0m\u001B[1;33m\u001B[0m\u001B[0m\n\u001B[1;32m--> 137\u001B[1;33m                 \u001B[0mrecordings\u001B[0m\u001B[1;33m[\u001B[0m\u001B[0mprevious\u001B[0m\u001B[1;33m:\u001B[0m\u001B[0mfuture\u001B[0m\u001B[1;33m]\u001B[0m \u001B[1;33m=\u001B[0m \u001B[0mtorch\u001B[0m\u001B[1;33m.\u001B[0m\u001B[0mfrom_numpy\u001B[0m\u001B[1;33m(\u001B[0m\u001B[0mdata\u001B[0m\u001B[1;33m.\u001B[0m\u001B[0mreshape\u001B[0m\u001B[1;33m(\u001B[0m\u001B[1;33m(\u001B[0m\u001B[0mdata\u001B[0m\u001B[1;33m.\u001B[0m\u001B[0mshape\u001B[0m\u001B[1;33m[\u001B[0m\u001B[1;36m0\u001B[0m\u001B[1;33m]\u001B[0m\u001B[1;33m,\u001B[0m \u001B[1;36m16\u001B[0m\u001B[1;33m,\u001B[0m \u001B[1;36m8\u001B[0m\u001B[1;33m)\u001B[0m\u001B[1;33m)\u001B[0m\u001B[1;33m)\u001B[0m\u001B[1;33m\u001B[0m\u001B[1;33m\u001B[0m\u001B[0m\n\u001B[0m\u001B[0;32m    138\u001B[0m                 \u001B[0mprevious\u001B[0m \u001B[1;33m=\u001B[0m \u001B[0mfuture\u001B[0m\u001B[1;33m\u001B[0m\u001B[1;33m\u001B[0m\u001B[0m\n\u001B[0;32m    139\u001B[0m     \u001B[1;32mreturn\u001B[0m \u001B[0mrecordings\u001B[0m\u001B[1;33m,\u001B[0m \u001B[0mlabels\u001B[0m\u001B[1;33m\u001B[0m\u001B[1;33m\u001B[0m\u001B[0m\n",
      "\u001B[1;31mRuntimeError\u001B[0m: The expanded size of the tensor (0) must match the existing size (1000) at non-singleton dimension 0.  Target sizes: [0, 16, 8].  Tensor sizes: [1000, 16, 8]"
     ]
    }
   ],
   "source": [
    "capten = get_capgmyo_tensor()"
   ],
   "metadata": {
    "collapsed": false,
    "pycharm": {
     "name": "#%%\n"
    }
   }
  },
  {
   "cell_type": "code",
   "execution_count": null,
   "outputs": [],
   "source": [
    "capten[0][400]"
   ],
   "metadata": {
    "collapsed": false,
    "pycharm": {
     "name": "#%%\n"
    }
   }
  },
  {
   "cell_type": "code",
   "execution_count": 3,
   "outputs": [
    {
     "data": {
      "text/plain": "<Figure size 432x288 with 1 Axes>",
      "image/png": "[encoded data removed]"
     },
     "metadata": {
      "needs_background": "light"
     },
     "output_type": "display_data"
    }
   ],
   "source": [
    "plt.imshow(capten[0][400], interpolation='nearest')\n",
    "plt.axis('off')\n",
    "plt.show()"
   ],
   "metadata": {
    "collapsed": false,
    "pycharm": {
     "name": "#%%\n"
    }
   }
  },
  {
   "cell_type": "code",
   "execution_count": 2,
   "outputs": [
    {
     "data": {
      "text/plain": "                                                   records  labels\n0        [[0.05842395008672874, 0.03897882523526789, -0...       1\n1        [[0.05190974706218046, 0.011920948483512285, 0...       1\n2        [[0.013169703212726636, -0.011579979698558026,...       1\n3        [[-0.004400510770832741, 0.0011526380972148001...       1\n4        [[0.04349718753798314, 0.01520018674440372, -0...       1\n...                                                    ...     ...\n1259995  [[-0.006244014407391028, 0.0002240435889810993...       7\n1259996  [[-0.007085937273800194, 0.0001955566788236509...       7\n1259997  [[-0.006644892514181833, 0.0003949620863952353...       7\n1259998  [[-0.007414133930325232, -0.001094886074140485...       7\n1259999  [[-0.008317822145494144, -0.001691408783494379...       7\n\n[1260000 rows x 2 columns]",
      "text/html": "<div>\n<style scoped>\n    .dataframe tbody tr th:only-of-type {\n        vertical-align: middle;\n    }\n\n    .dataframe tbody tr th {\n        vertical-align: top;\n    }\n\n    .dataframe thead th {\n        text-align: right;\n    }\n</style>\n<table border=\"1\" class=\"dataframe\">\n  <thead>\n    <tr style=\"text-align: right;\">\n      <th></th>\n      <th>records</th>\n      <th>labels</th>\n    </tr>\n  </thead>\n  <tbody>\n    <tr>\n      <th>0</th>\n      <td>[[0.05842395008672874, 0.03897882523526789, -0...</td>\n      <td>1</td>\n    </tr>\n    <tr>\n      <th>1</th>\n      <td>[[0.05190974706218046, 0.011920948483512285, 0...</td>\n      <td>1</td>\n    </tr>\n    <tr>\n      <th>2</th>\n      <td>[[0.013169703212726636, -0.011579979698558026,...</td>\n      <td>1</td>\n    </tr>\n    <tr>\n      <th>3</th>\n      <td>[[-0.004400510770832741, 0.0011526380972148001...</td>\n      <td>1</td>\n    </tr>\n    <tr>\n      <th>4</th>\n      <td>[[0.04349718753798314, 0.01520018674440372, -0...</td>\n      <td>1</td>\n    </tr>\n    <tr>\n      <th>...</th>\n      <td>...</td>\n      <td>...</td>\n    </tr>\n    <tr>\n      <th>1259995</th>\n      <td>[[-0.006244014407391028, 0.0002240435889810993...</td>\n      <td>7</td>\n    </tr>\n    <tr>\n      <th>1259996</th>\n      <td>[[-0.007085937273800194, 0.0001955566788236509...</td>\n      <td>7</td>\n    </tr>\n    <tr>\n      <th>1259997</th>\n      <td>[[-0.006644892514181833, 0.0003949620863952353...</td>\n      <td>7</td>\n    </tr>\n    <tr>\n      <th>1259998</th>\n      <td>[[-0.007414133930325232, -0.001094886074140485...</td>\n      <td>7</td>\n    </tr>\n    <tr>\n      <th>1259999</th>\n      <td>[[-0.008317822145494144, -0.001691408783494379...</td>\n      <td>7</td>\n    </tr>\n  </tbody>\n</table>\n<p>1260000 rows × 2 columns</p>\n</div>"
     },
     "execution_count": 2,
     "metadata": {},
     "output_type": "execute_result"
    }
   ],
   "source": [
    "data_frame = get_capgmyo_dataset()\n",
    "data_frame"
   ],
   "metadata": {
    "collapsed": false,
    "pycharm": {
     "name": "#%%\n"
    }
   }
  },
  {
   "cell_type": "code",
   "execution_count": 3,
   "outputs": [
    {
     "data": {
      "text/plain": "<Figure size 432x288 with 1 Axes>",
      "image/png": "[encoded data removed]"
     },
     "metadata": {
      "needs_background": "light"
     },
     "output_type": "display_data"
    }
   ],
   "source": [
    "plt.imshow(data_frame.records[400], interpolation='nearest')\n",
    "plt.axis('off')\n",
    "plt.show()"
   ],
   "metadata": {
    "collapsed": false,
    "pycharm": {
     "name": "#%%\n"
    }
   }
  },
  {
   "cell_type": "code",
   "execution_count": 4,
   "outputs": [],
   "source": [
    "data_frame.to_csv('test.csv', index=False)"
   ],
   "metadata": {
    "collapsed": false,
    "pycharm": {
     "name": "#%%\n"
    }
   }
  },
  {
   "cell_type": "code",
   "execution_count": 12,
   "outputs": [
    {
     "ename": "KeyboardInterrupt",
     "evalue": "",
     "output_type": "error",
     "traceback": [
      "\u001B[1;31m---------------------------------------------------------------------------\u001B[0m",
      "\u001B[1;31mKeyboardInterrupt\u001B[0m                         Traceback (most recent call last)",
      "\u001B[1;32m~\\AppData\\Local\\Temp/ipykernel_11548/1384942807.py\u001B[0m in \u001B[0;36m<module>\u001B[1;34m\u001B[0m\n\u001B[1;32m----> 1\u001B[1;33m \u001B[0mpd\u001B[0m\u001B[1;33m.\u001B[0m\u001B[0mread_csv\u001B[0m\u001B[1;33m(\u001B[0m\u001B[1;34m'test.csv'\u001B[0m\u001B[1;33m,\u001B[0m \u001B[0mskiprows\u001B[0m\u001B[1;33m=\u001B[0m\u001B[1;36m1000\u001B[0m\u001B[1;33m,\u001B[0m \u001B[0mengine\u001B[0m\u001B[1;33m=\u001B[0m\u001B[1;34m'c'\u001B[0m\u001B[1;33m,\u001B[0m \u001B[0mheader\u001B[0m\u001B[1;33m=\u001B[0m\u001B[1;32mNone\u001B[0m\u001B[1;33m)\u001B[0m\u001B[1;33m\u001B[0m\u001B[1;33m\u001B[0m\u001B[0m\n\u001B[0m",
      "\u001B[1;32mC:\\ProgramData\\Anaconda3\\envs\\chinese_experiment\\lib\\site-packages\\pandas\\util\\_decorators.py\u001B[0m in \u001B[0;36mwrapper\u001B[1;34m(*args, **kwargs)\u001B[0m\n\u001B[0;32m    309\u001B[0m                     \u001B[0mstacklevel\u001B[0m\u001B[1;33m=\u001B[0m\u001B[0mstacklevel\u001B[0m\u001B[1;33m,\u001B[0m\u001B[1;33m\u001B[0m\u001B[1;33m\u001B[0m\u001B[0m\n\u001B[0;32m    310\u001B[0m                 )\n\u001B[1;32m--> 311\u001B[1;33m             \u001B[1;32mreturn\u001B[0m \u001B[0mfunc\u001B[0m\u001B[1;33m(\u001B[0m\u001B[1;33m*\u001B[0m\u001B[0margs\u001B[0m\u001B[1;33m,\u001B[0m \u001B[1;33m**\u001B[0m\u001B[0mkwargs\u001B[0m\u001B[1;33m)\u001B[0m\u001B[1;33m\u001B[0m\u001B[1;33m\u001B[0m\u001B[0m\n\u001B[0m\u001B[0;32m    312\u001B[0m \u001B[1;33m\u001B[0m\u001B[0m\n\u001B[0;32m    313\u001B[0m         \u001B[1;32mreturn\u001B[0m \u001B[0mwrapper\u001B[0m\u001B[1;33m\u001B[0m\u001B[1;33m\u001B[0m\u001B[0m\n",
      "\u001B[1;32mC:\\ProgramData\\Anaconda3\\envs\\chinese_experiment\\lib\\site-packages\\pandas\\io\\parsers\\readers.py\u001B[0m in \u001B[0;36mread_csv\u001B[1;34m(filepath_or_buffer, sep, delimiter, header, names, index_col, usecols, squeeze, prefix, mangle_dupe_cols, dtype, engine, converters, true_values, false_values, skipinitialspace, skiprows, skipfooter, nrows, na_values, keep_default_na, na_filter, verbose, skip_blank_lines, parse_dates, infer_datetime_format, keep_date_col, date_parser, dayfirst, cache_dates, iterator, chunksize, compression, thousands, decimal, lineterminator, quotechar, quoting, doublequote, escapechar, comment, encoding, encoding_errors, dialect, error_bad_lines, warn_bad_lines, on_bad_lines, delim_whitespace, low_memory, memory_map, float_precision, storage_options)\u001B[0m\n\u001B[0;32m    678\u001B[0m     \u001B[0mkwds\u001B[0m\u001B[1;33m.\u001B[0m\u001B[0mupdate\u001B[0m\u001B[1;33m(\u001B[0m\u001B[0mkwds_defaults\u001B[0m\u001B[1;33m)\u001B[0m\u001B[1;33m\u001B[0m\u001B[1;33m\u001B[0m\u001B[0m\n\u001B[0;32m    679\u001B[0m \u001B[1;33m\u001B[0m\u001B[0m\n\u001B[1;32m--> 680\u001B[1;33m     \u001B[1;32mreturn\u001B[0m \u001B[0m_read\u001B[0m\u001B[1;33m(\u001B[0m\u001B[0mfilepath_or_buffer\u001B[0m\u001B[1;33m,\u001B[0m \u001B[0mkwds\u001B[0m\u001B[1;33m)\u001B[0m\u001B[1;33m\u001B[0m\u001B[1;33m\u001B[0m\u001B[0m\n\u001B[0m\u001B[0;32m    681\u001B[0m \u001B[1;33m\u001B[0m\u001B[0m\n\u001B[0;32m    682\u001B[0m \u001B[1;33m\u001B[0m\u001B[0m\n",
      "\u001B[1;32mC:\\ProgramData\\Anaconda3\\envs\\chinese_experiment\\lib\\site-packages\\pandas\\io\\parsers\\readers.py\u001B[0m in \u001B[0;36m_read\u001B[1;34m(filepath_or_buffer, kwds)\u001B[0m\n\u001B[0;32m    579\u001B[0m \u001B[1;33m\u001B[0m\u001B[0m\n\u001B[0;32m    580\u001B[0m     \u001B[1;32mwith\u001B[0m \u001B[0mparser\u001B[0m\u001B[1;33m:\u001B[0m\u001B[1;33m\u001B[0m\u001B[1;33m\u001B[0m\u001B[0m\n\u001B[1;32m--> 581\u001B[1;33m         \u001B[1;32mreturn\u001B[0m \u001B[0mparser\u001B[0m\u001B[1;33m.\u001B[0m\u001B[0mread\u001B[0m\u001B[1;33m(\u001B[0m\u001B[0mnrows\u001B[0m\u001B[1;33m)\u001B[0m\u001B[1;33m\u001B[0m\u001B[1;33m\u001B[0m\u001B[0m\n\u001B[0m\u001B[0;32m    582\u001B[0m \u001B[1;33m\u001B[0m\u001B[0m\n\u001B[0;32m    583\u001B[0m \u001B[1;33m\u001B[0m\u001B[0m\n",
      "\u001B[1;32mC:\\ProgramData\\Anaconda3\\envs\\chinese_experiment\\lib\\site-packages\\pandas\\io\\parsers\\readers.py\u001B[0m in \u001B[0;36mread\u001B[1;34m(self, nrows)\u001B[0m\n\u001B[0;32m   1248\u001B[0m             \u001B[0mnrows\u001B[0m \u001B[1;33m=\u001B[0m \u001B[0mvalidate_integer\u001B[0m\u001B[1;33m(\u001B[0m\u001B[1;34m\"nrows\"\u001B[0m\u001B[1;33m,\u001B[0m \u001B[0mnrows\u001B[0m\u001B[1;33m)\u001B[0m\u001B[1;33m\u001B[0m\u001B[1;33m\u001B[0m\u001B[0m\n\u001B[0;32m   1249\u001B[0m             \u001B[1;32mtry\u001B[0m\u001B[1;33m:\u001B[0m\u001B[1;33m\u001B[0m\u001B[1;33m\u001B[0m\u001B[0m\n\u001B[1;32m-> 1250\u001B[1;33m                 \u001B[0mindex\u001B[0m\u001B[1;33m,\u001B[0m \u001B[0mcolumns\u001B[0m\u001B[1;33m,\u001B[0m \u001B[0mcol_dict\u001B[0m \u001B[1;33m=\u001B[0m \u001B[0mself\u001B[0m\u001B[1;33m.\u001B[0m\u001B[0m_engine\u001B[0m\u001B[1;33m.\u001B[0m\u001B[0mread\u001B[0m\u001B[1;33m(\u001B[0m\u001B[0mnrows\u001B[0m\u001B[1;33m)\u001B[0m\u001B[1;33m\u001B[0m\u001B[1;33m\u001B[0m\u001B[0m\n\u001B[0m\u001B[0;32m   1251\u001B[0m             \u001B[1;32mexcept\u001B[0m \u001B[0mException\u001B[0m\u001B[1;33m:\u001B[0m\u001B[1;33m\u001B[0m\u001B[1;33m\u001B[0m\u001B[0m\n\u001B[0;32m   1252\u001B[0m                 \u001B[0mself\u001B[0m\u001B[1;33m.\u001B[0m\u001B[0mclose\u001B[0m\u001B[1;33m(\u001B[0m\u001B[1;33m)\u001B[0m\u001B[1;33m\u001B[0m\u001B[1;33m\u001B[0m\u001B[0m\n",
      "\u001B[1;32mC:\\ProgramData\\Anaconda3\\envs\\chinese_experiment\\lib\\site-packages\\pandas\\io\\parsers\\c_parser_wrapper.py\u001B[0m in \u001B[0;36mread\u001B[1;34m(self, nrows)\u001B[0m\n\u001B[0;32m    223\u001B[0m         \u001B[1;32mtry\u001B[0m\u001B[1;33m:\u001B[0m\u001B[1;33m\u001B[0m\u001B[1;33m\u001B[0m\u001B[0m\n\u001B[0;32m    224\u001B[0m             \u001B[1;32mif\u001B[0m \u001B[0mself\u001B[0m\u001B[1;33m.\u001B[0m\u001B[0mlow_memory\u001B[0m\u001B[1;33m:\u001B[0m\u001B[1;33m\u001B[0m\u001B[1;33m\u001B[0m\u001B[0m\n\u001B[1;32m--> 225\u001B[1;33m                 \u001B[0mchunks\u001B[0m \u001B[1;33m=\u001B[0m \u001B[0mself\u001B[0m\u001B[1;33m.\u001B[0m\u001B[0m_reader\u001B[0m\u001B[1;33m.\u001B[0m\u001B[0mread_low_memory\u001B[0m\u001B[1;33m(\u001B[0m\u001B[0mnrows\u001B[0m\u001B[1;33m)\u001B[0m\u001B[1;33m\u001B[0m\u001B[1;33m\u001B[0m\u001B[0m\n\u001B[0m\u001B[0;32m    226\u001B[0m                 \u001B[1;31m# destructive to chunks\u001B[0m\u001B[1;33m\u001B[0m\u001B[1;33m\u001B[0m\u001B[0m\n\u001B[0;32m    227\u001B[0m                 \u001B[0mdata\u001B[0m \u001B[1;33m=\u001B[0m \u001B[0m_concatenate_chunks\u001B[0m\u001B[1;33m(\u001B[0m\u001B[0mchunks\u001B[0m\u001B[1;33m)\u001B[0m\u001B[1;33m\u001B[0m\u001B[1;33m\u001B[0m\u001B[0m\n",
      "\u001B[1;32mC:\\ProgramData\\Anaconda3\\envs\\chinese_experiment\\lib\\site-packages\\pandas\\_libs\\parsers.pyx\u001B[0m in \u001B[0;36mpandas._libs.parsers.TextReader.read_low_memory\u001B[1;34m()\u001B[0m\n",
      "\u001B[1;32mC:\\ProgramData\\Anaconda3\\envs\\chinese_experiment\\lib\\site-packages\\pandas\\_libs\\parsers.pyx\u001B[0m in \u001B[0;36mpandas._libs.parsers.TextReader._read_rows\u001B[1;34m()\u001B[0m\n",
      "\u001B[1;32mC:\\ProgramData\\Anaconda3\\envs\\chinese_experiment\\lib\\site-packages\\pandas\\_libs\\parsers.pyx\u001B[0m in \u001B[0;36mpandas._libs.parsers.TextReader._convert_column_data\u001B[1;34m()\u001B[0m\n",
      "\u001B[1;32mC:\\ProgramData\\Anaconda3\\envs\\chinese_experiment\\lib\\site-packages\\pandas\\_libs\\parsers.pyx\u001B[0m in \u001B[0;36mpandas._libs.parsers.TextReader._convert_tokens\u001B[1;34m()\u001B[0m\n",
      "\u001B[1;32mC:\\ProgramData\\Anaconda3\\envs\\chinese_experiment\\lib\\site-packages\\pandas\\_libs\\parsers.pyx\u001B[0m in \u001B[0;36mpandas._libs.parsers.TextReader._convert_with_dtype\u001B[1;34m()\u001B[0m\n",
      "\u001B[1;32mC:\\ProgramData\\Anaconda3\\envs\\chinese_experiment\\lib\\site-packages\\pandas\\core\\dtypes\\common.py\u001B[0m in \u001B[0;36mis_extension_array_dtype\u001B[1;34m(arr_or_dtype)\u001B[0m\n\u001B[0;32m   1472\u001B[0m     \u001B[1;32mFalse\u001B[0m\u001B[1;33m\u001B[0m\u001B[1;33m\u001B[0m\u001B[0m\n\u001B[0;32m   1473\u001B[0m     \"\"\"\n\u001B[1;32m-> 1474\u001B[1;33m     \u001B[0mdtype\u001B[0m \u001B[1;33m=\u001B[0m \u001B[0mgetattr\u001B[0m\u001B[1;33m(\u001B[0m\u001B[0marr_or_dtype\u001B[0m\u001B[1;33m,\u001B[0m \u001B[1;34m\"dtype\"\u001B[0m\u001B[1;33m,\u001B[0m \u001B[0marr_or_dtype\u001B[0m\u001B[1;33m)\u001B[0m\u001B[1;33m\u001B[0m\u001B[1;33m\u001B[0m\u001B[0m\n\u001B[0m\u001B[0;32m   1475\u001B[0m     \u001B[1;32mif\u001B[0m \u001B[0misinstance\u001B[0m\u001B[1;33m(\u001B[0m\u001B[0mdtype\u001B[0m\u001B[1;33m,\u001B[0m \u001B[0mExtensionDtype\u001B[0m\u001B[1;33m)\u001B[0m\u001B[1;33m:\u001B[0m\u001B[1;33m\u001B[0m\u001B[1;33m\u001B[0m\u001B[0m\n\u001B[0;32m   1476\u001B[0m         \u001B[1;32mreturn\u001B[0m \u001B[1;32mTrue\u001B[0m\u001B[1;33m\u001B[0m\u001B[1;33m\u001B[0m\u001B[0m\n",
      "\u001B[1;31mKeyboardInterrupt\u001B[0m: "
     ]
    }
   ],
   "source": [
    "pd.read_csv('test.csv', skiprows=1000, engine='c', header=None)"
   ],
   "metadata": {
    "collapsed": false,
    "pycharm": {
     "name": "#%%\n"
    }
   }
  },
  {
   "cell_type": "code",
   "execution_count": 3,
   "outputs": [],
   "source": [
    "cslten = get_csl_tensor()"
   ],
   "metadata": {
    "collapsed": false,
    "pycharm": {
     "name": "#%%\n"
    }
   }
  },
  {
   "cell_type": "code",
   "execution_count": 3,
   "outputs": [
    {
     "data": {
      "text/plain": "(tensor([[[-6.1037e-05,  9.1556e-05, -1.2207e-04,  ...,  1.5259e-04,\n            2.4415e-04, -2.1363e-04],\n          [ 3.0519e-05,  9.1556e-05, -3.0519e-05,  ...,  1.5259e-04,\n            3.0519e-05,  0.0000e+00],\n          [ 1.5259e-04, -2.1363e-04, -6.1037e-05,  ...,  1.5259e-04,\n            1.8311e-04, -2.7467e-04],\n          ...,\n          [ 1.5259e-04,  3.3570e-04, -3.0519e-04,  ...,  6.1037e-05,\n           -1.2207e-04,  6.1037e-04],\n          [ 3.0519e-05, -9.1556e-05,  6.1037e-05,  ...,  9.1556e-05,\n           -9.1556e-05,  2.1363e-04],\n          [ 3.0519e-05, -1.8311e-04,  2.7467e-04,  ..., -6.1037e-05,\n            1.2207e-04,  3.0519e-05]],\n \n         [[-3.0519e-05,  6.1037e-05, -6.1037e-05,  ...,  1.8311e-04,\n            3.0519e-04, -1.2207e-04],\n          [ 9.1556e-05,  3.0519e-05,  1.5259e-04,  ...,  6.1037e-05,\n            6.1037e-05,  0.0000e+00],\n          [-3.0519e-05, -9.1556e-05, -2.4415e-04,  ...,  9.1556e-05,\n            9.1556e-05, -1.5259e-04],\n          ...,\n          [ 1.2207e-04,  3.0519e-04, -2.7467e-04,  ..., -1.2207e-04,\n            0.0000e+00,  6.4089e-04],\n          [ 1.5259e-04, -2.1363e-04,  9.1556e-05,  ..., -9.1556e-05,\n            1.2207e-04,  1.5259e-04],\n          [ 0.0000e+00, -1.2207e-04,  1.8311e-04,  ..., -1.2207e-04,\n            1.5259e-04,  6.1037e-05]],\n \n         [[-1.2207e-04,  1.2207e-04, -1.2207e-04,  ...,  1.5259e-04,\n            2.4415e-04, -1.2207e-04],\n          [ 0.0000e+00,  0.0000e+00,  1.5259e-04,  ...,  1.5259e-04,\n           -6.1037e-05,  0.0000e+00],\n          [-6.1037e-05, -1.5259e-04, -1.8311e-04,  ...,  1.8311e-04,\n            3.0519e-05, -2.7467e-04],\n          ...,\n          [ 1.2207e-04,  1.2207e-04, -2.4415e-04,  ..., -3.0519e-04,\n            9.1556e-05,  3.6622e-04],\n          [ 1.2207e-04, -3.6622e-04,  1.5259e-04,  ..., -1.5259e-04,\n            3.0519e-05,  1.5259e-04],\n          [-3.0519e-05, -1.5259e-04,  3.0519e-05,  ..., -1.2207e-04,\n            1.8311e-04, -3.0519e-05]],\n \n         ...,\n \n         [[ 3.0519e-05,  0.0000e+00,  0.0000e+00,  ...,  0.0000e+00,\n            9.1556e-05,  3.0519e-05],\n          [-6.1037e-05,  3.0519e-05,  3.0519e-05,  ...,  9.1556e-05,\n           -3.0519e-05,  0.0000e+00],\n          [ 3.0519e-05, -1.5259e-04,  1.5259e-04,  ..., -3.0519e-05,\n           -3.0519e-05, -3.0519e-05],\n          ...,\n          [-6.7141e-04,  3.0519e-05,  4.5778e-04,  ..., -1.2207e-04,\n           -3.0519e-05, -3.0519e-05],\n          [ 3.0519e-04,  1.8311e-04, -9.1556e-05,  ...,  3.0519e-05,\n           -1.5259e-04, -3.0519e-05],\n          [-3.0519e-05,  3.0519e-05,  0.0000e+00,  ..., -1.2207e-04,\n            0.0000e+00,  0.0000e+00]],\n \n         [[-6.1037e-05,  6.1037e-05,  3.0519e-05,  ...,  0.0000e+00,\n            1.5259e-04, -3.0519e-05],\n          [-6.1037e-05, -3.0519e-05,  0.0000e+00,  ..., -9.1556e-05,\n            6.1037e-05,  3.0519e-05],\n          [ 9.1556e-05, -3.0519e-05,  1.2207e-04,  ..., -1.2207e-04,\n            0.0000e+00, -3.0519e-05],\n          ...,\n          [-7.6296e-04,  0.0000e+00,  5.7985e-04,  ...,  9.1556e-05,\n           -3.0519e-05, -3.0519e-05],\n          [ 2.4415e-04,  3.0519e-05,  3.0519e-05,  ..., -3.0519e-05,\n           -1.5259e-04,  2.1363e-04],\n          [-6.1037e-05,  6.1037e-05,  0.0000e+00,  ..., -9.1556e-05,\n           -1.2207e-04,  0.0000e+00]],\n \n         [[ 0.0000e+00,  9.1556e-05, -3.0519e-05,  ...,  9.1556e-05,\n            0.0000e+00,  0.0000e+00],\n          [-1.8311e-04,  1.8311e-04, -3.0519e-05,  ..., -6.1037e-05,\n            6.1037e-05,  3.0519e-05],\n          [ 1.8311e-04, -1.2207e-04,  6.1037e-05,  ...,  6.1037e-05,\n           -9.1556e-05,  6.1037e-05],\n          ...,\n          [-6.7141e-04,  1.2207e-04,  3.0519e-04,  ..., -3.0519e-05,\n           -3.0519e-05, -3.0519e-05],\n          [ 1.8311e-04,  0.0000e+00, -3.0519e-05,  ...,  9.1556e-05,\n           -3.0519e-05,  3.0519e-05],\n          [-3.0519e-05,  6.1037e-05, -1.2207e-04,  ...,  1.5259e-04,\n           -6.1037e-05,  3.0519e-05]]]),\n tensor([ 0.,  0.,  0.,  ..., 26., 26., 26.]))"
     },
     "execution_count": 3,
     "metadata": {},
     "output_type": "execute_result"
    }
   ],
   "source": [
    "cslten"
   ],
   "metadata": {
    "collapsed": false,
    "pycharm": {
     "name": "#%%\n"
    }
   }
  },
  {
   "cell_type": "code",
   "execution_count": 4,
   "outputs": [
    {
     "data": {
      "text/plain": "<Figure size 432x288 with 1 Axes>",
      "image/png": "[encoded data removed]"
     },
     "metadata": {
      "needs_background": "light"
     },
     "output_type": "display_data"
    }
   ],
   "source": [
    "plt.imshow(cslten[0][400], interpolation='nearest')\n",
    "plt.axis('off')\n",
    "plt.show()"
   ],
   "metadata": {
    "collapsed": false,
    "pycharm": {
     "name": "#%%\n"
    }
   }
  },
  {
   "cell_type": "code",
   "execution_count": 2,
   "outputs": [
    {
     "data": {
      "text/plain": "                                                    records  labels\n0         [[-6.103701895199438e-05, 9.155552842799158e-0...       0\n1         [[-3.051850947599719e-05, 6.103701895199438e-0...       0\n2         [[-0.00012207403790398877, 0.00012207403790398...       0\n3         [[-9.155552842799158e-05, 6.103701895199438e-0...       0\n4         [[0.0, 9.155552842799158e-05, -0.0002746665852...       0\n...                                                     ...     ...\n44531707  [[6.103701895199438e-05, 6.103701895199438e-05...      26\n44531708  [[0.0, 3.051850947599719e-05, 3.05185094759971...      26\n44531709  [[3.051850947599719e-05, 0.0, 0.0, 6.103701895...      26\n44531710  [[-6.103701895199438e-05, 6.103701895199438e-0...      26\n44531711  [[0.0, 9.155552842799158e-05, -3.0518509475997...      26\n\n[44531712 rows x 2 columns]",
      "text/html": "<div>\n<style scoped>\n    .dataframe tbody tr th:only-of-type {\n        vertical-align: middle;\n    }\n\n    .dataframe tbody tr th {\n        vertical-align: top;\n    }\n\n    .dataframe thead th {\n        text-align: right;\n    }\n</style>\n<table border=\"1\" class=\"dataframe\">\n  <thead>\n    <tr style=\"text-align: right;\">\n      <th></th>\n      <th>records</th>\n      <th>labels</th>\n    </tr>\n  </thead>\n  <tbody>\n    <tr>\n      <th>0</th>\n      <td>[[-6.103701895199438e-05, 9.155552842799158e-0...</td>\n      <td>0</td>\n    </tr>\n    <tr>\n      <th>1</th>\n      <td>[[-3.051850947599719e-05, 6.103701895199438e-0...</td>\n      <td>0</td>\n    </tr>\n    <tr>\n      <th>2</th>\n      <td>[[-0.00012207403790398877, 0.00012207403790398...</td>\n      <td>0</td>\n    </tr>\n    <tr>\n      <th>3</th>\n      <td>[[-9.155552842799158e-05, 6.103701895199438e-0...</td>\n      <td>0</td>\n    </tr>\n    <tr>\n      <th>4</th>\n      <td>[[0.0, 9.155552842799158e-05, -0.0002746665852...</td>\n      <td>0</td>\n    </tr>\n    <tr>\n      <th>...</th>\n      <td>...</td>\n      <td>...</td>\n    </tr>\n    <tr>\n      <th>44531707</th>\n      <td>[[6.103701895199438e-05, 6.103701895199438e-05...</td>\n      <td>26</td>\n    </tr>\n    <tr>\n      <th>44531708</th>\n      <td>[[0.0, 3.051850947599719e-05, 3.05185094759971...</td>\n      <td>26</td>\n    </tr>\n    <tr>\n      <th>44531709</th>\n      <td>[[3.051850947599719e-05, 0.0, 0.0, 6.103701895...</td>\n      <td>26</td>\n    </tr>\n    <tr>\n      <th>44531710</th>\n      <td>[[-6.103701895199438e-05, 6.103701895199438e-0...</td>\n      <td>26</td>\n    </tr>\n    <tr>\n      <th>44531711</th>\n      <td>[[0.0, 9.155552842799158e-05, -3.0518509475997...</td>\n      <td>26</td>\n    </tr>\n  </tbody>\n</table>\n<p>44531712 rows × 2 columns</p>\n</div>"
     },
     "execution_count": 2,
     "metadata": {},
     "output_type": "execute_result"
    }
   ],
   "source": [
    "data_frame_2 = get_csl_dataset()\n",
    "data_frame_2"
   ],
   "metadata": {
    "collapsed": false,
    "pycharm": {
     "name": "#%%\n"
    }
   }
  },
  {
   "cell_type": "code",
   "execution_count": 3,
   "outputs": [
    {
     "data": {
      "text/plain": "<Figure size 432x288 with 1 Axes>",
      "image/png": "[encoded data removed]"
     },
     "metadata": {
      "needs_background": "light"
     },
     "output_type": "display_data"
    }
   ],
   "source": [
    "plt.imshow(data_frame_2.records[400], interpolation='nearest')\n",
    "plt.axis('off')\n",
    "plt.show()"
   ],
   "metadata": {
    "collapsed": false,
    "pycharm": {
     "name": "#%%\n"
    }
   }
  },
  {
   "cell_type": "code",
   "execution_count": 4,
   "outputs": [
    {
     "data": {
      "text/plain": "                                                    records  labels\n0         [0.0684, 0.0024, 0.0024, 0.0024, 0.0024, 0.009...       0\n1         [0.0586, 0.0024, 0.0024, 0.0024, 0.0024, 0.004...       0\n2         [0.0562, 0.0024, 0.0024, 0.0024, 0.0024, 0.004...       0\n3         [0.0562, 0.0024, 0.0024, 0.0024, 0.0024, 0.004...       0\n4         [0.0488, 0.0024, 0.0024, 0.0024, 0.0024, 0.002...       0\n...                                                     ...     ...\n12553606  [0.7007, 0.0049, 0.0049, 0.0049, 0.0049, 0.004...       0\n12553607  [0.6567, 0.0024, 0.0049, 0.0049, 0.0049, 0.002...       0\n12553608  [0.6079, 0.0049, 0.0024, 0.0049, 0.0049, 0.002...       0\n12553609  [0.5908, 0.0049, 0.0024, 0.0049, 0.0024, 0.002...       0\n12553610  [0.5444, 0.0024, 0.0049, 0.0049, 0.0049, 0.002...       0\n\n[12553611 rows x 2 columns]",
      "text/html": "<div>\n<style scoped>\n    .dataframe tbody tr th:only-of-type {\n        vertical-align: middle;\n    }\n\n    .dataframe tbody tr th {\n        vertical-align: top;\n    }\n\n    .dataframe thead th {\n        text-align: right;\n    }\n</style>\n<table border=\"1\" class=\"dataframe\">\n  <thead>\n    <tr style=\"text-align: right;\">\n      <th></th>\n      <th>records</th>\n      <th>labels</th>\n    </tr>\n  </thead>\n  <tbody>\n    <tr>\n      <th>0</th>\n      <td>[0.0684, 0.0024, 0.0024, 0.0024, 0.0024, 0.009...</td>\n      <td>0</td>\n    </tr>\n    <tr>\n      <th>1</th>\n      <td>[0.0586, 0.0024, 0.0024, 0.0024, 0.0024, 0.004...</td>\n      <td>0</td>\n    </tr>\n    <tr>\n      <th>2</th>\n      <td>[0.0562, 0.0024, 0.0024, 0.0024, 0.0024, 0.004...</td>\n      <td>0</td>\n    </tr>\n    <tr>\n      <th>3</th>\n      <td>[0.0562, 0.0024, 0.0024, 0.0024, 0.0024, 0.004...</td>\n      <td>0</td>\n    </tr>\n    <tr>\n      <th>4</th>\n      <td>[0.0488, 0.0024, 0.0024, 0.0024, 0.0024, 0.002...</td>\n      <td>0</td>\n    </tr>\n    <tr>\n      <th>...</th>\n      <td>...</td>\n      <td>...</td>\n    </tr>\n    <tr>\n      <th>12553606</th>\n      <td>[0.7007, 0.0049, 0.0049, 0.0049, 0.0049, 0.004...</td>\n      <td>0</td>\n    </tr>\n    <tr>\n      <th>12553607</th>\n      <td>[0.6567, 0.0024, 0.0049, 0.0049, 0.0049, 0.002...</td>\n      <td>0</td>\n    </tr>\n    <tr>\n      <th>12553608</th>\n      <td>[0.6079, 0.0049, 0.0024, 0.0049, 0.0049, 0.002...</td>\n      <td>0</td>\n    </tr>\n    <tr>\n      <th>12553609</th>\n      <td>[0.5908, 0.0049, 0.0024, 0.0049, 0.0024, 0.002...</td>\n      <td>0</td>\n    </tr>\n    <tr>\n      <th>12553610</th>\n      <td>[0.5444, 0.0024, 0.0049, 0.0049, 0.0049, 0.002...</td>\n      <td>0</td>\n    </tr>\n  </tbody>\n</table>\n<p>12553611 rows × 2 columns</p>\n</div>"
     },
     "execution_count": 4,
     "metadata": {},
     "output_type": "execute_result"
    }
   ],
   "source": [
    "data_frame_3 = get_ninapro_dataset()\n",
    "data_frame_3"
   ],
   "metadata": {
    "collapsed": false,
    "pycharm": {
     "name": "#%%\n"
    }
   }
  },
  {
   "cell_type": "code",
   "execution_count": 7,
   "outputs": [
    {
     "data": {
      "text/plain": "<Figure size 432x288 with 1 Axes>",
      "image/png": "[encoded data removed]"
     },
     "metadata": {
      "needs_background": "light"
     },
     "output_type": "display_data"
    }
   ],
   "source": [
    "plt.imshow(data_frame_3.records[1].reshape(10,-1), interpolation='nearest')\n",
    "plt.axis('off')\n",
    "plt.show()"
   ],
   "metadata": {
    "collapsed": false,
    "pycharm": {
     "name": "#%%\n"
    }
   }
  },
  {
   "cell_type": "code",
   "execution_count": null,
   "outputs": [],
   "source": [],
   "metadata": {
    "collapsed": false,
    "pycharm": {
     "name": "#%%\n"
    }
   }
  }
 ],
 "metadata": {
  "kernelspec": {
   "display_name": "Python 3",
   "language": "python",
   "name": "python3"
  },
  "language_info": {
   "codemirror_mode": {
    "name": "ipython",
    "version": 2
   },
   "file_extension": ".py",
   "mimetype": "text/x-python",
   "name": "python",
   "nbconvert_exporter": "python",
   "pygments_lexer": "ipython2",
   "version": "2.7.6"
  }
 },
 "nbformat": 4,
 "nbformat_minor": 0
}