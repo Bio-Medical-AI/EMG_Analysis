{
 "cells": [
  {
   "cell_type": "code",
   "execution_count": 1,
   "metadata": {
    "collapsed": true,
    "pycharm": {
     "name": "#%%\n"
    }
   },
   "outputs": [
    {
     "name": "stderr",
     "output_type": "stream",
     "text": [
      "C:\\Users\\mateu\\anaconda3\\envs\\emg_2\\lib\\site-packages\\xgboost\\compat.py:36: FutureWarning: pandas.Int64Index is deprecated and will be removed from pandas in a future version. Use pandas.Index with the appropriate dtype instead.\n",
      "  from pandas import MultiIndex, Int64Index\n"
     ]
    }
   ],
   "source": [
    "from datasets.stored_dataframe import CapgMyoDataModule, MyoArmbandDataModule, NinaProDataModule\n",
    "from models import Classifier, OriginalModel\n",
    "import pytorch_lightning as pl\n",
    "from pytorch_lightning.loggers import WandbLogger\n",
    "import torch\n",
    "from pytorch_lightning.callbacks.early_stopping import EarlyStopping\n",
    "from torchvision.transforms import Compose, ToTensor, Normalize\n",
    "from models import LightningXGBClassifier\n",
    "import os\n",
    "from definitions import MODELS_FOLDER, ROOT_DIR\n",
    "import warnings\n",
    "warnings.simplefilter(action='ignore', category=FutureWarning)"
   ]
  },
  {
   "cell_type": "markdown",
   "source": [
    "## Chinese Experiment"
   ],
   "metadata": {
    "collapsed": false,
    "pycharm": {
     "name": "#%% md\n"
    }
   }
  },
  {
   "cell_type": "code",
   "execution_count": 2,
   "outputs": [
    {
     "name": "stderr",
     "output_type": "stream",
     "text": [
      "Global seed set to 42\n"
     ]
    },
    {
     "ename": "KeyError",
     "evalue": "'width'",
     "output_type": "error",
     "traceback": [
      "\u001B[1;31m---------------------------------------------------------------------------\u001B[0m",
      "\u001B[1;31mKeyError\u001B[0m                                  Traceback (most recent call last)",
      "Input \u001B[1;32mIn [2]\u001B[0m, in \u001B[0;36m<cell line: 7>\u001B[1;34m()\u001B[0m\n\u001B[0;32m      3\u001B[0m data_module_capgmyo \u001B[38;5;241m=\u001B[39m CapgMyoDataModule(\n\u001B[0;32m      4\u001B[0m     batch_size\u001B[38;5;241m=\u001B[39m\u001B[38;5;241m1000\u001B[39m\n\u001B[0;32m      5\u001B[0m )\n\u001B[0;32m      6\u001B[0m parameters \u001B[38;5;241m=\u001B[39m data_module_capgmyo\u001B[38;5;241m.\u001B[39mget_data_parameters()\n\u001B[1;32m----> 7\u001B[0m model_capgmyo_chinese \u001B[38;5;241m=\u001B[39m OriginalModel(parameters[\u001B[38;5;124m'\u001B[39m\u001B[38;5;124mnum_classes\u001B[39m\u001B[38;5;124m'\u001B[39m], \u001B[43mparameters\u001B[49m\u001B[43m[\u001B[49m\u001B[38;5;124;43m'\u001B[39;49m\u001B[38;5;124;43mwidth\u001B[39;49m\u001B[38;5;124;43m'\u001B[39;49m\u001B[43m]\u001B[49m, parameters[\u001B[38;5;124m'\u001B[39m\u001B[38;5;124mheight\u001B[39m\u001B[38;5;124m'\u001B[39m])\n\u001B[0;32m      8\u001B[0m lr_scheduler \u001B[38;5;241m=\u001B[39m torch\u001B[38;5;241m.\u001B[39moptim\u001B[38;5;241m.\u001B[39mlr_scheduler\u001B[38;5;241m.\u001B[39mLambdaLR\n\u001B[0;32m      9\u001B[0m optimizer \u001B[38;5;241m=\u001B[39m torch\u001B[38;5;241m.\u001B[39moptim\u001B[38;5;241m.\u001B[39mRAdam\n",
      "\u001B[1;31mKeyError\u001B[0m: 'width'"
     ]
    }
   ],
   "source": [
    "pl.seed_everything(42, workers=True)\n",
    "lr_lambda=lambda epoch: 1 if epoch<16 else 0.1 if epoch<24 else 0.01\n",
    "data_module_capgmyo = CapgMyoDataModule(\n",
    "    batch_size=1000\n",
    ")\n",
    "parameters = data_module_capgmyo.get_data_parameters()\n",
    "model_capgmyo_chinese = OriginalModel(parameters['num_classes'], parameters['input_width'], parameters['input_height'])\n",
    "lr_scheduler = torch.optim.lr_scheduler.LambdaLR\n",
    "optimizer = torch.optim.RAdam\n",
    "classifier = Classifier(model_capgmyo_chinese, optimizer=optimizer, lr_scheduler=lr_scheduler, optim_kwargs={'lr': 0.001, 'weight_decay': 0.0001}, monitor='val_accuracy', lr_lambda=lr_lambda)\n",
    "logger_capgmyo_chinese = WandbLogger(project=\"EMG Armband\", name=\"Chinese CapgMyo\")\n",
    "trainer_capgmyo_chinese = pl.Trainer(gpus=-1, max_epochs=28, logger=logger_capgmyo_chinese, accelerator=\"gpu\")"
   ],
   "metadata": {
    "collapsed": false,
    "pycharm": {
     "name": "#%%\n"
    }
   }
  },
  {
   "cell_type": "code",
   "execution_count": null,
   "outputs": [],
   "source": [
    "trainer_capgmyo_chinese.fit(model=classifier, datamodule=data_module_capgmyo)"
   ],
   "metadata": {
    "collapsed": false,
    "pycharm": {
     "name": "#%%\n"
    }
   }
  },
  {
   "cell_type": "code",
   "execution_count": null,
   "outputs": [],
   "source": [
    "trainer_capgmyo_chinese.test(model=classifier, datamodule=data_module_capgmyo)"
   ],
   "metadata": {
    "collapsed": false,
    "pycharm": {
     "name": "#%%\n"
    }
   }
  },
  {
   "cell_type": "code",
   "execution_count": null,
   "outputs": [],
   "source": [
    "torch.save(model_capgmyo_chinese.state_dict(), os.path.join(MODELS_FOLDER, 'chinese_capgmyo.pt'))"
   ],
   "metadata": {
    "collapsed": false,
    "pycharm": {
     "name": "#%%\n"
    }
   }
  },
  {
   "cell_type": "markdown",
   "source": [
    "## CapgMyo Experiment"
   ],
   "metadata": {
    "collapsed": false,
    "pycharm": {
     "name": "#%% md\n"
    }
   }
  },
  {
   "cell_type": "code",
   "execution_count": null,
   "outputs": [],
   "source": [
    "pl.seed_everything(42, workers=True)\n",
    "data_module_capgmyo = CapgMyoDataModule(\n",
    "    batch_size=1000\n",
    ")\n",
    "parameters = data_module_capgmyo.get_data_parameters()\n",
    "model_capgmyo = OriginalModel(parameters['num_classes'], parameters['input_width'], parameters['input_height'])\n",
    "classifier = Classifier(model_capgmyo, optim_kwargs={'lr': 0.001, 'weight_decay': 0.0001},\n",
    "                        monitor='val_accuracy', sched_kwargs={'patience': 4, 'mode': 'max'})\n",
    "logger_capgmyo = WandbLogger(project=\"EMG Armband\", name=\"CapgMyo\")\n",
    "early_stop_callback = EarlyStopping(monitor='val_accuracy', patience=7, mode='max')\n",
    "trainer_capgmyo = pl.Trainer(gpus=-1, max_epochs=100, logger=logger_capgmyo, accelerator=\"gpu\", callbacks=[early_stop_callback])"
   ],
   "metadata": {
    "collapsed": false,
    "pycharm": {
     "name": "#%%\n"
    }
   }
  },
  {
   "cell_type": "code",
   "execution_count": null,
   "outputs": [],
   "source": [
    "trainer_capgmyo.fit(model=classifier, datamodule=data_module_capgmyo)"
   ],
   "metadata": {
    "collapsed": false,
    "pycharm": {
     "name": "#%%\n"
    }
   }
  },
  {
   "cell_type": "code",
   "execution_count": null,
   "outputs": [],
   "source": [
    "trainer_capgmyo.test(model=classifier, datamodule=data_module_capgmyo)"
   ],
   "metadata": {
    "collapsed": false,
    "pycharm": {
     "name": "#%%\n"
    }
   }
  },
  {
   "cell_type": "code",
   "execution_count": null,
   "outputs": [],
   "source": [
    "torch.save(model_capgmyo_chinese.state_dict(), os.path.join(MODELS_FOLDER, 'capgmyo.pt'))"
   ],
   "metadata": {
    "collapsed": false,
    "pycharm": {
     "name": "#%%\n"
    }
   }
  },
  {
   "cell_type": "markdown",
   "source": [
    "## Ninapro Experiment"
   ],
   "metadata": {
    "collapsed": false,
    "pycharm": {
     "name": "#%% md\n"
    }
   }
  },
  {
   "cell_type": "code",
   "execution_count": null,
   "outputs": [],
   "source": [
    "pl.seed_everything(42, workers=True)\n",
    "data_module_ninapro = NinaProDataModule(\n",
    "    batch_size=1000\n",
    ")\n",
    "parameters = data_module_ninapro.get_data_parameters()\n",
    "model_ninapro = OriginalModel(parameters['num_classes'], parameters['input_width'], parameters['input_height'])\n",
    "classifier = Classifier(model_ninapro, optim_kwargs={'lr': 0.001, 'weight_decay': 0.0001},\n",
    "                        monitor='val_accuracy', sched_kwargs={'patience': 4, 'mode': 'max'})\n",
    "logger_ninapro = WandbLogger(project=\"EMG Armband\", name=\"NinaPro\")\n",
    "early_stop_callback = EarlyStopping(monitor='val_accuracy', patience=7, mode='max')\n",
    "trainer_ninapro = pl.Trainer(gpus=-1, max_epochs=100, logger=logger_ninapro, accelerator=\"gpu\", callbacks=[early_stop_callback])"
   ],
   "metadata": {
    "collapsed": false,
    "pycharm": {
     "name": "#%%\n"
    }
   }
  },
  {
   "cell_type": "code",
   "execution_count": null,
   "outputs": [],
   "source": [
    "trainer_ninapro.fit(model=classifier, datamodule=data_module_ninapro)"
   ],
   "metadata": {
    "collapsed": false,
    "pycharm": {
     "name": "#%%\n"
    }
   }
  },
  {
   "cell_type": "code",
   "execution_count": null,
   "outputs": [],
   "source": [
    "trainer_ninapro.test(model=classifier, datamodule=data_module_ninapro)"
   ],
   "metadata": {
    "collapsed": false,
    "pycharm": {
     "name": "#%%\n"
    }
   }
  },
  {
   "cell_type": "code",
   "execution_count": null,
   "outputs": [],
   "source": [
    "torch.save(model_capgmyo_chinese.state_dict(), os.path.join(MODELS_FOLDER, 'ninapro.pt'))"
   ],
   "metadata": {
    "collapsed": false,
    "pycharm": {
     "name": "#%%\n"
    }
   }
  },
  {
   "cell_type": "markdown",
   "source": [
    "## MyoArmband Experiment"
   ],
   "metadata": {
    "collapsed": false,
    "pycharm": {
     "name": "#%% md\n"
    }
   }
  },
  {
   "cell_type": "code",
   "execution_count": null,
   "outputs": [],
   "source": [
    "pl.seed_everything(42, workers=True)\n",
    "transform = Compose([\n",
    "    ToTensor(),\n",
    "    Normalize(0, 1)\n",
    "])\n",
    "data_module_myoarmband = MyoArmbandDataModule(\n",
    "    batch_size=10000,\n",
    "    num_workers=8,\n",
    "    train_transforms=transform,\n",
    "    val_transforms=transform,\n",
    "    test_transforms=transform,\n",
    ")\n",
    "parameters = data_module_myoarmband.get_data_parameters()\n",
    "model_myoarmband = OriginalModel(parameters['num_classes'], parameters['input_width'], parameters['input_height'])\n",
    "classifier = Classifier(model_myoarmband, optim_kwargs={'lr': 0.001, 'weight_decay': 0.0001},\n",
    "                        monitor='val_accuracy', sched_kwargs={'patience': 4, 'mode': 'max'})\n",
    "logger_myoarmband = WandbLogger(project=\"EMG Armband\", name=\"MyoArmband\")\n",
    "early_stop_callback = EarlyStopping(monitor='val_accuracy', patience=7, mode='max')\n",
    "trainer_myoarmband = pl.Trainer(gpus=-1, max_epochs=100, logger=logger_myoarmband, accelerator=\"gpu\",\n",
    "                                callbacks=[early_stop_callback])"
   ],
   "metadata": {
    "collapsed": false,
    "pycharm": {
     "name": "#%%\n"
    }
   }
  },
  {
   "cell_type": "code",
   "execution_count": null,
   "outputs": [],
   "source": [
    "trainer_myoarmband.fit(model=classifier, datamodule=data_module_myoarmband)"
   ],
   "metadata": {
    "collapsed": false,
    "pycharm": {
     "name": "#%%\n"
    }
   }
  },
  {
   "cell_type": "code",
   "execution_count": null,
   "outputs": [],
   "source": [
    "trainer_myoarmband.test(model=classifier, datamodule=data_module_myoarmband)"
   ],
   "metadata": {
    "collapsed": false,
    "pycharm": {
     "name": "#%%\n"
    }
   }
  },
  {
   "cell_type": "code",
   "execution_count": null,
   "outputs": [],
   "source": [
    "torch.save(model_capgmyo_chinese.state_dict(), os.path.join(MODELS_FOLDER, 'myoarmband.pt'))"
   ],
   "metadata": {
    "collapsed": false,
    "pycharm": {
     "name": "#%%\n"
    }
   }
  },
  {
   "cell_type": "markdown",
   "source": [
    "## XGB Experiments"
   ],
   "metadata": {
    "collapsed": false,
    "pycharm": {
     "name": "#%% md\n"
    }
   }
  },
  {
   "cell_type": "markdown",
   "source": [
    "#### XGB CapgMyo"
   ],
   "metadata": {
    "collapsed": false,
    "pycharm": {
     "name": "#%% md\n"
    }
   }
  },
  {
   "cell_type": "code",
   "execution_count": null,
   "outputs": [],
   "source": [
    "logger_xgb_capgmyo = WandbLogger(project=\"EMG Armband\", name=\"CapgMyoXGB\")\n",
    "adjusted_model = model_capgmyo\n",
    "adjusted_model.model = adjusted_model.model[0:26]\n",
    "data_module_xgb = CapgMyoDataModule(\n",
    "    batch_size=1000,\n",
    "    num_workers=3\n",
    ")\n",
    "xgb_classifier = LightningXGBClassifier(adjusted_model, data_module_xgb.num_classes, monitor='val_accuracy')\n",
    "trainer_xgb = pl.Trainer(max_epochs=2, accelerator=\"cpu\", logger=logger_xgb_capgmyo, num_sanity_val_steps=0)"
   ],
   "metadata": {
    "collapsed": false,
    "pycharm": {
     "name": "#%%\n"
    }
   }
  },
  {
   "cell_type": "code",
   "execution_count": null,
   "outputs": [],
   "source": [
    "trainer_xgb.fit(model=xgb_classifier, datamodule=data_module_xgb)"
   ],
   "metadata": {
    "collapsed": false,
    "pycharm": {
     "name": "#%%\n"
    }
   }
  },
  {
   "cell_type": "code",
   "execution_count": null,
   "outputs": [],
   "source": [
    "trainer_xgb.test(model=xgb_classifier, datamodule=data_module_xgb)"
   ],
   "metadata": {
    "collapsed": false,
    "pycharm": {
     "name": "#%%\n"
    }
   }
  },
  {
   "cell_type": "code",
   "execution_count": null,
   "outputs": [],
   "source": [
    "xgb_classifier.xgbmodel.save_model(os.path.join(MODELS_FOLDER, \"xgb_capgmyo.json\"))"
   ],
   "metadata": {
    "collapsed": false,
    "pycharm": {
     "name": "#%%\n"
    }
   }
  },
  {
   "cell_type": "markdown",
   "source": [
    "#### XGB Ninapro"
   ],
   "metadata": {
    "collapsed": false,
    "pycharm": {
     "name": "#%% md\n"
    }
   }
  },
  {
   "cell_type": "code",
   "execution_count": null,
   "outputs": [],
   "source": [
    "logger_xgb_ninapro = WandbLogger(project=\"EMG Armband\", name=\"NinaproXGB\")\n",
    "adjusted_model = model_ninapro\n",
    "adjusted_model.model = adjusted_model.model[0:26]\n",
    "data_module_xgb = NinaProDataModule(\n",
    "    batch_size=1000,\n",
    "    num_workers=3\n",
    ")\n",
    "xgb_classifier = LightningXGBClassifier(adjusted_model, data_module_xgb.num_classes)\n",
    "trainer_xgb = pl.Trainer(max_epochs=2, accelerator=\"cpu\", logger=logger_xgb_ninapro, num_sanity_val_steps=0)"
   ],
   "metadata": {
    "collapsed": false,
    "pycharm": {
     "name": "#%%\n"
    }
   }
  },
  {
   "cell_type": "code",
   "execution_count": null,
   "outputs": [],
   "source": [
    "trainer_xgb.fit(model=xgb_classifier, datamodule=data_module_xgb)"
   ],
   "metadata": {
    "collapsed": false,
    "pycharm": {
     "name": "#%%\n"
    }
   }
  },
  {
   "cell_type": "code",
   "execution_count": null,
   "outputs": [],
   "source": [
    "trainer_xgb.test(model=xgb_classifier, datamodule=data_module_xgb)"
   ],
   "metadata": {
    "collapsed": false,
    "pycharm": {
     "name": "#%%\n"
    }
   }
  },
  {
   "cell_type": "code",
   "execution_count": null,
   "outputs": [],
   "source": [
    "xgb_classifier.xgbmodel.save_model(os.path.join(MODELS_FOLDER, \"xgb_ninapro.json\"))"
   ],
   "metadata": {
    "collapsed": false,
    "pycharm": {
     "name": "#%%\n"
    }
   }
  },
  {
   "cell_type": "markdown",
   "source": [
    "#### XGB MyoArmband"
   ],
   "metadata": {
    "collapsed": false,
    "pycharm": {
     "name": "#%% md\n"
    }
   }
  },
  {
   "cell_type": "code",
   "execution_count": null,
   "outputs": [],
   "source": [
    "logger_xgb_myoarmband = WandbLogger(project=\"EMG Armband\", name=\"MyoArmbandXGB\")\n",
    "adjusted_model = model_myoarmband\n",
    "adjusted_model.model = adjusted_model.model[0:26]\n",
    "data_module_xgb = MyoArmbandDataModule(\n",
    "    batch_size=1000,\n",
    "    num_workers=3\n",
    ")\n",
    "xgb_classifier = LightningXGBClassifier(adjusted_model, data_module_xgb.num_classes)\n",
    "trainer_xgb = pl.Trainer(max_epochs=2, accelerator=\"cpu\", logger=logger_xgb_myoarmband, num_sanity_val_steps=0)"
   ],
   "metadata": {
    "collapsed": false,
    "pycharm": {
     "name": "#%%\n"
    }
   }
  },
  {
   "cell_type": "code",
   "execution_count": null,
   "outputs": [],
   "source": [
    "trainer_xgb.fit(model=xgb_classifier, datamodule=data_module_xgb)"
   ],
   "metadata": {
    "collapsed": false,
    "pycharm": {
     "name": "#%%\n"
    }
   }
  },
  {
   "cell_type": "code",
   "execution_count": null,
   "outputs": [],
   "source": [
    "trainer_xgb.test(model=xgb_classifier, datamodule=data_module_xgb)"
   ],
   "metadata": {
    "collapsed": false,
    "pycharm": {
     "name": "#%%\n"
    }
   }
  },
  {
   "cell_type": "code",
   "execution_count": null,
   "outputs": [],
   "source": [
    "xgb_classifier.xgbmodel.save_model(os.path.join(MODELS_FOLDER, \"xgb_myoarmband.json\"))"
   ],
   "metadata": {
    "collapsed": false,
    "pycharm": {
     "name": "#%%\n"
    }
   }
  }
 ],
 "metadata": {
  "kernelspec": {
   "display_name": "Python 3",
   "language": "python",
   "name": "python3"
  },
  "language_info": {
   "codemirror_mode": {
    "name": "ipython",
    "version": 2
   },
   "file_extension": ".py",
   "mimetype": "text/x-python",
   "name": "python",
   "nbconvert_exporter": "python",
   "pygments_lexer": "ipython2",
   "version": "2.7.6"
  }
 },
 "nbformat": 4,
 "nbformat_minor": 0
}