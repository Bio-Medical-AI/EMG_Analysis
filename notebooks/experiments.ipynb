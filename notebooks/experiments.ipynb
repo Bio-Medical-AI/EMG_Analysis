{
 "cells": [
  {
   "cell_type": "code",
   "execution_count": 6,
   "metadata": {
    "collapsed": true,
    "pycharm": {
     "name": "#%%\n"
    }
   },
   "outputs": [],
   "source": [
    "from datasets.stored_dataframe import CapgMyoDataModule, MyoArmbandDataModule, NinaProDataModule\n",
    "from models import Classifier, OriginalModel\n",
    "import pytorch_lightning as pl\n",
    "from pytorch_lightning.loggers import WandbLogger\n",
    "import torch\n",
    "from pytorch_lightning.callbacks.early_stopping import EarlyStopping\n",
    "from torchvision.transforms import Compose, ToTensor, Normalize\n",
    "from models import LightningXGBClassifier\n",
    "import os\n",
    "from definitions import MODELS_FOLDER, ROOT_DIR\n",
    "import warnings\n",
    "warnings.simplefilter(action='ignore', category=FutureWarning)"
   ]
  },
  {
   "cell_type": "markdown",
   "source": [
    "## Chinese Experiment"
   ],
   "metadata": {
    "collapsed": false,
    "pycharm": {
     "name": "#%% md\n"
    }
   }
  },
  {
   "cell_type": "code",
   "execution_count": 14,
   "outputs": [
    {
     "name": "stderr",
     "output_type": "stream",
     "text": [
      "Global seed set to 42\n",
      "C:\\Users\\mateu\\anaconda3\\envs\\emg_2\\lib\\site-packages\\pytorch_lightning\\loggers\\wandb.py:352: UserWarning: There is a wandb run already in progress and newly created instances of `WandbLogger` will reuse this run. If this is not desired, call `wandb.finish()` before instantiating `WandbLogger`.\n",
      "  rank_zero_warn(\n",
      "C:\\Users\\mateu\\anaconda3\\envs\\emg_2\\lib\\site-packages\\pytorch_lightning\\trainer\\connectors\\accelerator_connector.py:446: LightningDeprecationWarning: Setting `Trainer(gpus=-1)` is deprecated in v1.7 and will be removed in v2.0. Please use `Trainer(accelerator='gpu', devices=-1)` instead.\n",
      "  rank_zero_deprecation(\n",
      "GPU available: True (cuda), used: True\n",
      "TPU available: False, using: 0 TPU cores\n",
      "IPU available: False, using: 0 IPUs\n",
      "HPU available: False, using: 0 HPUs\n"
     ]
    }
   ],
   "source": [
    "pl.seed_everything(42, workers=True)\n",
    "lr_lambda=lambda epoch: 1 if epoch<16 else 0.1 if epoch<24 else 0.01\n",
    "model_capgmyo_chinese = OriginalModel(8, 16, 8)\n",
    "lr_scheduler = torch.optim.lr_scheduler.LambdaLR\n",
    "optimizer = torch.optim.RAdam\n",
    "classifier = Classifier(model_capgmyo_chinese, optimizer=optimizer, lr_scheduler=lr_scheduler, optim_kwargs={'lr': 0.001, 'weight_decay': 0.0001}, monitor='val_accuracy', lr_lambda=lr_lambda)\n",
    "logger_capgmyo_chinese = WandbLogger(project=\"EMG Armband\", name=\"Chinese CapgMyo\")\n",
    "data_module_capgmyo = CapgMyoDataModule(\n",
    "    batch_size=1000\n",
    ")\n",
    "trainer_capgmyo_chinese = pl.Trainer(gpus=-1, max_epochs=28, logger=logger_capgmyo_chinese, accelerator=\"gpu\")"
   ],
   "metadata": {
    "collapsed": false,
    "pycharm": {
     "name": "#%%\n"
    }
   }
  },
  {
   "cell_type": "code",
   "execution_count": 15,
   "outputs": [
    {
     "name": "stderr",
     "output_type": "stream",
     "text": [
      "C:\\Users\\mateu\\anaconda3\\envs\\emg_2\\lib\\site-packages\\pytorch_lightning\\callbacks\\model_checkpoint.py:616: UserWarning: Checkpoint directory C:\\Science\\EMG_Analysis\\notebooks\\EMG Armband\\u4pv5glx\\checkpoints exists and is not empty.\n",
      "  rank_zero_warn(f\"Checkpoint directory {dirpath} exists and is not empty.\")\n",
      "LOCAL_RANK: 0 - CUDA_VISIBLE_DEVICES: [0]\n",
      "\n",
      "  | Name      | Type             | Params\n",
      "-----------------------------------------------\n",
      "0 | model     | OriginalModel    | 4.6 M \n",
      "1 | criterion | CrossEntropyLoss | 0     \n",
      "-----------------------------------------------\n",
      "4.6 M     Trainable params\n",
      "0         Non-trainable params\n",
      "4.6 M     Total params\n",
      "18.291    Total estimated model params size (MB)\n"
     ]
    },
    {
     "data": {
      "text/plain": "Sanity Checking: 0it [00:00, ?it/s]",
      "application/vnd.jupyter.widget-view+json": {
       "version_major": 2,
       "version_minor": 0,
       "model_id": "67b276e594d04f4d82aa5f23c2cdef3f"
      }
     },
     "metadata": {},
     "output_type": "display_data"
    },
    {
     "name": "stderr",
     "output_type": "stream",
     "text": [
      "C:\\Users\\mateu\\anaconda3\\envs\\emg_2\\lib\\site-packages\\pytorch_lightning\\trainer\\trainer.py:653: UserWarning: Detected KeyboardInterrupt, attempting graceful shutdown...\n",
      "  rank_zero_warn(\"Detected KeyboardInterrupt, attempting graceful shutdown...\")\n"
     ]
    }
   ],
   "source": [
    "trainer_capgmyo_chinese.fit(model=classifier, datamodule=data_module_capgmyo)"
   ],
   "metadata": {
    "collapsed": false,
    "pycharm": {
     "name": "#%%\n"
    }
   }
  },
  {
   "cell_type": "code",
   "execution_count": null,
   "outputs": [
    {
     "name": "stderr",
     "output_type": "stream",
     "text": [
      "Exception in thread NetStatThr:\n",
      "Traceback (most recent call last):\n",
      "  File \"C:\\Users\\mateu\\anaconda3\\envs\\emg_2\\lib\\threading.py\", line 1009, in _bootstrap_inner\n",
      "    self.run()\n",
      "  File \"C:\\Users\\mateu\\anaconda3\\envs\\emg_2\\lib\\threading.py\", line 946, in run\n",
      "    self._target(*self._args, **self._kwargs)\n",
      "  File \"C:\\Users\\mateu\\anaconda3\\envs\\emg_2\\lib\\site-packages\\wandb\\sdk\\wandb_run.py\", line 185, in check_network_status\n",
      "    status_response = self._interface.communicate_network_status()\n",
      "  File \"C:\\Users\\mateu\\anaconda3\\envs\\emg_2\\lib\\site-packages\\wandb\\sdk\\interface\\interface.py\", line 138, in communicate_network_status\n",
      "    resp = self._communicate_network_status(status)\n",
      "  File \"C:\\Users\\mateu\\anaconda3\\envs\\emg_2\\lib\\site-packages\\wandb\\sdk\\interface\\interface_sock.py\", line 82, in _communicate_network_status\n",
      "    data = super()._communicate_network_status(status)\n",
      "  File \"C:\\Users\\mateu\\anaconda3\\envs\\emg_2\\lib\\site-packages\\wandb\\sdk\\interface\\interface_shared.py\", line 410, in _communicate_network_status\n",
      "    resp = self._communicate(req, local=True)\n",
      "  File \"C:\\Users\\mateu\\anaconda3\\envs\\emg_2\\lib\\site-packages\\wandb\\sdk\\interface\\interface_shared.py\", line 231, in _communicate\n",
      "    return self._communicate_async(rec, local=local).get(timeout=timeout)\n",
      "  File \"C:\\Users\\mateu\\anaconda3\\envs\\emg_2\\lib\\site-packages\\wandb\\sdk\\interface\\interface_sock.py\", line 58, in _communicate_async\n",
      "    future = self._router.send_and_receive(rec, local=local)\n",
      "  File \"C:\\Users\\mateu\\anaconda3\\envs\\emg_2\\lib\\site-packages\\wandb\\sdk\\interface\\router.py\", line 93, in send_and_receive\n",
      "    self._send_message(rec)\n",
      "  File \"C:\\Users\\mateu\\anaconda3\\envs\\emg_2\\lib\\site-packages\\wandb\\sdk\\interface\\router_sock.py\", line 35, in _send_message\n",
      "    self._sock_client.send_record_communicate(record)\n",
      "  File \"C:\\Users\\mateu\\anaconda3\\envs\\emg_2\\lib\\site-packages\\wandb\\sdk\\lib\\sock_client.py\", line 145, in send_record_communicate\n",
      "    self.send_server_request(server_req)\n",
      "  File \"C:\\Users\\mateu\\anaconda3\\envs\\emg_2\\lib\\site-packages\\wandb\\sdk\\lib\\sock_client.py\", line 84, in send_server_request\n",
      "    self._send_message(msg)\n",
      "  File \"C:\\Users\\mateu\\anaconda3\\envs\\emg_2\\lib\\site-packages\\wandb\\sdk\\lib\\sock_client.py\", line 81, in _send_message\n",
      "    self._sendall_with_error_handle(header + data)\n",
      "  File \"C:\\Users\\mateu\\anaconda3\\envs\\emg_2\\lib\\site-packages\\wandb\\sdk\\lib\\sock_client.py\", line 61, in _sendall_with_error_handle\n",
      "    sent = self._sock.send(data[total_sent:])\n",
      "ConnectionResetError: [WinError 10054] Istniejące połączenie zostało gwałtownie zamknięte przez zdalnego hosta\n"
     ]
    }
   ],
   "source": [
    "trainer_capgmyo_chinese.test(model=classifier, datamodule=data_module_capgmyo)"
   ],
   "metadata": {
    "collapsed": false,
    "pycharm": {
     "name": "#%%\n",
     "is_executing": true
    }
   }
  },
  {
   "cell_type": "code",
   "execution_count": 10,
   "outputs": [],
   "source": [
    "torch.save(model_capgmyo_chinese.state_dict(), os.path.join(MODELS_FOLDER, 'chinese_capgmyo.pt'))"
   ],
   "metadata": {
    "collapsed": false,
    "pycharm": {
     "name": "#%%\n"
    }
   }
  },
  {
   "cell_type": "markdown",
   "source": [
    "## CapgMyo Experiment"
   ],
   "metadata": {
    "collapsed": false,
    "pycharm": {
     "name": "#%% md\n"
    }
   }
  },
  {
   "cell_type": "code",
   "execution_count": null,
   "outputs": [],
   "source": [
    "pl.seed_everything(42, workers=True)\n",
    "model_capgmyo = OriginalModel(8, 16, 8)\n",
    "classifier = Classifier(model_capgmyo, optim_kwargs={'lr': 0.001, 'weight_decay': 0.0001},\n",
    "                        monitor='val_accuracy', sched_kwargs={'patience': 4, 'mode': 'max'})\n",
    "logger_capgmyo = WandbLogger(project=\"EMG Armband\", name=\"CapgMyo\")\n",
    "data_module_capgmyo = CapgMyoDataModule(\n",
    "    batch_size=1000\n",
    ")\n",
    "early_stop_callback = EarlyStopping(monitor='val_accuracy', patience=7, mode='max')\n",
    "trainer_capgmyo = pl.Trainer(gpus=-1, max_epochs=100, logger=logger_capgmyo, accelerator=\"gpu\", callbacks=[early_stop_callback])"
   ],
   "metadata": {
    "collapsed": false,
    "pycharm": {
     "name": "#%%\n"
    }
   }
  },
  {
   "cell_type": "code",
   "execution_count": null,
   "outputs": [],
   "source": [
    "trainer_capgmyo.fit(model=classifier, datamodule=data_module_capgmyo)"
   ],
   "metadata": {
    "collapsed": false,
    "pycharm": {
     "name": "#%%\n"
    }
   }
  },
  {
   "cell_type": "code",
   "execution_count": null,
   "outputs": [],
   "source": [
    "trainer_capgmyo.test(model=classifier, datamodule=data_module_capgmyo)"
   ],
   "metadata": {
    "collapsed": false,
    "pycharm": {
     "name": "#%%\n"
    }
   }
  },
  {
   "cell_type": "code",
   "execution_count": null,
   "outputs": [],
   "source": [
    "torch.save(model_capgmyo_chinese.state_dict(), os.path.join(MODELS_FOLDER, 'capgmyo.pt'))"
   ],
   "metadata": {
    "collapsed": false,
    "pycharm": {
     "name": "#%%\n"
    }
   }
  },
  {
   "cell_type": "markdown",
   "source": [
    "## Ninapro Experiment"
   ],
   "metadata": {
    "collapsed": false,
    "pycharm": {
     "name": "#%% md\n"
    }
   }
  },
  {
   "cell_type": "code",
   "execution_count": null,
   "outputs": [],
   "source": [
    "pl.seed_everything(42, workers=True)\n",
    "model_ninapro = OriginalModel(52, 1, 10)\n",
    "classifier = Classifier(model_ninapro, optim_kwargs={'lr': 0.001, 'weight_decay': 0.0001},\n",
    "                        monitor='val_accuracy', sched_kwargs={'patience': 4, 'mode': 'max'})\n",
    "logger_ninapro = WandbLogger(project=\"EMG Armband\", name=\"NinaPro\")\n",
    "data_module_ninapro = NinaProDataModule(\n",
    "    batch_size=1000\n",
    ")\n",
    "early_stop_callback = EarlyStopping(monitor='val_accuracy', patience=7, mode='max')\n",
    "trainer_ninapro = pl.Trainer(gpus=-1, max_epochs=100, logger=logger_ninapro, accelerator=\"gpu\", callbacks=[early_stop_callback])"
   ],
   "metadata": {
    "collapsed": false,
    "pycharm": {
     "name": "#%%\n"
    }
   }
  },
  {
   "cell_type": "code",
   "execution_count": null,
   "outputs": [],
   "source": [
    "trainer_ninapro.fit(model=classifier, datamodule=data_module_ninapro)"
   ],
   "metadata": {
    "collapsed": false,
    "pycharm": {
     "name": "#%%\n"
    }
   }
  },
  {
   "cell_type": "code",
   "execution_count": null,
   "outputs": [],
   "source": [
    "trainer_ninapro.test(model=classifier, datamodule=data_module_ninapro)"
   ],
   "metadata": {
    "collapsed": false,
    "pycharm": {
     "name": "#%%\n"
    }
   }
  },
  {
   "cell_type": "code",
   "execution_count": null,
   "outputs": [],
   "source": [
    "torch.save(model_capgmyo_chinese.state_dict(), os.path.join(MODELS_FOLDER, 'ninapro.pt'))"
   ],
   "metadata": {
    "collapsed": false,
    "pycharm": {
     "name": "#%%\n"
    }
   }
  },
  {
   "cell_type": "markdown",
   "source": [
    "## MyoArmband Experiment"
   ],
   "metadata": {
    "collapsed": false,
    "pycharm": {
     "name": "#%% md\n"
    }
   }
  },
  {
   "cell_type": "code",
   "execution_count": null,
   "outputs": [],
   "source": [
    "pl.seed_everything(42, workers=True)\n",
    "model_myoarmband = OriginalModel(7, 1, 8)\n",
    "classifier = Classifier(model_myoarmband, optim_kwargs={'lr': 0.001, 'weight_decay': 0.0001},\n",
    "                        monitor='val_accuracy', sched_kwargs={'patience': 4, 'mode': 'max'})\n",
    "logger_myoarmband = WandbLogger(project=\"EMG Armband\", name=\"MyoArmband\")\n",
    "transform = Compose([\n",
    "    ToTensor(),\n",
    "    Normalize(0, 1)\n",
    "])\n",
    "data_module_myoarmband = MyoArmbandDataModule(\n",
    "    batch_size=10000,\n",
    "    num_workers=8,\n",
    "    train_transforms=transform,\n",
    "    val_transforms=transform,\n",
    "    test_transforms=transform,\n",
    ")\n",
    "early_stop_callback = EarlyStopping(monitor='val_accuracy', patience=7, mode='max')\n",
    "trainer_myoarmband = pl.Trainer(gpus=-1, max_epochs=100, logger=logger_myoarmband, accelerator=\"gpu\",\n",
    "                                callbacks=[early_stop_callback])"
   ],
   "metadata": {
    "collapsed": false,
    "pycharm": {
     "name": "#%%\n"
    }
   }
  },
  {
   "cell_type": "code",
   "execution_count": null,
   "outputs": [],
   "source": [
    "trainer_myoarmband.fit(model=classifier, datamodule=data_module_myoarmband)"
   ],
   "metadata": {
    "collapsed": false,
    "pycharm": {
     "name": "#%%\n"
    }
   }
  },
  {
   "cell_type": "code",
   "execution_count": null,
   "outputs": [],
   "source": [
    "trainer_myoarmband.test(model=classifier, datamodule=data_module_myoarmband)"
   ],
   "metadata": {
    "collapsed": false,
    "pycharm": {
     "name": "#%%\n"
    }
   }
  },
  {
   "cell_type": "code",
   "execution_count": null,
   "outputs": [],
   "source": [
    "torch.save(model_capgmyo_chinese.state_dict(), os.path.join(MODELS_FOLDER, 'myoarmband.pt'))"
   ],
   "metadata": {
    "collapsed": false,
    "pycharm": {
     "name": "#%%\n"
    }
   }
  },
  {
   "cell_type": "markdown",
   "source": [
    "## XGB Experiments"
   ],
   "metadata": {
    "collapsed": false,
    "pycharm": {
     "name": "#%% md\n"
    }
   }
  },
  {
   "cell_type": "markdown",
   "source": [
    "#### XGB CapgMyo"
   ],
   "metadata": {
    "collapsed": false,
    "pycharm": {
     "name": "#%% md\n"
    }
   }
  },
  {
   "cell_type": "code",
   "execution_count": null,
   "outputs": [],
   "source": [
    "logger_xgb_capgmyo = WandbLogger(project=\"EMG Armband\", name=\"CapgMyoXGB\")\n",
    "adjusted_model = model_capgmyo\n",
    "adjusted_model.model = adjusted_model.model[0:26]\n",
    "xgb_classifier = LightningXGBClassifier(adjusted_model, 8, monitor='val_accuracy')\n",
    "trainer_xgb = pl.Trainer(max_epochs=2, accelerator=\"cpu\", logger=logger_xgb_capgmyo, num_sanity_val_steps=0)\n",
    "data_module_xgb = CapgMyoDataModule(\n",
    "    batch_size=1000,\n",
    "    num_workers=3\n",
    ")"
   ],
   "metadata": {
    "collapsed": false,
    "pycharm": {
     "name": "#%%\n"
    }
   }
  },
  {
   "cell_type": "code",
   "execution_count": null,
   "outputs": [],
   "source": [
    "trainer_xgb.fit(model=xgb_classifier, datamodule=data_module_xgb)"
   ],
   "metadata": {
    "collapsed": false,
    "pycharm": {
     "name": "#%%\n"
    }
   }
  },
  {
   "cell_type": "code",
   "execution_count": null,
   "outputs": [],
   "source": [
    "trainer_xgb.test(model=xgb_classifier, datamodule=data_module_xgb)"
   ],
   "metadata": {
    "collapsed": false,
    "pycharm": {
     "name": "#%%\n"
    }
   }
  },
  {
   "cell_type": "code",
   "execution_count": null,
   "outputs": [],
   "source": [
    "xgb_classifier.xgbmodel.save_model(os.path.join(MODELS_FOLDER, \"xgb_capgmyo.json\"))"
   ],
   "metadata": {
    "collapsed": false,
    "pycharm": {
     "name": "#%%\n"
    }
   }
  },
  {
   "cell_type": "markdown",
   "source": [
    "#### XGB Ninapro"
   ],
   "metadata": {
    "collapsed": false,
    "pycharm": {
     "name": "#%% md\n"
    }
   }
  },
  {
   "cell_type": "code",
   "execution_count": null,
   "outputs": [],
   "source": [
    "logger_xgb_ninapro = WandbLogger(project=\"EMG Armband\", name=\"NinaproXGB\")\n",
    "adjusted_model = model_ninapro\n",
    "adjusted_model.model = adjusted_model.model[0:26]\n",
    "xgb_classifier = LightningXGBClassifier(adjusted_model, 10)\n",
    "trainer_xgb = pl.Trainer(max_epochs=2, accelerator=\"cpu\", logger=logger_xgb_ninapro, num_sanity_val_steps=0)\n",
    "data_module_xgb = NinaProDataModule(\n",
    "    batch_size=1000,\n",
    "    num_workers=3\n",
    ")"
   ],
   "metadata": {
    "collapsed": false,
    "pycharm": {
     "name": "#%%\n"
    }
   }
  },
  {
   "cell_type": "code",
   "execution_count": null,
   "outputs": [],
   "source": [
    "trainer_xgb.fit(model=xgb_classifier, datamodule=data_module_xgb)"
   ],
   "metadata": {
    "collapsed": false,
    "pycharm": {
     "name": "#%%\n"
    }
   }
  },
  {
   "cell_type": "code",
   "execution_count": null,
   "outputs": [],
   "source": [
    "trainer_xgb.test(model=xgb_classifier, datamodule=data_module_xgb)"
   ],
   "metadata": {
    "collapsed": false,
    "pycharm": {
     "name": "#%%\n"
    }
   }
  },
  {
   "cell_type": "code",
   "execution_count": null,
   "outputs": [],
   "source": [
    "xgb_classifier.xgbmodel.save_model(os.path.join(MODELS_FOLDER, \"xgb_ninapro.json\"))"
   ],
   "metadata": {
    "collapsed": false,
    "pycharm": {
     "name": "#%%\n"
    }
   }
  },
  {
   "cell_type": "markdown",
   "source": [
    "#### XGB MyoArmband"
   ],
   "metadata": {
    "collapsed": false,
    "pycharm": {
     "name": "#%% md\n"
    }
   }
  },
  {
   "cell_type": "code",
   "execution_count": null,
   "outputs": [],
   "source": [
    "logger_xgb_myoarmband = WandbLogger(project=\"EMG Armband\", name=\"MyoArmbandXGB\")\n",
    "adjusted_model = model_myoarmband\n",
    "adjusted_model.model = adjusted_model.model[0:26]\n",
    "xgb_classifier = LightningXGBClassifier(adjusted_model, 8)\n",
    "trainer_xgb = pl.Trainer(max_epochs=2, accelerator=\"cpu\", logger=logger_xgb_myoarmband, num_sanity_val_steps=0)\n",
    "data_module_xgb = MyoArmbandDataModule(\n",
    "    batch_size=1000,\n",
    "    num_workers=3\n",
    ")"
   ],
   "metadata": {
    "collapsed": false,
    "pycharm": {
     "name": "#%%\n"
    }
   }
  },
  {
   "cell_type": "code",
   "execution_count": null,
   "outputs": [],
   "source": [
    "trainer_xgb.fit(model=xgb_classifier, datamodule=data_module_xgb)"
   ],
   "metadata": {
    "collapsed": false,
    "pycharm": {
     "name": "#%%\n"
    }
   }
  },
  {
   "cell_type": "code",
   "execution_count": null,
   "outputs": [],
   "source": [
    "trainer_xgb.test(model=xgb_classifier, datamodule=data_module_xgb)"
   ],
   "metadata": {
    "collapsed": false,
    "pycharm": {
     "name": "#%%\n"
    }
   }
  },
  {
   "cell_type": "code",
   "execution_count": null,
   "outputs": [],
   "source": [
    "xgb_classifier.xgbmodel.save_model(os.path.join(MODELS_FOLDER, \"xgb_myoarmband.json\"))"
   ],
   "metadata": {
    "collapsed": false,
    "pycharm": {
     "name": "#%%\n"
    }
   }
  }
 ],
 "metadata": {
  "kernelspec": {
   "display_name": "Python 3",
   "language": "python",
   "name": "python3"
  },
  "language_info": {
   "codemirror_mode": {
    "name": "ipython",
    "version": 2
   },
   "file_extension": ".py",
   "mimetype": "text/x-python",
   "name": "python",
   "nbconvert_exporter": "python",
   "pygments_lexer": "ipython2",
   "version": "2.7.6"
  }
 },
 "nbformat": 4,
 "nbformat_minor": 0
}